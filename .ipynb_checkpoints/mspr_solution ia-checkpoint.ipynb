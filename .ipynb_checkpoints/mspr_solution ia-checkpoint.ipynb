{
 "cells": [
  {
   "cell_type": "code",
   "execution_count": null,
   "id": "43c04cab-3565-4710-bda9-b2fec8e9878c",
   "metadata": {},
   "outputs": [],
   "source": [
    "!pip install pyspark\n"
   ]
  },
  {
   "cell_type": "code",
   "execution_count": null,
   "id": "ffeb6fdc",
   "metadata": {},
   "outputs": [],
   "source": [
    "import os\n",
    "os.environ['PYARROW_IGNORE_TIMEZONE'] = '1'\n",
    "import pandas as pd\n",
    "import numpy as np\n",
    "import pyspark.pandas as ps\n",
    "from pyspark.sql import SparkSession\n",
    "from pyspark.sql.functions import avg, col,min,max,mean\n",
    "import time\n"
   ]
  },
  {
   "cell_type": "code",
   "execution_count": null,
   "id": "d9a5b620-d767-42d8-958e-97f633ef01db",
   "metadata": {},
   "outputs": [],
   "source": [
    "from pyspark.sql.types import StructType, StructField, StringType, IntegerType, LongType, DoubleType, TimestampType\n",
    "\n",
    "# Schéma de la donnée\n",
    "schema = StructType([\n",
    "    StructField(\"event_time\", TimestampType(), True),\n",
    "    StructField(\"event_type\", StringType(), True),\n",
    "    StructField(\"product_id\", IntegerType(), True),\n",
    "    StructField(\"category_id\", LongType(), True),\n",
    "    StructField(\"category_code\", StringType(), True),\n",
    "    StructField(\"brand\", StringType(), True),\n",
    "    StructField(\"price\", DoubleType(), True),\n",
    "    StructField(\"user_id\", IntegerType(), True),\n",
    "    StructField(\"user_session\", StringType(), True)\n",
    "])\n"
   ]
  },
  {
   "cell_type": "code",
   "execution_count": 5,
   "id": "ed0b63fc",
   "metadata": {},
   "outputs": [
    {
     "name": "stdout",
     "output_type": "stream",
     "text": [
      "Temps de chargement des données: 0.08 secondes\n"
     ]
    }
   ],
   "source": [
    "from pyspark.sql import SparkSession\n",
    "\n",
    "# Crée une session Spark\n",
    "start_time = time.time()\n",
    "\n",
    "# spark = SparkSession.builder \\\n",
    "#     .appName(\"YourAppName\") \\\n",
    "#     .config(\"spark.driver.maxResultSize\", \"4g\") \\\n",
    "#     .getOrCreate()\n",
    "\n",
    "spark = SparkSession.builder \\\n",
    "    .appName(\"MyApp\") \\\n",
    "    .config(\"spark.driver.memory\", \"4g\") \\\n",
    "    .config(\"spark.executor.memory\", \"4g\") \\\n",
    "    .getOrCreate()\n",
    "\n",
    "# oct = \"/home/amine/Desktop/EPSI/MSPR2-IA/DATA/2019-Oct.csv\"\n",
    "# nov = \"/home/amine/Desktop/EPSI/MSPR2-IA/DATA/2019-Nov.csv\"\n",
    "# dec = \"/home/amine/Desktop/EPSI/MSPR2-IA/DATA/2019-Dec.csv\"\n",
    "# jan = \"/home/amine/Desktop/EPSI/MSPR2-IA/DATA/2020-Jan.csv\"\n",
    "feb = \"C:/Users/ghaze/Desktop/2020-Feb.csv\"\n",
    "# mar = \"/home/amine/Desktop/EPSI/MSPR2-IA/DATA/2020-Mar.csv\"\n",
    "# apr = \"/home/amine/Desktop/EPSI/MSPR2-IA/DATA/2020-Apr.csv\"\n",
    "\n",
    "# oct_df = spark.read.csv(oct, header=True, schema=schema, sep=',')\n",
    "# nov_df = spark.read.csv(nov, header=True, schema=schema, sep=',')\n",
    "# dec_df = spark.read.csv(dec, header=True, schema=schema, sep=',')\n",
    "# jan_df = spark.read.csv(jan, header=True, schema=schema, sep=',')\n",
    "feb_df = spark.read.csv(feb, header=True, schema=schema, sep=',')\n",
    "\n",
    "#feb_df = ps.read_csv(feb, sep=\",\", header=\"infer\", parse_dates=False)\n",
    "# mar_df = spark.read.csv(mar, header=True, schema=schema, sep=',')\n",
    "# apr_df = spark.read.csv(apr, header=True, schema=schema, sep=',')\n",
    "\n",
    "end_time = time.time()\n",
    "\n",
    "loading_time = end_time - start_time\n",
    "print(f\"Temps de chargement des données: {loading_time:.2f} secondes\")\n"
   ]
  },
  {
   "cell_type": "code",
   "execution_count": 6,
   "id": "aa9a2c17",
   "metadata": {},
   "outputs": [
    {
     "name": "stdout",
     "output_type": "stream",
     "text": [
      "root\n",
      " |-- event_time: timestamp (nullable = true)\n",
      " |-- event_type: string (nullable = true)\n",
      " |-- product_id: integer (nullable = true)\n",
      " |-- category_id: long (nullable = true)\n",
      " |-- category_code: string (nullable = true)\n",
      " |-- brand: string (nullable = true)\n",
      " |-- price: double (nullable = true)\n",
      " |-- user_id: integer (nullable = true)\n",
      " |-- user_session: string (nullable = true)\n",
      "\n",
      "FEB: None\n",
      "Nombre de lignes FEB: 55318565\n"
     ]
    }
   ],
   "source": [
    "# nombre_lignes_oct = oct_df.count()\n",
    "# nombre_lignes_nov = nov_df.count()\n",
    "# nombre_lignes_dec = dec_df.count()\n",
    "# nombre_lignes_jan = jan_df.count()\n",
    "nombre_lignes_feb = feb_df.count()\n",
    "# nombre_lignes_mar = mar_df.count()\n",
    "# nombre_lignes_apr = apr_df.count()\n",
    "\n",
    "# print(f\" OCT: {oct_df.printSchema()}\")\n",
    "# print(f\"NOV: {nov_df.printSchema()}\")\n",
    "# print(f\"DEC: {dec_df.printSchema()}\")\n",
    "# print(f\"JAN: {jan_df.printSchema()}\")\n",
    "print(f\"FEB: {feb_df.printSchema()}\")\n",
    "# print(f\"MAR: {mar_df.printSchema()}\")\n",
    "# print(f\"APR: {apr_df.printSchema()}\")\n",
    "\n",
    "\n",
    "# print(f\"Nombre de lignes OCT: {nombre_lignes_oct}\")\n",
    "# print(f\"Nombre de lignes NOV: {nombre_lignes_nov}\")\n",
    "# print(f\"Nombre de lignes DEC: {nombre_lignes_dec}\")\n",
    "# print(f\"Nombre de lignes JAN: {nombre_lignes_jan}\")\n",
    "print(f\"Nombre de lignes FEB: {nombre_lignes_feb}\")\n",
    "# print(f\"Nombre de lignes MAR: {nombre_lignes_mar}\")\n",
    "# print(f\"Nombre de lignes APR: {nombre_lignes_apr}\")"
   ]
  },
  {
   "cell_type": "code",
   "execution_count": 7,
   "id": "015ae211",
   "metadata": {},
   "outputs": [
    {
     "name": "stdout",
     "output_type": "stream",
     "text": [
      "+-------------------+----------+----------+-------------------+--------------------+-------+-------+---------+--------------------+\n",
      "|         event_time|event_type|product_id|        category_id|       category_code|  brand|  price|  user_id|        user_session|\n",
      "+-------------------+----------+----------+-------------------+--------------------+-------+-------+---------+--------------------+\n",
      "|2020-02-01 01:00:00|      view| 100010426|2232732115290555244|       apparel.shoes|   NULL|  19.31|581521975|82d5664d-7980-43e...|\n",
      "|2020-02-01 01:00:00|      view| 100071077|2232732079706079299|       sport.bicycle|  crown|  11.88|596313635|3df590c0-e667-4f5...|\n",
      "|2020-02-01 01:00:00|      view|   1004665|2232732093077520756|construction.tool...|samsung| 838.23|608821035|3e271f43-db51-46b...|\n",
      "|2020-02-01 01:00:01|      view|   1002544|2232732093077520756|construction.tool...|  apple| 410.42|530488542|21f46782-fb36-4d5...|\n",
      "|2020-02-01 01:00:01|      view| 100010151|2053013563835941749|appliances.kitche...| pulser| 332.03|583795643|eddfe0e2-12f8-435...|\n",
      "|2020-02-01 01:00:02|      view|   5000108|2232732102950912587|appliances.sewing...| janome| 127.56|513854134|d2e0ec81-b785-48f...|\n",
      "|2020-02-01 01:00:02|      view|   6501012|2232732103462617687|apparel.shoes.sli...| asrock|  46.02|514092189|fcf181e8-56b3-474...|\n",
      "|2020-02-01 01:00:02|      view|  15100003|2232732107413652135|      apparel.shorts|     sv| 874.93|588332465|7f5c4c88-4a05-4c6...|\n",
      "|2020-02-01 01:00:02|      view|  15100229|2232732107413652135|      apparel.shorts|   NULL| 887.02|594768603|4db2a707-8548-4f6...|\n",
      "|2020-02-01 01:00:02|      view|   1005115|2232732093077520756|construction.tool...|  apple| 806.61|608822150|50d1339f-561e-41f...|\n",
      "|2020-02-01 01:00:03|      view|  15901490|2053013566142809077|construction.tool...|   NULL|  46.33|518459407|c2a1a5e4-7bf2-498...|\n",
      "|2020-02-01 01:00:03|      view|   1004648|2232732093077520756|construction.tool...|samsung|  563.7|608821035|3e271f43-db51-46b...|\n",
      "|2020-02-01 01:00:04|      view|  28717124|2232732097842250207|  apparel.shoes.keds|respect|  31.92|512437914|b9244c98-22a1-4c7...|\n",
      "|2020-02-01 01:00:04|      view|   1005284|2232732093077520756|construction.tool...|samsung|2187.68|513239057|83c6453a-6415-442...|\n",
      "|2020-02-01 01:00:05|      view|  17200720|2232732090980368698|furniture.living_...|   rals| 532.91|519398356|e2d8e72b-afee-41b...|\n",
      "|2020-02-01 01:00:05|      view|  10900224|2232732105912091273|appliances.kitche...|redmond|  48.63|519194270|96326c64-d2c2-4a8...|\n",
      "|2020-02-01 01:00:06|      cart|   1005100|2232732093077520756|construction.tool...|samsung| 140.28|608822162|8062ce43-662e-4b6...|\n",
      "|2020-02-01 01:00:06|      view|   5701024|2053013554415534427|electronics.video.tv|kenwood| 120.98|531481119|162a856a-f800-4ca...|\n",
      "|2020-02-01 01:00:06|      view|   1004767|2232732093077520756|construction.tool...|samsung| 226.18|561966169|0a014c51-f0f3-404...|\n",
      "|2020-02-01 01:00:06|      view|   5100337|2232732103101907535|  electronics.clocks|  apple| 308.85|559727899|9e1fe23c-2d1a-4cf...|\n",
      "+-------------------+----------+----------+-------------------+--------------------+-------+-------+---------+--------------------+\n",
      "only showing top 20 rows\n",
      "\n"
     ]
    }
   ],
   "source": [
    "# oct_df.show()\n",
    "# nov_df.show()\n",
    "# dec_df.show()\n",
    "# jan_df.show()\n",
    "feb_df.show()\n",
    "# mar_df.show()\n",
    "# apr_df.show()"
   ]
  },
  {
   "cell_type": "code",
   "execution_count": null,
   "id": "4219666e",
   "metadata": {},
   "outputs": [],
   "source": [
    "\n",
    "# amazing_df = pdf[pdf['category_code'] == 'Amazing']\n",
    "# amazing_df.count()"
   ]
  },
  {
   "cell_type": "code",
   "execution_count": null,
   "id": "9885a3a7",
   "metadata": {},
   "outputs": [],
   "source": [
    "pip install matplotlib"
   ]
  },
  {
   "cell_type": "code",
   "execution_count": null,
   "id": "e3afa762",
   "metadata": {},
   "outputs": [],
   "source": [
    "# import matplotlib.pyplot as plt\n",
    "\n",
    "# pdf['category_code'] = pdf['category_code'].astype(str)\n",
    "# pdf['count'] = pdf['count'].astype(int)\n",
    "# pdf_sorted = pdf.sort_values(by='count', ascending=False)\n",
    "\n",
    "\n",
    "# top_10_pdf = pdf_sorted.head(10)\n",
    "# # Graphique des marques avec Matplotlib\n",
    "# plt.figure(figsize=(12, 6))\n",
    "# plt.bar(top_10_pdf['category_code'], top_10_pdf['count'], color='skyblue')df\n",
    "# plt.xlabel('Marque')\n",
    "# plt.ylabel('Nombre de produits')\n",
    "# plt.title('Nombre de produits par marque')\n",
    "# plt.xticks(rotation=90)\n",
    "# plt.show()\n",
    "\n",
    "# pdf.head()\n",
    "# spark.stop()"
   ]
  },
  {
   "cell_type": "code",
   "execution_count": null,
   "id": "f19e8da7",
   "metadata": {},
   "outputs": [],
   "source": [
    "# top_10_pdf.head()"
   ]
  },
  {
   "cell_type": "code",
   "execution_count": null,
   "id": "739004c2",
   "metadata": {},
   "outputs": [],
   "source": [
    "# pdf['event_type'].head()"
   ]
  },
  {
   "cell_type": "code",
   "execution_count": null,
   "id": "3389792b-ee58-43e4-abbb-cc92bacfa3cd",
   "metadata": {},
   "outputs": [],
   "source": [
    "feb_df_sans_doublons=feb_df.dropDuplicates()\n",
    "# nb_doublons=nombre_lignes_feb-feb_df_sans_doublons.count()\n"
   ]
  },
  {
   "cell_type": "code",
   "execution_count": 11,
   "id": "b65eaa2d-9e12-4707-b1fe-7151f8187d3f",
   "metadata": {},
   "outputs": [],
   "source": [
    "nb_doublons=nombre_lignes_feb-feb_df_sans_doublons.count()"
   ]
  },
  {
   "cell_type": "code",
   "execution_count": 12,
   "id": "58ac9f9e-701f-4425-9672-95b4aced7050",
   "metadata": {},
   "outputs": [
    {
     "name": "stdout",
     "output_type": "stream",
     "text": [
      "703916\n"
     ]
    }
   ],
   "source": [
    "print(nb_doublons)"
   ]
  },
  {
   "cell_type": "code",
   "execution_count": null,
   "id": "e86713a4",
   "metadata": {},
   "outputs": [],
   "source": [
    "feb_pdf.groupBy(\"user_id\")\n"
   ]
  },
  {
   "cell_type": "code",
   "execution_count": null,
   "id": "88e6fbb7-5ab6-4b9a-9b3c-cba954278db3",
   "metadata": {},
   "outputs": [],
   "source": []
  }
 ],
 "metadata": {
  "kernelspec": {
   "display_name": "Python 3 (ipykernel)",
   "language": "python",
   "name": "python3"
  },
  "language_info": {
   "codemirror_mode": {
    "name": "ipython",
    "version": 3
   },
   "file_extension": ".py",
   "mimetype": "text/x-python",
   "name": "python",
   "nbconvert_exporter": "python",
   "pygments_lexer": "ipython3",
   "version": "3.9.2"
  }
 },
 "nbformat": 4,
 "nbformat_minor": 5
}
