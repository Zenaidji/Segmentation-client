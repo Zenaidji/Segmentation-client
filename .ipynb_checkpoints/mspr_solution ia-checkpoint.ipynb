{
 "cells": [
  {
   "cell_type": "code",
   "execution_count": null,
   "id": "43c04cab-3565-4710-bda9-b2fec8e9878c",
   "metadata": {},
   "outputs": [],
   "source": [
    "!pip install pyspark\n"
   ]
  },
  {
   "cell_type": "code",
   "execution_count": 7,
   "id": "ffeb6fdc",
   "metadata": {},
   "outputs": [],
   "source": [
    "import os\n",
    "os.environ['PYARROW_IGNORE_TIMEZONE'] = '1'\n",
    "import pandas as pd\n",
    "import numpy as np\n",
    "import pyspark.pandas as ps\n",
    "from pyspark.sql import SparkSession\n",
    "from pyspark.sql.functions import avg, col,min,max,mean\n",
    "import time\n",
    "from pyspark.sql.functions import col, when, count, sum\n",
    "import matplotlib.pyplot as plt\n",
    "from pyspark.sql.types import StructType, StructField, StringType, IntegerType, LongType, DoubleType, TimestampType\n",
    "from pyspark.sql import SparkSession\n",
    "from pyspark.sql.functions import col, udf, count, sum, min, max, mean,countDistinct\n",
    "from pyspark.sql.types import IntegerType, FloatType\n",
    "from pyspark.sql.functions import year, month, dayofmonth, hour, datediff, lit\n",
    "\n",
    "\n",
    "\n"
   ]
  },
  {
   "cell_type": "code",
   "execution_count": 8,
   "id": "d9a5b620-d767-42d8-958e-97f633ef01db",
   "metadata": {},
   "outputs": [],
   "source": [
    "\n",
    "\n",
    "schema = StructType([\n",
    "    StructField(\"event_time\", TimestampType(), True),\n",
    "    StructField(\"event_type\", StringType(), True),\n",
    "    StructField(\"product_id\", IntegerType(), True),\n",
    "    StructField(\"category_id\", LongType(), True),\n",
    "    StructField(\"category_code\", StringType(), True),\n",
    "    StructField(\"brand\", StringType(), True),\n",
    "    StructField(\"price\", DoubleType(), True),\n",
    "    StructField(\"user_id\", IntegerType(), True),\n",
    "    StructField(\"user_session\", StringType(), True)\n",
    "])\n"
   ]
  },
  {
   "cell_type": "code",
   "execution_count": 9,
   "id": "300afd19",
   "metadata": {},
   "outputs": [],
   "source": [
    "\n",
    "\n",
    "spark = SparkSession.builder \\\n",
    "    .appName(\"clustering\") \\\n",
    "    .config(\"spark.executor.memory\", \"4g\") \\\n",
    "    .config(\"spark.driver.memory\", \"5g\") \\\n",
    "    .config(\"spark.executor.cores\", \"4\") \\\n",
    "    .config(\"spark.driver.maxResultSize\", \"2g\") \\\n",
    "    .getOrCreate()\n"
   ]
  },
  {
   "cell_type": "code",
   "execution_count": 10,
   "id": "b4d461c9",
   "metadata": {},
   "outputs": [],
   "source": [
    "\n",
    "\n",
    "## Charger les fichiers CSV avec le schéma défini\n",
    "octobre_df = spark.read.csv(\"/home/ghani/Bureau/Data/2019-Oct.csv\", header=True, schema=schema)\n",
    "novembre_df = spark.read.csv(\"/home/ghani/Bureau/Data/2019-Nov.csv\", header=True, schema=schema)\n",
    "decembre_df = spark.read.csv(\"/home/ghani/Bureau/Data/2019-Dec.csv\", header=True, schema=schema)\n",
    "janvier_df = spark.read.csv(\"/home/ghani/Bureau/Data/2020-Jan.csv\", header=True, schema=schema)\n",
    "fevrier_df = spark.read.csv(\"/home/ghani/Bureau/Data/2020-Feb.csv\", header=True, schema=schema)\n",
    "mars_df = spark.read.csv(\"/home/ghani/Bureau/Data/2020-Mar.csv\", header=True, schema=schema)\n",
    "avril_df = spark.read.csv(\"/home/ghani/Bureau/Data/2020-Apr.csv\", header=True, schema=schema)\n",
    "\n",
    "\n"
   ]
  },
  {
   "cell_type": "code",
   "execution_count": 11,
   "id": "aa346990",
   "metadata": {},
   "outputs": [],
   "source": [
    "combined_df = (octobre_df\n",
    "               .union(novembre_df)\n",
    "               .union(decembre_df)\n",
    "               .union(janvier_df)\n",
    "               .union(fevrier_df)\n",
    "               .union(mars_df)\n",
    "               .union(avril_df))\n",
    "\n",
    "# Prendre un échantillon de 10 % du DataFrame combiné\n",
    "combined_sample = combined_df.sample(withReplacement=False, fraction=0.1, seed=42)\n",
    "\n",
    "\n",
    "\n",
    "\n"
   ]
  },
  {
   "cell_type": "code",
   "execution_count": 12,
   "id": "5c0ef100",
   "metadata": {},
   "outputs": [
    {
     "name": "stderr",
     "output_type": "stream",
     "text": [
      "                                                                                \r"
     ]
    },
    {
     "name": "stdout",
     "output_type": "stream",
     "text": [
      "+-------------------+----------+----------+-------------------+--------------------+---------+-------+---------+--------------------+\n",
      "|         event_time|event_type|product_id|        category_id|       category_code|    brand|  price|  user_id|        user_session|\n",
      "+-------------------+----------+----------+-------------------+--------------------+---------+-------+---------+--------------------+\n",
      "|2019-10-01 02:00:08|      view|  31500053|2053013558031024687|                NULL| luminarc|  41.16|550978835|6280d577-25c8-414...|\n",
      "|2019-10-01 02:00:18|      view|   1801995|2053013554415534427|electronics.video.tv|    haier| 193.03|537192226|e3151795-c355-4ef...|\n",
      "|2019-10-01 02:00:19|      view|   1306631|2053013558920217191|  computers.notebook|       hp| 580.89|550050854|7c90fc70-0e80-459...|\n",
      "|2019-10-01 02:00:37|      view|   1701111|2053013553031414015|computers.periphe...|     acer| 514.79|547028884|3ea7c620-a8d7-45c...|\n",
      "|2019-10-01 02:00:44|      view|  26500313|2053013563550729061|                NULL|  lucente| 267.19|525856698|f72ea16b-4ec3-44f...|\n",
      "|2019-10-01 02:00:50|      view|   1005105|2053013555631882655|electronics.smart...|    apple|1415.48|529755884|0b828fb6-99bd-4d2...|\n",
      "|2019-10-01 02:00:55|      view|   1004659|2053013555631882655|electronics.smart...|  samsung| 787.18|512558158|9a206ba2-37c7-435...|\n",
      "|2019-10-01 02:01:00|      view|   3701062|2053013565983425517|appliances.enviro...|  gorenje|  90.07|515342595|0e30e1c0-4d3e-4e1...|\n",
      "|2019-10-01 02:01:06|      view|   1004856|2053013555631882655|electronics.smart...|  samsung| 130.76|555447788|94c1a98c-41a3-401...|\n",
      "|2019-10-01 02:01:15|      view|   1801555|2053013554415534427|electronics.video.tv|       lg| 462.25|537918940|406c46ed-90a4-478...|\n",
      "|2019-10-01 02:01:17|      view|  50500080|2127425438190928416|                NULL|   krause|  77.69|513642368|17566c27-0a8f-450...|\n",
      "|2019-10-01 02:01:30|      view|   3900930|2053013552326770905|appliances.enviro...|teploross|  90.32|555444559|98b88fa0-d8fa-4b9...|\n",
      "|2019-10-01 02:01:30|      view|   1005115|2053013555631882655|electronics.smart...|    apple| 975.57|514218020|d7c4761f-de75-454...|\n",
      "|2019-10-01 02:01:31|      view|  26200210|2053013563693335403|                NULL|     NULL|  98.84|555447493|8c3e1835-2196-402...|\n",
      "|2019-10-01 02:01:33|      view|   1801796|2053013554415534427|electronics.video.tv| elenberg| 411.83|537918940|406c46ed-90a4-478...|\n",
      "|2019-10-01 02:01:42|      view|   1004792|2053013555631882655|electronics.smart...|   xiaomi| 456.45|513457407|d6f9a1f2-f96f-422...|\n",
      "|2019-10-01 02:01:45|      view|   3701226|2053013565983425517|appliances.enviro...|  redmond| 149.24|555217733|74d40a28-41f9-432...|\n",
      "|2019-10-01 02:01:52|      view|   1003317|2053013555631882655|electronics.smart...|    apple| 957.53|512539408|3e686589-9b0c-4db...|\n",
      "|2019-10-01 02:01:58|      view|   4100274|2053013561218695907|                NULL|microsoft|  275.4|519885473|b70cb218-db90-401...|\n",
      "|2019-10-01 02:02:23|      view|  26201858|2053013563693335403|                NULL|     NULL| 235.01|548449430|99617d1c-1b5a-42f...|\n",
      "+-------------------+----------+----------+-------------------+--------------------+---------+-------+---------+--------------------+\n",
      "only showing top 20 rows\n",
      "\n"
     ]
    },
    {
     "name": "stderr",
     "output_type": "stream",
     "text": [
      "                                                                                \r"
     ]
    },
    {
     "data": {
      "text/plain": [
       "41176159"
      ]
     },
     "execution_count": 12,
     "metadata": {},
     "output_type": "execute_result"
    }
   ],
   "source": [
    "combined_sample.show()\n",
    "combined_sample.cache()\n",
    "combined_sample.count()\n"
   ]
  },
  {
   "cell_type": "code",
   "execution_count": null,
   "id": "547a1d95",
   "metadata": {},
   "outputs": [],
   "source": [
    "\n",
    "combined_sample.write.parquet('/home/ghani/Bureau/Data/combined_sample.parquet')\n",
    "combined_sample=spark.read.parquet('/home/ghani/Bureau/Data/combined_sample.parquet')\n"
   ]
  },
  {
   "cell_type": "code",
   "execution_count": 9,
   "id": "aa9a2c17",
   "metadata": {},
   "outputs": [
    {
     "name": "stderr",
     "output_type": "stream",
     "text": [
      "[Stage 5:======================================================>(424 + 2) / 426]\r"
     ]
    },
    {
     "name": "stdout",
     "output_type": "stream",
     "text": [
      "+----------+----------+----------+-----------+-------------+--------+--------+--------+------------+\n",
      "|event_time|event_type|product_id|category_id|category_code|   brand|   price| user_id|user_session|\n",
      "+----------+----------+----------+-----------+-------------+--------+--------+--------+------------+\n",
      "|  41176159|  41176159|  41176159|   41176159|     34659400|35608309|41176159|41176159|    41176129|\n",
      "+----------+----------+----------+-----------+-------------+--------+--------+--------+------------+\n",
      "\n"
     ]
    },
    {
     "name": "stderr",
     "output_type": "stream",
     "text": [
      "\r",
      "                                                                                \r"
     ]
    }
   ],
   "source": [
    "\n",
    "counts = combined_sample.select([count(col(c)).alias(c) for c in combined_sample.columns])\n",
    "\n",
    "counts.show()"
   ]
  },
  {
   "cell_type": "code",
   "execution_count": 14,
   "id": "1aa0e7be",
   "metadata": {},
   "outputs": [
    {
     "name": "stderr",
     "output_type": "stream",
     "text": [
      "24/06/15 20:07:18 WARN RowBasedKeyValueBatch: Calling spill() on RowBasedKeyValueBatch. Will not spill but return 0.\n",
      "24/06/15 20:07:18 WARN RowBasedKeyValueBatch: Calling spill() on RowBasedKeyValueBatch. Will not spill but return 0.\n",
      "24/06/15 20:07:21 WARN RowBasedKeyValueBatch: Calling spill() on RowBasedKeyValueBatch. Will not spill but return 0.\n",
      "24/06/15 20:07:21 WARN RowBasedKeyValueBatch: Calling spill() on RowBasedKeyValueBatch. Will not spill but return 0.\n",
      "24/06/15 20:07:22 WARN RowBasedKeyValueBatch: Calling spill() on RowBasedKeyValueBatch. Will not spill but return 0.\n",
      "24/06/15 20:07:22 WARN RowBasedKeyValueBatch: Calling spill() on RowBasedKeyValueBatch. Will not spill but return 0.\n",
      "24/06/15 20:07:23 WARN RowBasedKeyValueBatch: Calling spill() on RowBasedKeyValueBatch. Will not spill but return 0.\n",
      "24/06/15 20:07:24 WARN RowBasedKeyValueBatch: Calling spill() on RowBasedKeyValueBatch. Will not spill but return 0.\n",
      "24/06/15 20:07:37 WARN RowBasedKeyValueBatch: Calling spill() on RowBasedKeyValueBatch. Will not spill but return 0.\n",
      "24/06/15 20:07:37 WARN RowBasedKeyValueBatch: Calling spill() on RowBasedKeyValueBatch. Will not spill but return 0.\n",
      "24/06/15 20:07:37 WARN RowBasedKeyValueBatch: Calling spill() on RowBasedKeyValueBatch. Will not spill but return 0.\n",
      "24/06/15 20:07:37 WARN RowBasedKeyValueBatch: Calling spill() on RowBasedKeyValueBatch. Will not spill but return 0.\n",
      "24/06/15 20:07:37 WARN RowBasedKeyValueBatch: Calling spill() on RowBasedKeyValueBatch. Will not spill but return 0.\n",
      "24/06/15 20:07:37 WARN RowBasedKeyValueBatch: Calling spill() on RowBasedKeyValueBatch. Will not spill but return 0.\n",
      "24/06/15 20:07:37 WARN RowBasedKeyValueBatch: Calling spill() on RowBasedKeyValueBatch. Will not spill but return 0.\n",
      "24/06/15 20:07:37 WARN RowBasedKeyValueBatch: Calling spill() on RowBasedKeyValueBatch. Will not spill but return 0.\n",
      "24/06/15 20:07:49 WARN RowBasedKeyValueBatch: Calling spill() on RowBasedKeyValueBatch. Will not spill but return 0.\n",
      "24/06/15 20:07:49 WARN RowBasedKeyValueBatch: Calling spill() on RowBasedKeyValueBatch. Will not spill but return 0.\n",
      "24/06/15 20:07:49 WARN RowBasedKeyValueBatch: Calling spill() on RowBasedKeyValueBatch. Will not spill but return 0.\n",
      "24/06/15 20:07:49 WARN RowBasedKeyValueBatch: Calling spill() on RowBasedKeyValueBatch. Will not spill but return 0.\n",
      "24/06/15 20:07:49 WARN RowBasedKeyValueBatch: Calling spill() on RowBasedKeyValueBatch. Will not spill but return 0.\n",
      "24/06/15 20:07:49 WARN RowBasedKeyValueBatch: Calling spill() on RowBasedKeyValueBatch. Will not spill but return 0.\n",
      "24/06/15 20:07:49 WARN RowBasedKeyValueBatch: Calling spill() on RowBasedKeyValueBatch. Will not spill but return 0.\n",
      "24/06/15 20:07:49 WARN RowBasedKeyValueBatch: Calling spill() on RowBasedKeyValueBatch. Will not spill but return 0.\n",
      "[Stage 10:======================================================> (28 + 1) / 29]\r"
     ]
    },
    {
     "name": "stdout",
     "output_type": "stream",
     "text": [
      "+----------+----------+----------+-----------+-------------+-----+------+-------+------------+\n",
      "|event_time|event_type|product_id|category_id|category_code|brand| price|user_id|user_session|\n",
      "+----------+----------+----------+-----------+-------------+-----+------+-------+------------+\n",
      "|  14244974|         3|    330784|       1317|          140| 6141|116978|7531985|    26246458|\n",
      "+----------+----------+----------+-----------+-------------+-----+------+-------+------------+\n",
      "\n"
     ]
    },
    {
     "name": "stderr",
     "output_type": "stream",
     "text": [
      "\r",
      "                                                                                \r"
     ]
    }
   ],
   "source": [
    "\n",
    "category_code_distinc = combined_sample.select([countDistinct(col(c)).alias(c) for c in combined_sample.columns])\n",
    "\n",
    "category_code_distinc.show()\n",
    "\n"
   ]
  },
  {
   "cell_type": "code",
   "execution_count": 10,
   "id": "d8d77082",
   "metadata": {},
   "outputs": [
    {
     "name": "stderr",
     "output_type": "stream",
     "text": [
      "[Stage 8:=====================================================> (417 + 9) / 426]\r"
     ]
    },
    {
     "name": "stdout",
     "output_type": "stream",
     "text": [
      "+----------+----------+----------+-----------+-------------+-------+-----+-------+------------+\n",
      "|event_time|event_type|product_id|category_id|category_code|  brand|price|user_id|user_session|\n",
      "+----------+----------+----------+-----------+-------------+-------+-----+-------+------------+\n",
      "|         0|         0|         0|          0|      6516759|5567850|    0|      0|          30|\n",
      "+----------+----------+----------+-----------+-------------+-------+-----+-------+------------+\n",
      "\n"
     ]
    },
    {
     "name": "stderr",
     "output_type": "stream",
     "text": [
      "\r",
      "                                                                                \r"
     ]
    }
   ],
   "source": [
    "\n",
    "counts_null = combined_sample.select([sum(col(c).isNull().cast(\"int\")).alias(c) for c in combined_sample.columns])\n",
    "counts_null.show()"
   ]
  },
  {
   "cell_type": "code",
   "execution_count": 1,
   "id": "16a67404",
   "metadata": {},
   "outputs": [
    {
     "ename": "NameError",
     "evalue": "name 'combined_sample' is not defined",
     "output_type": "error",
     "traceback": [
      "\u001b[0;31m---------------------------------------------------------------------------\u001b[0m",
      "\u001b[0;31mNameError\u001b[0m                                 Traceback (most recent call last)",
      "Cell \u001b[0;32mIn[1], line 1\u001b[0m\n\u001b[0;32m----> 1\u001b[0m counts_null_brand_category \u001b[38;5;241m=\u001b[39m \u001b[43mcombined_sample\u001b[49m\u001b[38;5;241m.\u001b[39mselect(spark_sum((col(\u001b[38;5;124m\"\u001b[39m\u001b[38;5;124mcategory_code\u001b[39m\u001b[38;5;124m\"\u001b[39m)\u001b[38;5;241m.\u001b[39misNull()) \u001b[38;5;241m&\u001b[39m (col(\u001b[38;5;124m\"\u001b[39m\u001b[38;5;124mbrand\u001b[39m\u001b[38;5;124m\"\u001b[39m)\u001b[38;5;241m.\u001b[39misNull()))\u001b[38;5;241m.\u001b[39malias(\u001b[38;5;124m\"\u001b[39m\u001b[38;5;124mnull_count\u001b[39m\u001b[38;5;124m\"\u001b[39m))\n\u001b[1;32m      2\u001b[0m counts_null_brand_category\u001b[38;5;241m.\u001b[39mshow()\n",
      "\u001b[0;31mNameError\u001b[0m: name 'combined_sample' is not defined"
     ]
    }
   ],
   "source": [
    "counts_null_brand_category = combined_sample.select(spark_sum((col(\"category_code\").isNull()) & (col(\"brand\").isNull())).alias(\"null_count\"))\n",
    "counts_null_brand_category.show()"
   ]
  },
  {
   "cell_type": "code",
   "execution_count": 22,
   "id": "242d62b3",
   "metadata": {},
   "outputs": [
    {
     "name": "stderr",
     "output_type": "stream",
     "text": [
      "                                                                                \r"
     ]
    },
    {
     "data": {
      "text/html": [
       "<div>\n",
       "<style scoped>\n",
       "    .dataframe tbody tr th:only-of-type {\n",
       "        vertical-align: middle;\n",
       "    }\n",
       "\n",
       "    .dataframe tbody tr th {\n",
       "        vertical-align: top;\n",
       "    }\n",
       "\n",
       "    .dataframe thead th {\n",
       "        text-align: right;\n",
       "    }\n",
       "</style>\n",
       "<table border=\"1\" class=\"dataframe\">\n",
       "  <thead>\n",
       "    <tr style=\"text-align: right;\">\n",
       "      <th></th>\n",
       "      <th>event_type</th>\n",
       "      <th>nombre</th>\n",
       "    </tr>\n",
       "  </thead>\n",
       "  <tbody>\n",
       "    <tr>\n",
       "      <th>0</th>\n",
       "      <td>purchase</td>\n",
       "      <td>683963</td>\n",
       "    </tr>\n",
       "    <tr>\n",
       "      <th>1</th>\n",
       "      <td>view</td>\n",
       "      <td>38581843</td>\n",
       "    </tr>\n",
       "    <tr>\n",
       "      <th>2</th>\n",
       "      <td>cart</td>\n",
       "      <td>1910353</td>\n",
       "    </tr>\n",
       "  </tbody>\n",
       "</table>\n",
       "</div>"
      ],
      "text/plain": [
       "  event_type    nombre\n",
       "0   purchase    683963\n",
       "1       view  38581843\n",
       "2       cart   1910353"
      ]
     },
     "execution_count": 22,
     "metadata": {},
     "output_type": "execute_result"
    }
   ],
   "source": [
    "\n",
    "event_type_counts = combined_sample.groupBy(\"event_type\").agg(count(\"*\").alias(\"nombre\"))\n",
    "event_type_counts=event_type_counts.toPandas()\n",
    "event_type_counts.head()\n",
    "\n"
   ]
  },
  {
   "cell_type": "code",
   "execution_count": 36,
   "id": "7e45153d",
   "metadata": {},
   "outputs": [
    {
     "name": "stderr",
     "output_type": "stream",
     "text": [
      "[Stage 56:=====================================================>(425 + 1) / 426]\r"
     ]
    },
    {
     "name": "stdout",
     "output_type": "stream",
     "text": [
      "+-------+--------+\n",
      "|summary|   brand|\n",
      "+-------+--------+\n",
      "|  count|35608309|\n",
      "|   mean|     NaN|\n",
      "| stddev|     NaN|\n",
      "|    min|  a-case|\n",
      "|    max|   zyxel|\n",
      "+-------+--------+\n",
      "\n"
     ]
    },
    {
     "name": "stderr",
     "output_type": "stream",
     "text": [
      "\r",
      "                                                                                \r"
     ]
    }
   ],
   "source": [
    "combined_sample.describe(['price']).show()\n"
   ]
  },
  {
   "cell_type": "code",
   "execution_count": 35,
   "id": "8e3952aa",
   "metadata": {},
   "outputs": [
    {
     "name": "stderr",
     "output_type": "stream",
     "text": [
      "[Stage 53:=====================================================>(423 + 3) / 426]\r"
     ]
    },
    {
     "name": "stdout",
     "output_type": "stream",
     "text": [
      "+-------+--------------------+\n",
      "|summary|        user_session|\n",
      "+-------+--------------------+\n",
      "|  count|            41176129|\n",
      "|   mean|                NULL|\n",
      "| stddev|                NULL|\n",
      "|    min|00000083-8816-4d5...|\n",
      "|    max|ffffff78-77fa-457...|\n",
      "+-------+--------------------+\n",
      "\n"
     ]
    },
    {
     "name": "stderr",
     "output_type": "stream",
     "text": [
      "\r",
      "                                                                                \r"
     ]
    }
   ],
   "source": [
    "combined_sample.describe(['user_session']).show()"
   ]
  },
  {
   "cell_type": "code",
   "execution_count": 23,
   "id": "f03ea903",
   "metadata": {},
   "outputs": [
    {
     "data": {
      "image/png": "[encoded data removed]",
      "text/plain": [
       "<Figure size 1000x600 with 1 Axes>"
      ]
     },
     "metadata": {},
     "output_type": "display_data"
    }
   ],
   "source": [
    "\n",
    "total = event_type_counts['nombre'].sum()\n",
    "event_type_counts['percentage'] = (event_type_counts['nombre'] / total) * 100\n",
    "\n",
    "\n",
    "plt.figure(figsize=(10, 6))\n",
    "bars = plt.bar(event_type_counts['event_type'], event_type_counts['nombre'], color=['green', 'blue', 'red'])\n",
    "\n",
    "\n",
    "for bar, percentage in zip(bars, event_type_counts['percentage']):\n",
    "    yval = bar.get_height()\n",
    "    plt.text(bar.get_x() + bar.get_width()/2, yval, f'{percentage:.1f}%', va='bottom')  \n",
    "\n",
    "plt.xlabel('Event Type')\n",
    "plt.ylabel('Nombre')\n",
    "plt.title('Histogram of Event Types with Percentages')\n",
    "plt.show()"
   ]
  },
  {
   "cell_type": "code",
   "execution_count": null,
   "id": "da82e0d3",
   "metadata": {},
   "outputs": [],
   "source": [
    "\n",
    "\n",
    "# Supprimer les lignes avec des valeurs manquantes\n",
    "cleaned_df = sampled_df.dropna(how=\"all\")\n",
    "cleaned_df = sampled_df.filter()\n",
    "\n",
    "# Filtrer les outliers (exemple : transactions avec montant négatif)\n",
    "cleaned_df = cleaned_df.filter((col(\"amount\") > 0))\n",
    "\n",
    "# Cast des colonnes si nécessaire\n",
    "cleaned_df = cleaned_df.withColumn(\"amount\", col(\"amount\").cast(\"double\"))\n",
    "cleaned_df = cleaned_df.withColumn(\"transaction_id\", col(\"transaction_id\").cast(\"int\"))\n",
    "cleaned_df = cleaned_df.withColumn(\"customer_id\", col(\"customer_id\").cast(\"int\"))\n",
    "cleaned_df = cleaned_df.withColumn(\"date\", col(\"date\").cast(\"date\"))\n"
   ]
  },
  {
   "cell_type": "code",
   "execution_count": null,
   "id": "015ae211",
   "metadata": {},
   "outputs": [],
   "source": []
  },
  {
   "cell_type": "code",
   "execution_count": null,
   "id": "ad25c8a8",
   "metadata": {},
   "outputs": [],
   "source": [
    "#nombre de null pour chaque colonne\n",
    "#counts_null = data.select([count(when(col(c).isNull(), c)).alias(c) for c in data.columns])\n",
    "#counts_null.show()\n",
    "\n"
   ]
  },
  {
   "cell_type": "code",
   "execution_count": null,
   "id": "703c65ac",
   "metadata": {},
   "outputs": [],
   "source": [
    "\n",
    "\n",
    "'''counts_null = data.agg(*(sum(col(c).isNull().cast(\"integer\")).alias(c) for c in data.columns))\n",
    "counts_null.show()\n",
    "''''"
   ]
  },
  {
   "cell_type": "code",
   "execution_count": null,
   "id": "b209377e",
   "metadata": {},
   "outputs": [],
   "source": [
    "#data = data.dropna(how=\"all\")"
   ]
  },
  {
   "cell_type": "code",
   "execution_count": null,
   "id": "9a221912-4cd1-4aa2-a1ca-04382a3441a6",
   "metadata": {},
   "outputs": [],
   "source": [
    "#df = oct_df.fillna({'category_code': 'unknown', 'brand': 'unknown'})\n",
    "#df.show()"
   ]
  },
  {
   "cell_type": "code",
   "execution_count": null,
   "id": "9c3d0354-9f0a-4d58-9c68-0466a339956d",
   "metadata": {
    "scrolled": false
   },
   "outputs": [],
   "source": [
    "#df=df.filter(col(\"user_session\").isNotNull())\n",
    "#df.show()"
   ]
  },
  {
   "cell_type": "code",
   "execution_count": 5,
   "id": "c8d94ba5",
   "metadata": {},
   "outputs": [
    {
     "name": "stderr",
     "output_type": "stream",
     "text": [
      "                                                                                \r"
     ]
    },
    {
     "name": "stdout",
     "output_type": "stream",
     "text": [
      "+-------------------+----------+----------+-------------------+--------------------+--------+-------+---------+--------------------+\n",
      "|         event_time|event_type|product_id|        category_id|       category_code|   brand|  price|  user_id|        user_session|\n",
      "+-------------------+----------+----------+-------------------+--------------------+--------+-------+---------+--------------------+\n",
      "|2019-10-01 02:00:00|      view|  44600062|2103807459595387724|                NULL|shiseido|  35.79|541312140|72d76fde-8bb3-4e0...|\n",
      "|2019-10-01 02:00:00|      view|   3900821|2053013552326770905|appliances.enviro...|    aqua|   33.2|554748717|9333dfbd-b87a-470...|\n",
      "|2019-10-01 02:00:01|      view|  17200506|2053013559792632471|furniture.living_...|    NULL|  543.1|519107250|566511c2-e2e3-422...|\n",
      "|2019-10-01 02:00:01|      view|   1307067|2053013558920217191|  computers.notebook|  lenovo| 251.74|550050854|7c90fc70-0e80-459...|\n",
      "|2019-10-01 02:00:04|      view|   1004237|2053013555631882655|electronics.smart...|   apple|1081.98|535871217|c6bd7419-2748-4c5...|\n",
      "+-------------------+----------+----------+-------------------+--------------------+--------+-------+---------+--------------------+\n",
      "only showing top 5 rows\n",
      "\n"
     ]
    }
   ],
   "source": [
    "from pyspark.sql.functions import unix_timestamp, max as spark_max, sum as spark_sum, count as spark_count, col, udf\n",
    "from pyspark.sql.window import Window\n",
    "from pyspark.sql.types import IntegerType\n",
    "import datetime\n",
    "\n",
    "# Convertir la colonne event_time en timestamp\n",
    "data = data.withColumn(\"event_time\", unix_timestamp(col(\"event_time\"), \"yyyy-MM-dd HH:mm:ss\").cast(\"timestamp\"))\n",
    "\n",
    "# Filtrer les événements d'achat\n",
    "data_purchase = data.filter(col(\"event_type\") == \"purchase\")\n",
    "\n",
    "# Dernière date dans le jeu de données\n",
    "last_date = data.agg(spark_max(\"event_time\")).collect()[0][0] + datetime.timedelta(days=1)\n",
    "\n",
    "# Fonction UDF pour calculer la récence\n",
    "recency_udf = udf(lambda x: (last_date - x).days, IntegerType())\n",
    "\n",
    "# Calculer RFM\n",
    "rfm = data_purchase.groupBy(\"user_id\").agg(\n",
    "    recency_udf(spark_max(\"event_time\")).alias(\"Recency\"),\n",
    "    spark_count(\"user_session\").alias(\"Frequency\"),\n",
    "    spark_sum(\"price\").alias(\"Monetary\")\n",
    ")\n",
    "\n",
    "\n",
    "data.show(5)\n",
    "\n"
   ]
  },
  {
   "cell_type": "code",
   "execution_count": 6,
   "id": "f8f26d6a-cb47-45b3-88f6-21242bfb8b5e",
   "metadata": {},
   "outputs": [
    {
     "name": "stderr",
     "output_type": "stream",
     "text": [
      "ERROR:root:KeyboardInterrupt while sending command.              (16 + 8) / 428]\n",
      "Traceback (most recent call last):\n",
      "  File \"/home/ghani/.local/lib/python3.12/site-packages/py4j/java_gateway.py\", line 1038, in send_command\n",
      "    response = connection.send_command(command)\n",
      "               ^^^^^^^^^^^^^^^^^^^^^^^^^^^^^^^^\n",
      "  File \"/home/ghani/.local/lib/python3.12/site-packages/py4j/clientserver.py\", line 511, in send_command\n",
      "    answer = smart_decode(self.stream.readline()[:-1])\n",
      "                          ^^^^^^^^^^^^^^^^^^^^^^\n",
      "  File \"/usr/lib/python3.12/socket.py\", line 707, in readinto\n",
      "    return self._sock.recv_into(b)\n",
      "           ^^^^^^^^^^^^^^^^^^^^^^^\n",
      "KeyboardInterrupt\n",
      "[Stage 4:===>                                                    (24 + 8) / 428]\r"
     ]
    },
    {
     "ename": "KeyboardInterrupt",
     "evalue": "",
     "output_type": "error",
     "traceback": [
      "\u001b[0;31m---------------------------------------------------------------------------\u001b[0m",
      "\u001b[0;31mKeyboardInterrupt\u001b[0m                         Traceback (most recent call last)",
      "Cell \u001b[0;32mIn[6], line 1\u001b[0m\n\u001b[0;32m----> 1\u001b[0m \u001b[43mrfm\u001b[49m\u001b[38;5;241;43m.\u001b[39;49m\u001b[43mshow\u001b[49m\u001b[43m(\u001b[49m\u001b[38;5;241;43m5\u001b[39;49m\u001b[43m)\u001b[49m\n",
      "File \u001b[0;32m~/.local/lib/python3.12/site-packages/pyspark/sql/dataframe.py:945\u001b[0m, in \u001b[0;36mDataFrame.show\u001b[0;34m(self, n, truncate, vertical)\u001b[0m\n\u001b[1;32m    885\u001b[0m \u001b[38;5;28;01mdef\u001b[39;00m \u001b[38;5;21mshow\u001b[39m(\u001b[38;5;28mself\u001b[39m, n: \u001b[38;5;28mint\u001b[39m \u001b[38;5;241m=\u001b[39m \u001b[38;5;241m20\u001b[39m, truncate: Union[\u001b[38;5;28mbool\u001b[39m, \u001b[38;5;28mint\u001b[39m] \u001b[38;5;241m=\u001b[39m \u001b[38;5;28;01mTrue\u001b[39;00m, vertical: \u001b[38;5;28mbool\u001b[39m \u001b[38;5;241m=\u001b[39m \u001b[38;5;28;01mFalse\u001b[39;00m) \u001b[38;5;241m-\u001b[39m\u001b[38;5;241m>\u001b[39m \u001b[38;5;28;01mNone\u001b[39;00m:\n\u001b[1;32m    886\u001b[0m \u001b[38;5;250m    \u001b[39m\u001b[38;5;124;03m\"\"\"Prints the first ``n`` rows to the console.\u001b[39;00m\n\u001b[1;32m    887\u001b[0m \n\u001b[1;32m    888\u001b[0m \u001b[38;5;124;03m    .. versionadded:: 1.3.0\u001b[39;00m\n\u001b[0;32m   (...)\u001b[0m\n\u001b[1;32m    943\u001b[0m \u001b[38;5;124;03m    name | Bob\u001b[39;00m\n\u001b[1;32m    944\u001b[0m \u001b[38;5;124;03m    \"\"\"\u001b[39;00m\n\u001b[0;32m--> 945\u001b[0m     \u001b[38;5;28mprint\u001b[39m(\u001b[38;5;28;43mself\u001b[39;49m\u001b[38;5;241;43m.\u001b[39;49m\u001b[43m_show_string\u001b[49m\u001b[43m(\u001b[49m\u001b[43mn\u001b[49m\u001b[43m,\u001b[49m\u001b[43m \u001b[49m\u001b[43mtruncate\u001b[49m\u001b[43m,\u001b[49m\u001b[43m \u001b[49m\u001b[43mvertical\u001b[49m\u001b[43m)\u001b[49m)\n",
      "File \u001b[0;32m~/.local/lib/python3.12/site-packages/pyspark/sql/dataframe.py:963\u001b[0m, in \u001b[0;36mDataFrame._show_string\u001b[0;34m(self, n, truncate, vertical)\u001b[0m\n\u001b[1;32m    957\u001b[0m     \u001b[38;5;28;01mraise\u001b[39;00m PySparkTypeError(\n\u001b[1;32m    958\u001b[0m         error_class\u001b[38;5;241m=\u001b[39m\u001b[38;5;124m\"\u001b[39m\u001b[38;5;124mNOT_BOOL\u001b[39m\u001b[38;5;124m\"\u001b[39m,\n\u001b[1;32m    959\u001b[0m         message_parameters\u001b[38;5;241m=\u001b[39m{\u001b[38;5;124m\"\u001b[39m\u001b[38;5;124marg_name\u001b[39m\u001b[38;5;124m\"\u001b[39m: \u001b[38;5;124m\"\u001b[39m\u001b[38;5;124mvertical\u001b[39m\u001b[38;5;124m\"\u001b[39m, \u001b[38;5;124m\"\u001b[39m\u001b[38;5;124marg_type\u001b[39m\u001b[38;5;124m\"\u001b[39m: \u001b[38;5;28mtype\u001b[39m(vertical)\u001b[38;5;241m.\u001b[39m\u001b[38;5;18m__name__\u001b[39m},\n\u001b[1;32m    960\u001b[0m     )\n\u001b[1;32m    962\u001b[0m \u001b[38;5;28;01mif\u001b[39;00m \u001b[38;5;28misinstance\u001b[39m(truncate, \u001b[38;5;28mbool\u001b[39m) \u001b[38;5;129;01mand\u001b[39;00m truncate:\n\u001b[0;32m--> 963\u001b[0m     \u001b[38;5;28;01mreturn\u001b[39;00m \u001b[38;5;28;43mself\u001b[39;49m\u001b[38;5;241;43m.\u001b[39;49m\u001b[43m_jdf\u001b[49m\u001b[38;5;241;43m.\u001b[39;49m\u001b[43mshowString\u001b[49m\u001b[43m(\u001b[49m\u001b[43mn\u001b[49m\u001b[43m,\u001b[49m\u001b[43m \u001b[49m\u001b[38;5;241;43m20\u001b[39;49m\u001b[43m,\u001b[49m\u001b[43m \u001b[49m\u001b[43mvertical\u001b[49m\u001b[43m)\u001b[49m\n\u001b[1;32m    964\u001b[0m \u001b[38;5;28;01melse\u001b[39;00m:\n\u001b[1;32m    965\u001b[0m     \u001b[38;5;28;01mtry\u001b[39;00m:\n",
      "File \u001b[0;32m~/.local/lib/python3.12/site-packages/py4j/java_gateway.py:1321\u001b[0m, in \u001b[0;36mJavaMember.__call__\u001b[0;34m(self, *args)\u001b[0m\n\u001b[1;32m   1314\u001b[0m args_command, temp_args \u001b[38;5;241m=\u001b[39m \u001b[38;5;28mself\u001b[39m\u001b[38;5;241m.\u001b[39m_build_args(\u001b[38;5;241m*\u001b[39margs)\n\u001b[1;32m   1316\u001b[0m command \u001b[38;5;241m=\u001b[39m proto\u001b[38;5;241m.\u001b[39mCALL_COMMAND_NAME \u001b[38;5;241m+\u001b[39m\\\n\u001b[1;32m   1317\u001b[0m     \u001b[38;5;28mself\u001b[39m\u001b[38;5;241m.\u001b[39mcommand_header \u001b[38;5;241m+\u001b[39m\\\n\u001b[1;32m   1318\u001b[0m     args_command \u001b[38;5;241m+\u001b[39m\\\n\u001b[1;32m   1319\u001b[0m     proto\u001b[38;5;241m.\u001b[39mEND_COMMAND_PART\n\u001b[0;32m-> 1321\u001b[0m answer \u001b[38;5;241m=\u001b[39m \u001b[38;5;28;43mself\u001b[39;49m\u001b[38;5;241;43m.\u001b[39;49m\u001b[43mgateway_client\u001b[49m\u001b[38;5;241;43m.\u001b[39;49m\u001b[43msend_command\u001b[49m\u001b[43m(\u001b[49m\u001b[43mcommand\u001b[49m\u001b[43m)\u001b[49m\n\u001b[1;32m   1322\u001b[0m return_value \u001b[38;5;241m=\u001b[39m get_return_value(\n\u001b[1;32m   1323\u001b[0m     answer, \u001b[38;5;28mself\u001b[39m\u001b[38;5;241m.\u001b[39mgateway_client, \u001b[38;5;28mself\u001b[39m\u001b[38;5;241m.\u001b[39mtarget_id, \u001b[38;5;28mself\u001b[39m\u001b[38;5;241m.\u001b[39mname)\n\u001b[1;32m   1325\u001b[0m \u001b[38;5;28;01mfor\u001b[39;00m temp_arg \u001b[38;5;129;01min\u001b[39;00m temp_args:\n",
      "File \u001b[0;32m~/.local/lib/python3.12/site-packages/py4j/java_gateway.py:1038\u001b[0m, in \u001b[0;36mGatewayClient.send_command\u001b[0;34m(self, command, retry, binary)\u001b[0m\n\u001b[1;32m   1036\u001b[0m connection \u001b[38;5;241m=\u001b[39m \u001b[38;5;28mself\u001b[39m\u001b[38;5;241m.\u001b[39m_get_connection()\n\u001b[1;32m   1037\u001b[0m \u001b[38;5;28;01mtry\u001b[39;00m:\n\u001b[0;32m-> 1038\u001b[0m     response \u001b[38;5;241m=\u001b[39m \u001b[43mconnection\u001b[49m\u001b[38;5;241;43m.\u001b[39;49m\u001b[43msend_command\u001b[49m\u001b[43m(\u001b[49m\u001b[43mcommand\u001b[49m\u001b[43m)\u001b[49m\n\u001b[1;32m   1039\u001b[0m     \u001b[38;5;28;01mif\u001b[39;00m binary:\n\u001b[1;32m   1040\u001b[0m         \u001b[38;5;28;01mreturn\u001b[39;00m response, \u001b[38;5;28mself\u001b[39m\u001b[38;5;241m.\u001b[39m_create_connection_guard(connection)\n",
      "File \u001b[0;32m~/.local/lib/python3.12/site-packages/py4j/clientserver.py:511\u001b[0m, in \u001b[0;36mClientServerConnection.send_command\u001b[0;34m(self, command)\u001b[0m\n\u001b[1;32m    509\u001b[0m \u001b[38;5;28;01mtry\u001b[39;00m:\n\u001b[1;32m    510\u001b[0m     \u001b[38;5;28;01mwhile\u001b[39;00m \u001b[38;5;28;01mTrue\u001b[39;00m:\n\u001b[0;32m--> 511\u001b[0m         answer \u001b[38;5;241m=\u001b[39m smart_decode(\u001b[38;5;28;43mself\u001b[39;49m\u001b[38;5;241;43m.\u001b[39;49m\u001b[43mstream\u001b[49m\u001b[38;5;241;43m.\u001b[39;49m\u001b[43mreadline\u001b[49m\u001b[43m(\u001b[49m\u001b[43m)\u001b[49m[:\u001b[38;5;241m-\u001b[39m\u001b[38;5;241m1\u001b[39m])\n\u001b[1;32m    512\u001b[0m         logger\u001b[38;5;241m.\u001b[39mdebug(\u001b[38;5;124m\"\u001b[39m\u001b[38;5;124mAnswer received: \u001b[39m\u001b[38;5;132;01m{0}\u001b[39;00m\u001b[38;5;124m\"\u001b[39m\u001b[38;5;241m.\u001b[39mformat(answer))\n\u001b[1;32m    513\u001b[0m         \u001b[38;5;66;03m# Happens when a the other end is dead. There might be an empty\u001b[39;00m\n\u001b[1;32m    514\u001b[0m         \u001b[38;5;66;03m# answer before the socket raises an error.\u001b[39;00m\n",
      "File \u001b[0;32m/usr/lib/python3.12/socket.py:707\u001b[0m, in \u001b[0;36mSocketIO.readinto\u001b[0;34m(self, b)\u001b[0m\n\u001b[1;32m    705\u001b[0m \u001b[38;5;28;01mwhile\u001b[39;00m \u001b[38;5;28;01mTrue\u001b[39;00m:\n\u001b[1;32m    706\u001b[0m     \u001b[38;5;28;01mtry\u001b[39;00m:\n\u001b[0;32m--> 707\u001b[0m         \u001b[38;5;28;01mreturn\u001b[39;00m \u001b[38;5;28;43mself\u001b[39;49m\u001b[38;5;241;43m.\u001b[39;49m\u001b[43m_sock\u001b[49m\u001b[38;5;241;43m.\u001b[39;49m\u001b[43mrecv_into\u001b[49m\u001b[43m(\u001b[49m\u001b[43mb\u001b[49m\u001b[43m)\u001b[49m\n\u001b[1;32m    708\u001b[0m     \u001b[38;5;28;01mexcept\u001b[39;00m timeout:\n\u001b[1;32m    709\u001b[0m         \u001b[38;5;28mself\u001b[39m\u001b[38;5;241m.\u001b[39m_timeout_occurred \u001b[38;5;241m=\u001b[39m \u001b[38;5;28;01mTrue\u001b[39;00m\n",
      "\u001b[0;31mKeyboardInterrupt\u001b[0m: "
     ]
    }
   ],
   "source": [
    "rfm.show(5)"
   ]
  },
  {
   "cell_type": "code",
   "execution_count": null,
   "id": "754a05ea",
   "metadata": {},
   "outputs": [],
   "source": [
    "from pyspark.ml.clustering import KMeans\n",
    "from pyspark.ml.feature import VectorAssembler\n",
    "\n",
    "# Préparer les données pour K-means\n",
    "assembler = VectorAssembler(inputCols=[\"Recency\", \"Frequency\", \"Monetary\"], outputCol=\"features\")\n",
    "rfm_features = assembler.transform(rfm)\n",
    "\n",
    "# Appliquer K-means\n",
    "kmeans = KMeans(k=5, seed=1)  # Vous pouvez ajuster le nombre de clusters\n",
    "model = kmeans.fit(rfm_features)\n",
    "clusters = model.transform(rfm_features)\n",
    "\n",
    "\n",
    "centers = model.clusterCenters()\n",
    "print(\"Cluster Centers: \")\n",
    "for center in centers:\n",
    "    print(center)\n",
    "\n",
    "# Afficher les premières lignes des clusters\n",
    "clusters.show(5)\n"
   ]
  },
  {
   "cell_type": "code",
   "execution_count": null,
   "id": "9d4d7148",
   "metadata": {},
   "outputs": [],
   "source": [
    "cluster_analysis = clusters.groupBy(\"prediction\").agg(\n",
    "    avg(\"Recency\").alias(\"avg_recency\"),\n",
    "    avg(\"Frequency\").alias(\"avg_frequency\"),\n",
    "    avg(\"Monetary\").alias(\"avg_monetary\")\n",
    ")\n",
    "\n",
    "#import ace_tools as tools; tools.display_dataframe_to_user(name=\"Analyse des Clusters\", dataframe=cluster_analysis)\n",
    "\n",
    "# Afficher les résultats\n",
    "cluster_analysis.show()"
   ]
  },
  {
   "cell_type": "code",
   "execution_count": null,
   "id": "c6e697c6",
   "metadata": {},
   "outputs": [],
   "source": [
    "spark.stop()"
   ]
  }
 ],
 "metadata": {
  "kernelspec": {
   "display_name": "Python 3 (ipykernel)",
   "language": "python",
   "name": "python3"
  },
  "language_info": {
   "codemirror_mode": {
    "name": "ipython",
    "version": 3
   },
   "file_extension": ".py",
   "mimetype": "text/x-python",
   "name": "python",
   "nbconvert_exporter": "python",
   "pygments_lexer": "ipython3",
   "version": "3.12.3"
  }
 },
 "nbformat": 4,
 "nbformat_minor": 5
}
