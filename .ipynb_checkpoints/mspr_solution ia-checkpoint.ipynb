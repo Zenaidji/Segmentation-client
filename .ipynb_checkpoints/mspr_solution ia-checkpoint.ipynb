{
 "cells": [
  {
   "cell_type": "code",
   "execution_count": 1,
   "id": "43c04cab-3565-4710-bda9-b2fec8e9878c",
   "metadata": {},
   "outputs": [
    {
     "name": "stdout",
     "output_type": "stream",
     "text": [
      "Requirement already satisfied: pyspark in c:\\python39\\lib\\site-packages (3.5.1)\n",
      "Requirement already satisfied: py4j==0.10.9.7 in c:\\python39\\lib\\site-packages (from pyspark) (0.10.9.7)\n"
     ]
    }
   ],
   "source": [
    "!pip install pyspark\n"
   ]
  },
  {
   "cell_type": "code",
   "execution_count": 11,
   "id": "ffeb6fdc",
   "metadata": {},
   "outputs": [],
   "source": [
    "import os\n",
    "os.environ['PYARROW_IGNORE_TIMEZONE'] = '1'\n",
    "import pandas as pd\n",
    "import numpy as np\n",
    "import pyspark.pandas as ps\n",
    "from pyspark.sql import SparkSession\n",
    "from pyspark.sql.functions import avg, col,min,max,mean\n",
    "import time\n",
    "from pyspark.sql.functions import col, when, count, sum\n",
    "import matplotlib.pyplot as plt\n",
    "from pyspark.sql.types import StructType, StructField, StringType, IntegerType, LongType, DoubleType, TimestampType\n",
    "from pyspark.sql import SparkSession\n",
    "from pyspark.sql.functions import col, udf, count, sum, min, max, mean\n",
    "from pyspark.sql.types import IntegerType, FloatType\n",
    "import datetime\n",
    "from pyspark.sql.functions import year, month, dayofmonth, hour, datediff, lit\n",
    "from pyspark.sql.types import IntegerType, FloatType\n",
    "\n",
    "\n"
   ]
  },
  {
   "cell_type": "code",
   "execution_count": 12,
   "id": "d9a5b620-d767-42d8-958e-97f633ef01db",
   "metadata": {},
   "outputs": [],
   "source": [
    "\n",
    "\n",
    "schema = StructType([\n",
    "    StructField(\"event_time\", TimestampType(), True),\n",
    "    StructField(\"event_type\", StringType(), True),\n",
    "    StructField(\"product_id\", IntegerType(), True),\n",
    "    StructField(\"category_id\", LongType(), True),\n",
    "    StructField(\"category_code\", StringType(), True),\n",
    "    StructField(\"brand\", StringType(), True),\n",
    "    StructField(\"price\", DoubleType(), True),\n",
    "    StructField(\"user_id\", IntegerType(), True),\n",
    "    StructField(\"user_session\", StringType(), True)\n",
    "])\n"
   ]
  },
  {
   "cell_type": "code",
   "execution_count": 13,
   "id": "300afd19",
   "metadata": {},
   "outputs": [],
   "source": [
    "spark = SparkSession.builder \\\n",
    "    .appName(\"clustrering\") \\\n",
    "    .getOrCreate()"
   ]
  },
  {
   "cell_type": "code",
   "execution_count": 14,
   "id": "b8cf0051-c78d-445c-8236-cef9308eef9f",
   "metadata": {},
   "outputs": [],
   "source": [
    "nov_win=\"C:/Users/ghaze/Desktop/data/2019-Nov.csv\"\n",
    "oct_li=\"/home/ghani/Téléchargements/2019-Oct.csv\""
   ]
  },
  {
   "cell_type": "code",
   "execution_count": 16,
   "id": "f4e0eeb8",
   "metadata": {},
   "outputs": [],
   "source": [
    "oct_df = spark.read.csv(nov_win,\n",
    "    header=True,         \n",
    "    schema=schema,       \n",
    "\n",
    "    \n",
    ")"
   ]
  },
  {
   "cell_type": "code",
   "execution_count": null,
   "id": "aa9a2c17",
   "metadata": {},
   "outputs": [],
   "source": [
    "# print(f\" OCT: {oct_df.printSchema()}\")\n",
    "# print(f\"NOV: {nov_df.printSchema()}\")\n",
    "# print(f\"DEC: {dec_df.printSchema()}\")\n",
    "# print(f\"JAN: {jan_df.printSchema()}\")\n",
    "#print(f\"FEB: {feb_df.printSchema()}\")\n",
    "# print(f\"MAR: {mar_df.printSchema()}\")\n",
    "# print(f\"APR: {apr_df.printSchema()}\")\n",
    "\n",
    "\n"
   ]
  },
  {
   "cell_type": "code",
   "execution_count": null,
   "id": "015ae211",
   "metadata": {},
   "outputs": [],
   "source": [
    "#oct_df.show()\n",
    "# nov_df.show()\n",
    "# dec_df.show()\n",
    "# jan_df.show()\n",
    "#feb_df.show()\n",
    "# mar_df.show()\n",
    "# apr_df.show()"
   ]
  },
  {
   "cell_type": "code",
   "execution_count": 18,
   "id": "87734864",
   "metadata": {},
   "outputs": [],
   "source": [
    "null_counts =oct_df.select([count(when(col(c).isNull(), c)).alias(c) for c in oct_df.columns])"
   ]
  },
  {
   "cell_type": "code",
   "execution_count": 19,
   "id": "cbb0b384-1a29-47ab-9ac4-3c2a4c98b62c",
   "metadata": {},
   "outputs": [
    {
     "name": "stdout",
     "output_type": "stream",
     "text": [
      "+----------+----------+----------+-----------+-------------+-------+-----+-------+------------+\n",
      "|event_time|event_type|product_id|category_id|category_code|  brand|price|user_id|user_session|\n",
      "+----------+----------+----------+-----------+-------------+-------+-----+-------+------------+\n",
      "|         0|         0|         0|          0|     21898171|9218235|    0|      0|          10|\n",
      "+----------+----------+----------+-----------+-------------+-------+-----+-------+------------+\n",
      "\n"
     ]
    }
   ],
   "source": [
    "null_counts.show()"
   ]
  },
  {
   "cell_type": "code",
   "execution_count": 20,
   "id": "9a221912-4cd1-4aa2-a1ca-04382a3441a6",
   "metadata": {},
   "outputs": [
    {
     "name": "stdout",
     "output_type": "stream",
     "text": [
      "+-------------------+----------+----------+-------------------+--------------------+--------+------+---------+--------------------+\n",
      "|         event_time|event_type|product_id|        category_id|       category_code|   brand| price|  user_id|        user_session|\n",
      "+-------------------+----------+----------+-------------------+--------------------+--------+------+---------+--------------------+\n",
      "|2019-11-01 01:00:00|      view|   1003461|2053013555631882655|electronics.smart...|  xiaomi|489.07|520088904|4d3b30da-a5e4-49d...|\n",
      "|2019-11-01 01:00:00|      view|   5000088|2053013566100866035|appliances.sewing...|  janome|293.65|530496790|8e5f4f83-366c-4f7...|\n",
      "|2019-11-01 01:00:01|      view|  17302664|2053013553853497655|             unknown|   creed| 28.31|561587266|755422e7-9040-477...|\n",
      "|2019-11-01 01:00:01|      view|   3601530|2053013563810775923|appliances.kitche...|      lg|712.87|518085591|3bfb58cd-7892-48c...|\n",
      "|2019-11-01 01:00:01|      view|   1004775|2053013555631882655|electronics.smart...|  xiaomi|183.27|558856683|313628f1-68b8-460...|\n",
      "|2019-11-01 01:00:01|      view|   1306894|2053013558920217191|  computers.notebook|      hp|360.09|520772685|816a59f3-f5ae-4cc...|\n",
      "|2019-11-01 01:00:01|      view|   1306421|2053013558920217191|  computers.notebook|      hp|514.56|514028527|df8184cc-3694-454...|\n",
      "|2019-11-01 01:00:02|      view|  15900065|2053013558190408249|             unknown| rondell| 30.86|518574284|5e6ef132-4d7c-473...|\n",
      "|2019-11-01 01:00:02|      view|  12708937|2053013553559896355|             unknown|michelin| 72.72|532364121|0a899268-31eb-46d...|\n",
      "|2019-11-01 01:00:02|      view|   1004258|2053013555631882655|electronics.smart...|   apple|732.07|532647354|d2d3d2c6-631d-489...|\n",
      "|2019-11-01 01:00:03|      view|  17200570|2053013559792632471|furniture.living_...| unknown|437.33|518780843|aa806835-b14c-45a...|\n",
      "|2019-11-01 01:00:03|      view|   2701517|2053013563911439225|appliances.kitche...| unknown|155.11|518427361|c89b0d96-247f-404...|\n",
      "|2019-11-01 01:00:03|      view|  16700260|2053013559901684381|furniture.kitchen...| unknown| 31.64|566255262|173d7b72-1db7-463...|\n",
      "|2019-11-01 01:00:04|      view|  34600011|2060981320581906480|             unknown| unknown| 20.54|512416379|4dfe2c67-e537-4dc...|\n",
      "|2019-11-01 01:00:05|      view|   4600658|2053013563944993659|appliances.kitche...| samsung|411.83|526595547|aab33a9a-29c3-4d5...|\n",
      "|2019-11-01 01:00:06|      view|  24900193|2053013562183385881|             unknown| unknown|  1.09|512651494|f603c815-f51a-46f...|\n",
      "|2019-11-01 01:00:07|      view|  27400066|2053013563391345499|             unknown| unknown|  8.55|551061950|3f6112f1-5695-4e8...|\n",
      "|2019-11-01 01:00:07|      view|   5100503|2053013553375346967|             unknown|  xiaomi| 22.68|520037415|f54fa96a-f3f2-43a...|\n",
      "|2019-11-01 01:00:07|      view|   1004566|2053013555631882655|electronics.smart...|  huawei|164.84|566265908|52c2c76c-b79e-479...|\n",
      "|2019-11-01 01:00:08|      view|   1307115|2053013558920217191|  computers.notebook|      hp|411.59|514028527|df8184cc-3694-454...|\n",
      "+-------------------+----------+----------+-------------------+--------------------+--------+------+---------+--------------------+\n",
      "only showing top 20 rows\n",
      "\n"
     ]
    }
   ],
   "source": [
    "df = oct_df.fillna({'category_code': 'unknown', 'brand': 'unknown'})\n",
    "df.show()"
   ]
  },
  {
   "cell_type": "code",
   "execution_count": 21,
   "id": "9c3d0354-9f0a-4d58-9c68-0466a339956d",
   "metadata": {},
   "outputs": [
    {
     "name": "stdout",
     "output_type": "stream",
     "text": [
      "+-------------------+----------+----------+-------------------+--------------------+--------+------+---------+--------------------+\n",
      "|         event_time|event_type|product_id|        category_id|       category_code|   brand| price|  user_id|        user_session|\n",
      "+-------------------+----------+----------+-------------------+--------------------+--------+------+---------+--------------------+\n",
      "|2019-11-01 01:00:00|      view|   1003461|2053013555631882655|electronics.smart...|  xiaomi|489.07|520088904|4d3b30da-a5e4-49d...|\n",
      "|2019-11-01 01:00:00|      view|   5000088|2053013566100866035|appliances.sewing...|  janome|293.65|530496790|8e5f4f83-366c-4f7...|\n",
      "|2019-11-01 01:00:01|      view|  17302664|2053013553853497655|             unknown|   creed| 28.31|561587266|755422e7-9040-477...|\n",
      "|2019-11-01 01:00:01|      view|   3601530|2053013563810775923|appliances.kitche...|      lg|712.87|518085591|3bfb58cd-7892-48c...|\n",
      "|2019-11-01 01:00:01|      view|   1004775|2053013555631882655|electronics.smart...|  xiaomi|183.27|558856683|313628f1-68b8-460...|\n",
      "|2019-11-01 01:00:01|      view|   1306894|2053013558920217191|  computers.notebook|      hp|360.09|520772685|816a59f3-f5ae-4cc...|\n",
      "|2019-11-01 01:00:01|      view|   1306421|2053013558920217191|  computers.notebook|      hp|514.56|514028527|df8184cc-3694-454...|\n",
      "|2019-11-01 01:00:02|      view|  15900065|2053013558190408249|             unknown| rondell| 30.86|518574284|5e6ef132-4d7c-473...|\n",
      "|2019-11-01 01:00:02|      view|  12708937|2053013553559896355|             unknown|michelin| 72.72|532364121|0a899268-31eb-46d...|\n",
      "|2019-11-01 01:00:02|      view|   1004258|2053013555631882655|electronics.smart...|   apple|732.07|532647354|d2d3d2c6-631d-489...|\n",
      "|2019-11-01 01:00:03|      view|  17200570|2053013559792632471|furniture.living_...| unknown|437.33|518780843|aa806835-b14c-45a...|\n",
      "|2019-11-01 01:00:03|      view|   2701517|2053013563911439225|appliances.kitche...| unknown|155.11|518427361|c89b0d96-247f-404...|\n",
      "|2019-11-01 01:00:03|      view|  16700260|2053013559901684381|furniture.kitchen...| unknown| 31.64|566255262|173d7b72-1db7-463...|\n",
      "|2019-11-01 01:00:04|      view|  34600011|2060981320581906480|             unknown| unknown| 20.54|512416379|4dfe2c67-e537-4dc...|\n",
      "|2019-11-01 01:00:05|      view|   4600658|2053013563944993659|appliances.kitche...| samsung|411.83|526595547|aab33a9a-29c3-4d5...|\n",
      "|2019-11-01 01:00:06|      view|  24900193|2053013562183385881|             unknown| unknown|  1.09|512651494|f603c815-f51a-46f...|\n",
      "|2019-11-01 01:00:07|      view|  27400066|2053013563391345499|             unknown| unknown|  8.55|551061950|3f6112f1-5695-4e8...|\n",
      "|2019-11-01 01:00:07|      view|   5100503|2053013553375346967|             unknown|  xiaomi| 22.68|520037415|f54fa96a-f3f2-43a...|\n",
      "|2019-11-01 01:00:07|      view|   1004566|2053013555631882655|electronics.smart...|  huawei|164.84|566265908|52c2c76c-b79e-479...|\n",
      "|2019-11-01 01:00:08|      view|   1307115|2053013558920217191|  computers.notebook|      hp|411.59|514028527|df8184cc-3694-454...|\n",
      "+-------------------+----------+----------+-------------------+--------------------+--------+------+---------+--------------------+\n",
      "only showing top 20 rows\n",
      "\n"
     ]
    }
   ],
   "source": [
    "df=df.filter(col(\"user_session\").isNotNull())\n",
    "df.show()"
   ]
  },
  {
   "cell_type": "code",
   "execution_count": null,
   "id": "c8d94ba5",
   "metadata": {},
   "outputs": [],
   "source": [
    "from pyspark.sql import SparkSession\n",
    "from pyspark.sql.functions import col, year, month, dayofmonth, hour, sum, count, min, max, datediff, lit\n",
    "from pyspark.sql.types import IntegerType, FloatType\n",
    "import datetime\n",
    "\n",
    "\n",
    "\n",
    "\n",
    "\n",
    "\n",
    "user_features = df.groupBy(\"user_id\").agg(\n",
    "    sum(\"price\").alias(\"total_spent\"),\n",
    "    count(\"product_id\").alias(\"purchase_count\"),\n",
    ")\n",
    "\n",
    "\n",
    "\n",
    "user_features.show()\n"
   ]
  },
  {
   "cell_type": "code",
   "execution_count": null,
   "id": "f8f26d6a-cb47-45b3-88f6-21242bfb8b5e",
   "metadata": {},
   "outputs": [],
   "source": []
  }
 ],
 "metadata": {
  "kernelspec": {
   "display_name": "Python 3 (ipykernel)",
   "language": "python",
   "name": "python3"
  },
  "language_info": {
   "codemirror_mode": {
    "name": "ipython",
    "version": 3
   },
   "file_extension": ".py",
   "mimetype": "text/x-python",
   "name": "python",
   "nbconvert_exporter": "python",
   "pygments_lexer": "ipython3",
   "version": "3.9.2"
  }
 },
 "nbformat": 4,
 "nbformat_minor": 5
}
