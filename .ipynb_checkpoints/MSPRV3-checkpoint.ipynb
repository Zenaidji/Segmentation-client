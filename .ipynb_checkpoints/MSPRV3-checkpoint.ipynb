{
 "cells": [
  {
   "cell_type": "code",
   "execution_count": 1,
   "id": "083464cd",
   "metadata": {},
   "outputs": [
    {
     "name": "stderr",
     "output_type": "stream",
     "text": [
      "/home/amine/.local/lib/python3.10/site-packages/pyspark/pandas/__init__.py:50: UserWarning: 'PYARROW_IGNORE_TIMEZONE' environment variable was not set. It is required to set this environment variable to '1' in both driver and executor sides if you use pyarrow>=2.0.0. pandas-on-Spark will set it for you but it does not work if there is a Spark context already launched.\n",
      "  warnings.warn(\n"
     ]
    }
   ],
   "source": [
    "import os\n",
    "import pandas as pd\n",
    "import numpy as np\n",
    "import pyspark.pandas as ps\n",
    "from pyspark.sql import SparkSession\n",
    "from pyspark.sql.functions import avg, col, min, max, mean, when, count, sum, split, countDistinct, unix_timestamp, lit\n",
    "from pyspark.sql.types import StructType, StructField, StringType, IntegerType, LongType, DoubleType, TimestampType, FloatType\n",
    "from pyspark.sql.window import Window\n",
    "from pyspark.sql.functions import year, month, dayofmonth, hour, datediff\n",
    "from pyspark.ml.feature import VectorAssembler, StandardScaler\n",
    "from pyspark.ml.clustering import KMeans\n",
    "from pyspark.ml import Pipeline\n",
    "import matplotlib.pyplot as plt\n",
    "import datetime\n",
    "from pyspark.ml.evaluation import ClusteringEvaluator\n",
    "os.environ['PYARROW_IGNORE_TIMEZONE'] = '1'"
   ]
  },
  {
   "cell_type": "code",
   "execution_count": 2,
   "id": "2db74915",
   "metadata": {},
   "outputs": [
    {
     "name": "stderr",
     "output_type": "stream",
     "text": [
      "Setting default log level to \"WARN\".\n",
      "To adjust logging level use sc.setLogLevel(newLevel). For SparkR, use setLogLevel(newLevel).\n",
      "24/06/24 23:54:54 WARN NativeCodeLoader: Unable to load native-hadoop library for your platform... using builtin-java classes where applicable\n"
     ]
    }
   ],
   "source": [
    "\n",
    "schema = StructType([\n",
    "    StructField(\"event_time\", TimestampType(), True),\n",
    "    StructField(\"event_type\", StringType(), True),\n",
    "    StructField(\"product_id\", IntegerType(), True),\n",
    "    StructField(\"category_id\", LongType(), True),\n",
    "    StructField(\"category_code\", StringType(), True),\n",
    "    StructField(\"brand\", StringType(), True),\n",
    "    StructField(\"price\", DoubleType(), True),\n",
    "    StructField(\"user_id\", IntegerType(), True),\n",
    "    StructField(\"user_session\", StringType(), True)\n",
    "])\n",
    "\n",
    "spark = SparkSession.builder \\\n",
    "    .appName(\"msprv3\") \\\n",
    "    .config(\"spark.executor.memory\", \"6g\") \\\n",
    "    .config(\"spark.driver.memory\", \"6g\") \\\n",
    "    .config(\"spark.executor.cores\", \"6\") \\\n",
    "    .config(\"spark.driver.maxResultSize\", \"4g\") \\\n",
    "    .getOrCreate()\n"
   ]
  },
  {
   "cell_type": "code",
   "execution_count": null,
   "id": "bc01f704",
   "metadata": {},
   "outputs": [],
   "source": [
    "octobre_df = spark.read.csv(\"/home/amine/Desktop/EPSI/MSPR2-IA/DATA/2019-Oct.csv\", header=False, schema=schema)\n",
    "novembre_df = spark.read.csv(\"/home/amine/Desktop/EPSI/MSPR2-IA/DATA/2019-Nov.csv\", header=False, schema=schema)\n",
    "decembre_df = spark.read.csv(\"/home/amine/Desktop/EPSI/MSPR2-IA/DATA/2019-Dec.csv\", header=False, schema=schema)\n",
    "janvier_df = spark.read.csv(\"/home/amine/Desktop/EPSI/MSPR2-IA/DATA/2020-Jan.csv\", header=False, schema=schema)\n",
    "fevrier_df = spark.read.csv(\"/home/amine/Desktop/EPSI/MSPR2-IA/DATA/2020-Feb.csv\", header=False, schema=schema)\n",
    "mars_df = spark.read.csv(\"/home/amine/Desktop/EPSI/MSPR2-IA/DATA/2020-Mar.csv\", header=False, schema=schema)\n",
    "avril_df = spark.read.csv(\"/home/amine/Desktop/EPSI/MSPR2-IA/DATA/2020-Apr.csv\", header=False, schema=schema)\n",
    "\n",
    "combined_df = (octobre_df\n",
    "               .union(novembre_df)\n",
    "               .union(decembre_df)\n",
    "               .union(janvier_df)\n",
    "               .union(fevrier_df)\n",
    "               .union(mars_df)\n",
    "               .union(avril_df))\n"
   ]
  },
  {
   "cell_type": "code",
   "execution_count": 7,
   "id": "3bb1938f",
   "metadata": {},
   "outputs": [],
   "source": [
    "\n",
    "\n",
    "\n",
    "def extract_primary_category(df: DataFrame, column_name: str) -> DataFrame:\n",
    "    \n",
    "    return df.withColumn(\n",
    "        \"primary_category\",\n",
    "        when(col(column_name).isNull(), \"unknown\")\n",
    "        .otherwise(split(col(column_name), \"\\\\.\").getItem(0))  \n",
    "    )\n",
    "\n",
    "\n"
   ]
  },
  {
   "cell_type": "code",
   "execution_count": null,
   "id": "206ac01f",
   "metadata": {},
   "outputs": [],
   "source": [
    "combined_df = combined_df.drop('brand', 'category_id', 'product_id', 'user_session')\n",
    "combined_df = extract_primary_category(combined_df, \"category_code\")\n",
    "combined_df.show()"
   ]
  },
  {
   "cell_type": "code",
   "execution_count": null,
   "id": "3b10b658",
   "metadata": {},
   "outputs": [],
   "source": []
  },
  {
   "cell_type": "code",
   "execution_count": null,
   "id": "984b9b73",
   "metadata": {},
   "outputs": [],
   "source": [
    "combined_df.select('primary_category').distinct().show()\n",
    "combined_df = combined_df.drop('category_code')"
   ]
  },
  {
   "cell_type": "code",
   "execution_count": null,
   "id": "cbac377a",
   "metadata": {},
   "outputs": [],
   "source": [
    "\n",
    "\n",
    "data = combined_df.withColumn(\"event_time\", unix_timestamp(col(\"event_time\"), \"yyyy-MM-dd HH:mm:ss\").cast(\"timestamp\"))\n",
    "\n",
    "\n",
    "last_date = data.agg(spark_max(\"event_time\")).collect()[0][0] + datetime.timedelta(days=1)\n",
    "\n",
    "recency_udf = udf(lambda x: (last_date - x).days, IntegerType())\n",
    "\n",
    "\n",
    "intermediate_df = data.withColumn(\n",
    "    \"view\", when(col(\"event_type\") == \"view\", 1).otherwise(0)\n",
    ").withColumn(\n",
    "    \"purchase_value\", when(col(\"event_type\") == \"purchase\", col(\"price\")).otherwise(0)\n",
    ")\n",
    "\n",
    "# Définir la liste des catégories pour le pivot\n",
    "categories = [\n",
    "    \"medicine\", \"computers\", \"auto\", \"unknown\", \"stationery\",\n",
    "    \"sport\", \"apparel\", \"appliances\", \"country_yard\", \"furniture\",\n",
    "    \"accessories\", \"kids\", \"electronics\", \"construction\"\n",
    "]\n",
    "\n",
    "# Pivotement des données pour créer une colonne pour chaque catégorie et type de mesure\n",
    "pivot_df = intermediate_df.groupBy(\"user_id\").pivot(\n",
    "    \"primary_category\", categories\n",
    ").agg(\n",
    "    count(\"view\").alias(\"views\"),\n",
    "    sum(\"purchase_value\").alias(\"total_purchase_value\")\n",
    ")\n",
    "\n",
    "# Joindre le DataFrame pivoté avec la récence globale\n",
    "# Calculer la récence globale en utilisant l'UDF et le dernier événement pour chaque utilisateur\n",
    "global_recency = data.groupBy(\"user_id\").agg(\n",
    "    recency_udf(spark_max(\"event_time\")).alias(\"global_recency\")\n",
    ")\n",
    "\n",
    "final_df = pivot_df.join(global_recency, \"user_id\")\n",
    "\n",
    "# Affichage du DataFrame résultant pour vérifier\n",
    "final_df.show()\n"
   ]
  },
  {
   "cell_type": "code",
   "execution_count": 11,
   "id": "d4ffe241",
   "metadata": {},
   "outputs": [],
   "source": [
    "for column in final_df.columns:\n",
    "    if column != \"global_recency\":\n",
    "        final_df = final_df.fillna({column: 0})\n"
   ]
  },
  {
   "cell_type": "code",
   "execution_count": 3,
   "id": "62379055-f8a7-4994-b30f-b217dde7503b",
   "metadata": {},
   "outputs": [],
   "source": [
    "final_df=spark.read.parquet('/home/amine/Desktop/EPSI/MSPR2-IA/DATA/final_df.parquet')"
   ]
  },
  {
   "cell_type": "code",
   "execution_count": 4,
   "id": "7ea6f6a1-1a86-4a33-aa81-9e49d60e698a",
   "metadata": {},
   "outputs": [],
   "source": [
    "columns_of_interest = ['medicine_views', 'medicine_total_purchase_value',\n",
    "                       'computers_views', 'computers_total_purchase_value',\n",
    "                       'auto_views', 'auto_total_purchase_value',\n",
    "                       'unknown_views', 'unknown_total_purchase_value',\n",
    "                       'stationery_views', 'stationery_total_purchase_value',\n",
    "                       'sport_views', 'sport_total_purchase_value',\n",
    "                       'apparel_views', 'apparel_total_purchase_value',\n",
    "                       'appliances_views', 'appliances_total_purchase_value',\n",
    "                       'country_yard_views', 'country_yard_total_purchase_value',\n",
    "                       'furniture_views', 'furniture_total_purchase_value',\n",
    "                       'accessories_views', 'accessories_total_purchase_value',\n",
    "                       'kids_views', 'kids_total_purchase_value',\n",
    "                       'electronics_views', 'electronics_total_purchase_value',\n",
    "                       'construction_views', 'construction_total_purchase_value',\n",
    "                       'global_recency']"
   ]
  },
  {
   "cell_type": "code",
   "execution_count": 5,
   "id": "f4742227-4914-480b-8301-a774d4a74eb3",
   "metadata": {},
   "outputs": [
    {
     "name": "stderr",
     "output_type": "stream",
     "text": [
      "24/06/24 23:55:07 WARN SparkStringUtils: Truncated the string representation of a plan since it was too large. This behavior can be adjusted by setting 'spark.sql.debug.maxToStringFields'.\n",
      "                                                                                \r"
     ]
    }
   ],
   "source": [
    "assembler = VectorAssembler(inputCols=columns_of_interest, outputCol='features')\n",
    "data = assembler.transform(final_df)\n",
    "\n",
    "scaler = StandardScaler(inputCol='features', outputCol='scaled_features')\n",
    "scaler_model = scaler.fit(data)\n",
    "data_scaled = scaler_model.transform(data)"
   ]
  },
  {
   "cell_type": "code",
   "execution_count": 23,
   "id": "22e901eb-cde3-4eb9-bd98-7a1a856748bd",
   "metadata": {},
   "outputs": [
    {
     "name": "stderr",
     "output_type": "stream",
     "text": [
      "                                                                                \r"
     ]
    },
    {
     "name": "stdout",
     "output_type": "stream",
     "text": [
      "Indice de silhouette global: 0.9614438678556089\n"
     ]
    },
    {
     "name": "stderr",
     "output_type": "stream",
     "text": [
      "                                                                                \r"
     ]
    },
    {
     "name": "stdout",
     "output_type": "stream",
     "text": [
      "Indice de silhouette global: 0.9180919205546342\n"
     ]
    },
    {
     "name": "stderr",
     "output_type": "stream",
     "text": [
      "                                                                                \r"
     ]
    },
    {
     "name": "stdout",
     "output_type": "stream",
     "text": [
      "Indice de silhouette global: 0.9178908268576492\n"
     ]
    },
    {
     "name": "stderr",
     "output_type": "stream",
     "text": [
      "                                                                                \r"
     ]
    },
    {
     "name": "stdout",
     "output_type": "stream",
     "text": [
      "Indice de silhouette global: 0.9386463251738217\n"
     ]
    },
    {
     "name": "stderr",
     "output_type": "stream",
     "text": [
      "                                                                                \r"
     ]
    },
    {
     "name": "stdout",
     "output_type": "stream",
     "text": [
      "Indice de silhouette global: 0.9148903435240067\n"
     ]
    },
    {
     "name": "stderr",
     "output_type": "stream",
     "text": [
      "                                                                                \r"
     ]
    },
    {
     "name": "stdout",
     "output_type": "stream",
     "text": [
      "Indice de silhouette global: 0.8942113991064586\n"
     ]
    },
    {
     "name": "stderr",
     "output_type": "stream",
     "text": [
      "                                                                                \r"
     ]
    },
    {
     "name": "stdout",
     "output_type": "stream",
     "text": [
      "Indice de silhouette global: 0.9087439148892225\n"
     ]
    },
    {
     "name": "stderr",
     "output_type": "stream",
     "text": [
      "                                                                                \r"
     ]
    },
    {
     "name": "stdout",
     "output_type": "stream",
     "text": [
      "Indice de silhouette global: 0.8915062812171508\n"
     ]
    },
    {
     "name": "stderr",
     "output_type": "stream",
     "text": [
      "                                                                                \r"
     ]
    },
    {
     "name": "stdout",
     "output_type": "stream",
     "text": [
      "Indice de silhouette global: 0.843444653331769\n"
     ]
    },
    {
     "name": "stderr",
     "output_type": "stream",
     "text": [
      "[Stage 949:===================================================>   (16 + 1) / 17]\r"
     ]
    },
    {
     "name": "stdout",
     "output_type": "stream",
     "text": [
      "Indice de silhouette global: 0.3147466162060262\n"
     ]
    },
    {
     "name": "stderr",
     "output_type": "stream",
     "text": [
      "                                                                                \r"
     ]
    }
   ],
   "source": [
    "### sans pca  \n",
    "\n",
    "cost = []\n",
    "K = range(5, 15) \n",
    "for k in K:\n",
    "    kmeans = KMeans(featuresCol='scaled_features', predictionCol='cluster', k=k, seed=42)\n",
    "    model = kmeans.fit(data_scaled)\n",
    "    cost.append(model.summary.trainingCost)\n",
    "    predictions = model.transform(data_scaled)\n",
    "    evaluator = ClusteringEvaluator(featuresCol='scaled_features', predictionCol='cluster', metricName='silhouette', distanceMeasure='squaredEuclidean')\n",
    "    silhouette_score = evaluator.evaluate(predictions)\n",
    "    print(f\"Indice de silhouette global: {silhouette_score}\")\n",
    "    \n",
    "\n",
    "\n"
   ]
  },
  {
   "cell_type": "code",
   "execution_count": 24,
   "id": "2a40f6ea-e529-460d-8f9a-b61ec3f4a3d1",
   "metadata": {},
   "outputs": [
    {
     "data": {
      "image/png": "[encoded data removed]",
      "text/plain": [
       "<Figure size 1000x600 with 1 Axes>"
      ]
     },
     "metadata": {},
     "output_type": "display_data"
    }
   ],
   "source": [
    "plt.figure(figsize=(10, 6))\n",
    "plt.plot(K, cost, 'bx-')\n",
    "plt.xlabel('Number of clusters (k)')\n",
    "plt.ylabel('Cost')\n",
    "plt.title('Elbow Method For Optimal k')\n",
    "plt.show()"
   ]
  },
  {
   "cell_type": "code",
   "execution_count": 15,
   "id": "5ce9e497-bb63-4968-ad1d-a7afd4e72f33",
   "metadata": {
    "scrolled": true
   },
   "outputs": [
    {
     "name": "stderr",
     "output_type": "stream",
     "text": [
      "                                                                                \r"
     ]
    }
   ],
   "source": [
    "#sans pca\n",
    "\n",
    "k_optimal = 5\n",
    "\n",
    "kmeans = KMeans(featuresCol='scaled_features', predictionCol='cluster', k=k_optimal,seed=42)\n",
    "\n",
    "model = kmeans.fit(data_scaled)\n",
    "\n",
    "# Prédictions et centres des clusters\n",
    "predictions1 = model.transform(data_scaled)\n",
    "centroids1 = model.clusterCenters()\n",
    "\n"
   ]
  },
  {
   "cell_type": "code",
   "execution_count": 16,
   "id": "6e894c0b-8a7e-40ac-807d-553d262cffcb",
   "metadata": {},
   "outputs": [
    {
     "name": "stdout",
     "output_type": "stream",
     "text": [
      "Cluster 0 real centroid: [0.015376412797745001, 0.0036430165190308172, 1.451446413266332, 3.7939162179968564, 0.38087321362424265, 0.6433490929031501, 5.060449046576554, 7.520207460159638, 0.014191136541695027, 0.010041480369731237, 1.2931096170583296, 2.7762768215099727, 3.410233377070924, 4.699546706241713, 5.351615724733961, 19.578834563269112, 0.053413679760191776, 0.02874422451560667, 1.3620778544145722, 1.5658468650926567, 0.3473737514210871, 0.15367410509291712, 0.7483133046945536, 0.8067344254644181, 6.120524535973357, 44.00703332035559, 7.110109152967594, 77.75286475861607, 200.12818953017089]\n",
      "Cluster 1 real centroid: [0.06258235500911842, 0.130240178163018, 7.416560389973332, 53.45682008321542, 1.8374884141496919, 3.1620648770621074, 37.46648534719014, 272.335058585824, 0.09636252905767961, 0.00886083106796441, 6.933151282785457, 16.961292027868353, 17.665847001254825, 56.869651590517606, 17.751838222203137, 164.07120628434726, 18.284773848061185, 443.5178911797624, 5.8629805117903615, 19.37443332920337, 1.5504825935102993, 1.5176199179620287, 3.9375650230270534, 11.14085242224784, 21.90270714236852, 619.5698719334604, 19.407138492642108, 644.5128006953894, 163.89703516771766]\n",
      "Cluster 2 real centroid: [0.049474299638488727, 0.0033888662096652213, 11.922402771920485, 117.35693096221269, 1.4515468609254776, 3.7611881754253225, 24.10122743300084, 113.2465080474984, 19.993150940710304, 464.1165773665011, 9.187208811308675, 58.497027203828495, 34.23502585389825, 460.6840272935546, 23.5554928674133, 353.45308227433827, 0.8608166386307308, 0.3876937554607827, 15.482709168157296, 1292.8014692099223, 1.6404024759739708, 1.742501807725808, 3.487437615483608, 1.2742605166442047, 28.50739941297756, 691.3145697135848, 22.44171070172822, 377.3494242807065, 156.1336229411847]\n",
      "Cluster 3 real centroid: [0.1968228971699978, 0.009517275407815525, 20.311168211756144, 82.78150945529319, 5.222241175776641, 16.917430283637373, 53.58107741825099, 131.15982867764748, 0.21441660409161023, 0.10179090121801633, 16.058879024573013, 54.042238739636836, 32.44758192303763, 78.10495044951193, 46.48140177018566, 233.8332058648537, 0.8914359064753331, 0.33213967854168797, 17.204137889973005, 31.120926765561766, 5.292565718694239, 5.036547786092515, 6.516634611522602, 12.900587837811855, 48.380654783094535, 493.7937917700428, 43.566580172002226, 758.1647479773345, 149.05187936772285]\n",
      "Cluster 4 real centroid: [23.5249690857632, 39.236024001344795, 16.118167828315464, 63.03580519077195, 11.077020365926543, 37.72376127608504, 60.47506229148137, 82.44573288256967, 0.20079086409825952, 0.00886083106796441, 16.763129219906254, 29.18864393079168, 130.9042639896718, 62.89652803839405, 69.13087060735796, 163.3599095780199, 1.3272882283306668, 0.5708861368185184, 19.20936377552057, 33.53964158702388, 11.615205625580266, 5.6417955936377036, 60.95822927328313, 14.847618358738266, 42.08588419697415, 279.5154811841105, 33.21849299583335, 425.24899961588414, 159.30918157068035]\n"
     ]
    },
    {
     "name": "stderr",
     "output_type": "stream",
     "text": [
      "[Stage 131:===================================================>   (16 + 1) / 17]\r"
     ]
    },
    {
     "name": "stdout",
     "output_type": "stream",
     "text": [
      "Indice de silhouette global: 0.9614438678556089\n"
     ]
    },
    {
     "name": "stderr",
     "output_type": "stream",
     "text": [
      "                                                                                \r"
     ]
    }
   ],
   "source": [
    "\n",
    "means = scaler_model.mean.toArray() \n",
    "std_devs = scaler_model.std.toArray()\n",
    "\n",
    "real_centroids = [(centroid * std_devs + means).tolist() for centroid in centroids1]\n",
    "\n",
    "for i, real_centroid in enumerate(real_centroids):\n",
    "    print(f\"Cluster {i} real centroid: {real_centroid}\")\n",
    "\n",
    "# Afficher les données réelles associées à chaque cluster\n",
    "result = predictions1.select('user_id', 'cluster')\n",
    "clustered_data = final_df.join(result, 'user_id')\n",
    "#squaredEuclidean\n",
    "\n",
    "evaluator1 = ClusteringEvaluator(featuresCol='scaled_features', predictionCol='cluster', metricName='silhouette', distanceMeasure='squaredEuclidean')\n",
    "silhouette_score1 = evaluator1.evaluate(predictions1)\n",
    "print(f\"Indice de silhouette global: {silhouette_score1}\")\n",
    "\n"
   ]
  },
  {
   "cell_type": "code",
   "execution_count": 17,
   "id": "4f65da88-ce95-44e0-8ebf-cc02a436f6d4",
   "metadata": {},
   "outputs": [
    {
     "data": {
      "text/plain": [
       "'euclidean'"
      ]
     },
     "execution_count": 17,
     "metadata": {},
     "output_type": "execute_result"
    }
   ],
   "source": [
    "model.save(model_path)"
   ]
  },
  {
   "cell_type": "code",
   "execution_count": 17,
   "id": "9a22eecd-7725-49b1-a5d1-c6d5accec298",
   "metadata": {},
   "outputs": [
    {
     "name": "stderr",
     "output_type": "stream",
     "text": [
      "[Stage 134:===================================================>   (16 + 1) / 17]\r"
     ]
    },
    {
     "name": "stdout",
     "output_type": "stream",
     "text": [
      "+-------+----------+\n",
      "|cluster|user_count|\n",
      "+-------+----------+\n",
      "|      1|       343|\n",
      "|      3|    158279|\n",
      "|      4|       740|\n",
      "|      2|       127|\n",
      "|      0|   9413639|\n",
      "+-------+----------+\n",
      "\n"
     ]
    },
    {
     "name": "stderr",
     "output_type": "stream",
     "text": [
      "                                                                                \r"
     ]
    }
   ],
   "source": [
    "\n",
    "result.groupBy('cluster').agg(count('user_id').alias('user_count')).show()\n"
   ]
  },
  {
   "cell_type": "code",
   "execution_count": null,
   "id": "7b2fe764",
   "metadata": {},
   "outputs": [],
   "source": [
    "final_df.write.parquet('/home/amine/Desktop/EPSI/MSPR2-IA/DATA/final_df.parquet')"
   ]
  }
 ],
 "metadata": {
  "kernelspec": {
   "display_name": "Python 3 (ipykernel)",
   "language": "python",
   "name": "python3"
  },
  "language_info": {
   "codemirror_mode": {
    "name": "ipython",
    "version": 3
   },
   "file_extension": ".py",
   "mimetype": "text/x-python",
   "name": "python",
   "nbconvert_exporter": "python",
   "pygments_lexer": "ipython3",
   "version": "3.10.12"
  }
 },
 "nbformat": 4,
 "nbformat_minor": 5
}
