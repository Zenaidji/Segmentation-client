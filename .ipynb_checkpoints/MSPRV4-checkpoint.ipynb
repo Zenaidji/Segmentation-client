{
 "cells": [
  {
   "cell_type": "code",
   "execution_count": 2,
   "id": "083464cd",
   "metadata": {},
   "outputs": [
    {
     "name": "stderr",
     "output_type": "stream",
     "text": [
      "/home/amine/.local/lib/python3.10/site-packages/pyspark/pandas/__init__.py:50: UserWarning: 'PYARROW_IGNORE_TIMEZONE' environment variable was not set. It is required to set this environment variable to '1' in both driver and executor sides if you use pyarrow>=2.0.0. pandas-on-Spark will set it for you but it does not work if there is a Spark context already launched.\n",
      "  warnings.warn(\n"
     ]
    }
   ],
   "source": [
    "import os\n",
    "import pandas as pd\n",
    "import numpy as np\n",
    "import pyspark.pandas as ps\n",
    "from pyspark.sql import SparkSession\n",
    "from pyspark.sql.functions import avg, col, min, max, mean, when, count, sum, split, countDistinct, unix_timestamp, lit\n",
    "from pyspark.sql.types import StructType, StructField, StringType, IntegerType, LongType, DoubleType, TimestampType, FloatType\n",
    "from pyspark.sql.window import Window\n",
    "from pyspark.sql.functions import year, month, dayofmonth, hour, datediff\n",
    "from pyspark.ml.feature import VectorAssembler, StandardScaler\n",
    "from pyspark.ml.clustering import KMeans\n",
    "from pyspark.ml import Pipeline\n",
    "import matplotlib.pyplot as plt\n",
    "import datetime\n",
    "from pyspark.ml.evaluation import ClusteringEvaluator\n",
    "os.environ['PYARROW_IGNORE_TIMEZONE'] = '1'\n",
    "from pyspark.ml.clustering import KMeansModel"
   ]
  },
  {
   "cell_type": "code",
   "execution_count": 3,
   "id": "2db74915",
   "metadata": {},
   "outputs": [
    {
     "name": "stderr",
     "output_type": "stream",
     "text": [
      "Setting default log level to \"WARN\".\n",
      "To adjust logging level use sc.setLogLevel(newLevel). For SparkR, use setLogLevel(newLevel).\n",
      "24/06/25 17:24:41 WARN NativeCodeLoader: Unable to load native-hadoop library for your platform... using builtin-java classes where applicable\n"
     ]
    }
   ],
   "source": [
    "\n",
    "schema = StructType([\n",
    "    StructField(\"event_time\", TimestampType(), True),\n",
    "    StructField(\"event_type\", StringType(), True),\n",
    "    StructField(\"product_id\", IntegerType(), True),\n",
    "    StructField(\"category_id\", LongType(), True),\n",
    "    StructField(\"category_code\", StringType(), True),\n",
    "    StructField(\"brand\", StringType(), True),\n",
    "    StructField(\"price\", DoubleType(), True),\n",
    "    StructField(\"user_id\", IntegerType(), True),\n",
    "    StructField(\"user_session\", StringType(), True)\n",
    "])\n",
    "\n",
    "spark = SparkSession.builder \\\n",
    "    .appName(\"msprv3\") \\\n",
    "    .config(\"spark.executor.memory\", \"6g\") \\\n",
    "    .config(\"spark.driver.memory\", \"6g\") \\\n",
    "    .config(\"spark.executor.cores\", \"6\") \\\n",
    "    .config(\"spark.driver.maxResultSize\", \"4g\") \\\n",
    "    .getOrCreate()\n"
   ]
  },
  {
   "cell_type": "code",
   "execution_count": null,
   "id": "bc01f704",
   "metadata": {},
   "outputs": [],
   "source": [
    "octobre_df = spark.read.csv(\"/home/amine/Desktop/EPSI/MSPR2-IA/DATA/2019-Oct.csv\", header=False, schema=schema)\n",
    "novembre_df = spark.read.csv(\"/home/amine/Desktop/EPSI/MSPR2-IA/DATA/2019-Nov.csv\", header=False, schema=schema)\n",
    "decembre_df = spark.read.csv(\"/home/amine/Desktop/EPSI/MSPR2-IA/DATA/2019-Dec.csv\", header=False, schema=schema)\n",
    "janvier_df = spark.read.csv(\"/home/amine/Desktop/EPSI/MSPR2-IA/DATA/2020-Jan.csv\", header=False, schema=schema)\n",
    "fevrier_df = spark.read.csv(\"/home/amine/Desktop/EPSI/MSPR2-IA/DATA/2020-Feb.csv\", header=False, schema=schema)\n",
    "mars_df = spark.read.csv(\"/home/amine/Desktop/EPSI/MSPR2-IA/DATA/2020-Mar.csv\", header=False, schema=schema)\n",
    "avril_df = spark.read.csv(\"/home/amine/Desktop/EPSI/MSPR2-IA/DATA/2020-Apr.csv\", header=False, schema=schema)\n",
    "\n",
    "combined_df = (octobre_df\n",
    "               .union(novembre_df)\n",
    "               .union(decembre_df)\n",
    "               .union(janvier_df)\n",
    "               .union(fevrier_df)\n",
    "               .union(mars_df)\n",
    "               .union(avril_df))\n"
   ]
  },
  {
   "cell_type": "code",
   "execution_count": 7,
   "id": "3bb1938f",
   "metadata": {},
   "outputs": [],
   "source": [
    "\n",
    "\n",
    "\n",
    "def extract_primary_category(df: DataFrame, column_name: str) -> DataFrame:\n",
    "    \n",
    "    return df.withColumn(\n",
    "        \"primary_category\",\n",
    "        when(col(column_name).isNull(), \"unknown\")\n",
    "        .otherwise(split(col(column_name), \"\\\\.\").getItem(0))  \n",
    "    )\n",
    "\n",
    "\n"
   ]
  },
  {
   "cell_type": "code",
   "execution_count": null,
   "id": "206ac01f",
   "metadata": {},
   "outputs": [],
   "source": [
    "combined_df = combined_df.drop('brand', 'category_id', 'product_id', 'user_session')\n",
    "combined_df = extract_primary_category(combined_df, \"category_code\")\n",
    "combined_df.show()"
   ]
  },
  {
   "cell_type": "code",
   "execution_count": null,
   "id": "3b10b658",
   "metadata": {},
   "outputs": [],
   "source": []
  },
  {
   "cell_type": "code",
   "execution_count": null,
   "id": "984b9b73",
   "metadata": {},
   "outputs": [],
   "source": [
    "combined_df.select('primary_category').distinct().show()\n",
    "combined_df = combined_df.drop('category_code')"
   ]
  },
  {
   "cell_type": "code",
   "execution_count": null,
   "id": "cbac377a",
   "metadata": {},
   "outputs": [],
   "source": [
    "\n",
    "\n",
    "data = combined_df.withColumn(\"event_time\", unix_timestamp(col(\"event_time\"), \"yyyy-MM-dd HH:mm:ss\").cast(\"timestamp\"))\n",
    "\n",
    "\n",
    "last_date = data.agg(spark_max(\"event_time\")).collect()[0][0] + datetime.timedelta(days=1)\n",
    "\n",
    "recency_udf = udf(lambda x: (last_date - x).days, IntegerType())\n",
    "\n",
    "\n",
    "intermediate_df = data.withColumn(\n",
    "    \"view\", when(col(\"event_type\") == \"view\", 1).otherwise(0)\n",
    ").withColumn(\n",
    "    \"purchase_value\", when(col(\"event_type\") == \"purchase\", col(\"price\")).otherwise(0)\n",
    ")\n",
    "\n",
    "# Définir la liste des catégories pour le pivot\n",
    "categories = [\n",
    "    \"medicine\", \"computers\", \"auto\", \"unknown\", \"stationery\",\n",
    "    \"sport\", \"apparel\", \"appliances\", \"country_yard\", \"furniture\",\n",
    "    \"accessories\", \"kids\", \"electronics\", \"construction\"\n",
    "]\n",
    "\n",
    "# Pivotement des données pour créer une colonne pour chaque catégorie et type de mesure\n",
    "pivot_df = intermediate_df.groupBy(\"user_id\").pivot(\n",
    "    \"primary_category\", categories\n",
    ").agg(\n",
    "    count(\"view\").alias(\"views\"),\n",
    "    sum(\"purchase_value\").alias(\"total_purchase_value\")\n",
    ")\n",
    "\n",
    "# Joindre le DataFrame pivoté avec la récence globale\n",
    "# Calculer la récence globale en utilisant l'UDF et le dernier événement pour chaque utilisateur\n",
    "global_recency = data.groupBy(\"user_id\").agg(\n",
    "    recency_udf(spark_max(\"event_time\")).alias(\"global_recency\")\n",
    ")\n",
    "\n",
    "final_df = pivot_df.join(global_recency, \"user_id\")\n",
    "\n",
    "# Affichage du DataFrame résultant pour vérifier\n",
    "final_df.show()\n"
   ]
  },
  {
   "cell_type": "code",
   "execution_count": 11,
   "id": "d4ffe241",
   "metadata": {},
   "outputs": [],
   "source": [
    "for column in final_df.columns:\n",
    "    if column != \"global_recency\":\n",
    "        final_df = final_df.fillna({column: 0})\n"
   ]
  },
  {
   "cell_type": "code",
   "execution_count": 4,
   "id": "62379055-f8a7-4994-b30f-b217dde7503b",
   "metadata": {},
   "outputs": [],
   "source": [
    "final_df=spark.read.parquet('/home/amine/Desktop/EPSI/MSPR2-IA/DATA/final_df.parquet')"
   ]
  },
  {
   "cell_type": "code",
   "execution_count": 4,
   "id": "7ea6f6a1-1a86-4a33-aa81-9e49d60e698a",
   "metadata": {},
   "outputs": [],
   "source": [
    "columns_of_interest = ['medicine_views', 'medicine_total_purchase_value',\n",
    "                       'computers_views', 'computers_total_purchase_value',\n",
    "                       'auto_views', 'auto_total_purchase_value',\n",
    "                       'unknown_views', 'unknown_total_purchase_value',\n",
    "                       'stationery_views', 'stationery_total_purchase_value',\n",
    "                       'sport_views', 'sport_total_purchase_value',\n",
    "                       'apparel_views', 'apparel_total_purchase_value',\n",
    "                       'appliances_views', 'appliances_total_purchase_value',\n",
    "                       'country_yard_views', 'country_yard_total_purchase_value',\n",
    "                       'furniture_views', 'furniture_total_purchase_value',\n",
    "                       'accessories_views', 'accessories_total_purchase_value',\n",
    "                       'kids_views', 'kids_total_purchase_value',\n",
    "                       'electronics_views', 'electronics_total_purchase_value',\n",
    "                       'construction_views', 'construction_total_purchase_value',\n",
    "                       'global_recency']"
   ]
  },
  {
   "cell_type": "code",
   "execution_count": 5,
   "id": "84f7961e-14f2-43bc-8f09-8818a4ec0824",
   "metadata": {},
   "outputs": [],
   "source": [
    "columns_of_interest = [ 'medicine_total_purchase_value',\n",
    "                        'computers_total_purchase_value',\n",
    "                        'auto_total_purchase_value',\n",
    "                        'unknown_total_purchase_value',\n",
    "                        'stationery_total_purchase_value',\n",
    "                        'sport_total_purchase_value',\n",
    "                       'apparel_total_purchase_value',\n",
    "                       'appliances_total_purchase_value',\n",
    "                        'country_yard_total_purchase_value',\n",
    "                        'furniture_total_purchase_value',\n",
    "                        'accessories_total_purchase_value',\n",
    "                       'kids_total_purchase_value',\n",
    "                        'electronics_total_purchase_value',\n",
    "                        'construction_total_purchase_value',\n",
    "                       'global_recency']"
   ]
  },
  {
   "cell_type": "code",
   "execution_count": null,
   "id": "f4742227-4914-480b-8301-a774d4a74eb3",
   "metadata": {},
   "outputs": [],
   "source": [
    "assembler = VectorAssembler(inputCols=columns_of_interest, outputCol='features')\n",
    "data = assembler.transform(final_df)\n",
    "\n",
    "scaler = StandardScaler(inputCol='features', outputCol='scaled_features')\n",
    "scaler_model = scaler.fit(data)\n",
    "data_scaled = scaler_model.transform(data)"
   ]
  },
  {
   "cell_type": "code",
   "execution_count": 8,
   "id": "22e901eb-cde3-4eb9-bd98-7a1a856748bd",
   "metadata": {},
   "outputs": [
    {
     "name": "stderr",
     "output_type": "stream",
     "text": [
      "                                                                                \r"
     ]
    },
    {
     "name": "stdout",
     "output_type": "stream",
     "text": [
      "Indice de silhouette global: 0.9974042972040746\n"
     ]
    },
    {
     "name": "stderr",
     "output_type": "stream",
     "text": [
      "                                                                                \r"
     ]
    },
    {
     "name": "stdout",
     "output_type": "stream",
     "text": [
      "Indice de silhouette global: 0.3787087844059636\n"
     ]
    },
    {
     "name": "stderr",
     "output_type": "stream",
     "text": [
      "                                                                                \r"
     ]
    },
    {
     "name": "stdout",
     "output_type": "stream",
     "text": [
      "Indice de silhouette global: 0.9927547297984616\n"
     ]
    },
    {
     "name": "stderr",
     "output_type": "stream",
     "text": [
      "                                                                                \r"
     ]
    },
    {
     "name": "stdout",
     "output_type": "stream",
     "text": [
      "Indice de silhouette global: 0.9919465956798917\n"
     ]
    },
    {
     "name": "stderr",
     "output_type": "stream",
     "text": [
      "                                                                                \r"
     ]
    },
    {
     "name": "stdout",
     "output_type": "stream",
     "text": [
      "Indice de silhouette global: 0.996651333923235\n"
     ]
    },
    {
     "name": "stderr",
     "output_type": "stream",
     "text": [
      "                                                                                \r"
     ]
    },
    {
     "name": "stdout",
     "output_type": "stream",
     "text": [
      "Indice de silhouette global: 0.9964581955961375\n"
     ]
    },
    {
     "name": "stderr",
     "output_type": "stream",
     "text": [
      "                                                                                \r"
     ]
    },
    {
     "name": "stdout",
     "output_type": "stream",
     "text": [
      "Indice de silhouette global: 0.992334324508953\n"
     ]
    },
    {
     "name": "stderr",
     "output_type": "stream",
     "text": [
      "                                                                                \r"
     ]
    },
    {
     "name": "stdout",
     "output_type": "stream",
     "text": [
      "Indice de silhouette global: 0.39129577384502673\n"
     ]
    },
    {
     "name": "stderr",
     "output_type": "stream",
     "text": [
      "                                                                                \r"
     ]
    },
    {
     "name": "stdout",
     "output_type": "stream",
     "text": [
      "Indice de silhouette global: 0.4397203973863628\n"
     ]
    },
    {
     "name": "stderr",
     "output_type": "stream",
     "text": [
      "[Stage 1181:==================================================>   (16 + 1) / 17]\r"
     ]
    },
    {
     "name": "stdout",
     "output_type": "stream",
     "text": [
      "Indice de silhouette global: 0.42142245646185067\n"
     ]
    },
    {
     "name": "stderr",
     "output_type": "stream",
     "text": [
      "                                                                                \r"
     ]
    }
   ],
   "source": [
    "### sans pca  \n",
    "\n",
    "cost = []\n",
    "K = range(5, 15) \n",
    "for k in K:\n",
    "    kmeans = KMeans(featuresCol='scaled_features', predictionCol='cluster', k=k, seed=42)\n",
    "    model = kmeans.fit(data_scaled)\n",
    "    cost.append(model.summary.trainingCost)\n",
    "    predictions = model.transform(data_scaled)\n",
    "    evaluator = ClusteringEvaluator(featuresCol='scaled_features', predictionCol='cluster', metricName='silhouette', distanceMeasure='squaredEuclidean')\n",
    "    silhouette_score = evaluator.evaluate(predictions)\n",
    "    print(f\"Indice de silhouette global: {silhouette_score}\")\n"
   ]
  },
  {
   "cell_type": "code",
   "execution_count": 9,
   "id": "2a40f6ea-e529-460d-8f9a-b61ec3f4a3d1",
   "metadata": {},
   "outputs": [
    {
     "data": {
      "image/png": "[encoded data removed]",
      "text/plain": [
       "<Figure size 1000x600 with 1 Axes>"
      ]
     },
     "metadata": {},
     "output_type": "display_data"
    }
   ],
   "source": [
    "plt.figure(figsize=(10, 6))\n",
    "plt.plot(K, cost, 'bx-')\n",
    "plt.xlabel('Number of clusters (k)')\n",
    "plt.ylabel('Cost')\n",
    "plt.title('Elbow Method For Optimal k')\n",
    "plt.show()"
   ]
  },
  {
   "cell_type": "code",
   "execution_count": 19,
   "id": "5ce9e497-bb63-4968-ad1d-a7afd4e72f33",
   "metadata": {
    "scrolled": true
   },
   "outputs": [
    {
     "name": "stderr",
     "output_type": "stream",
     "text": [
      "                                                                                \r"
     ]
    }
   ],
   "source": [
    "#sans pca\n",
    "\n",
    "k_optimal = 10\n",
    "\n",
    "kmeans = KMeans(featuresCol='scaled_features', predictionCol='cluster', k=k_optimal,seed=42)\n",
    "\n",
    "model = kmeans.fit(data_scaled)\n",
    "\n",
    "# Prédictions et centres des clusters\n",
    "predictions1 = model.transform(data_scaled)\n",
    "centroids1 = model.clusterCenters()\n",
    "\n"
   ]
  },
  {
   "cell_type": "code",
   "execution_count": 20,
   "id": "6e894c0b-8a7e-40ac-807d-553d262cffcb",
   "metadata": {},
   "outputs": [
    {
     "name": "stdout",
     "output_type": "stream",
     "text": [
      "Cluster 0 real centroid: [0.005449293346237059, 4.4634009582194185, 0.7441047580596725, 8.59080319525884, 0.011367470171405155, 3.2837839968566396, 5.2375314570195775, 21.72231530670277, 0.0428722294463751, 1.9115235626263183, 0.1973929459663277, 0.899288330137513, 46.56218610905121, 81.9571765563355, 199.31266776650844]\n",
      "Cluster 1 real centroid: [0.0033888662096652213, 234.18309109736828, 38.27773839113112, 377.30140622832914, 0.00886083106796441, 92.55204032718808, 265.6644846501782, 700.1228810494914, 0.29796255806735344, 112.45433704109864, 7.414784668919883, 2934.948826239032, 900.4726015113343, 1167.223668405363, 150.25824960423114]\n",
      "Cluster 2 real centroid: [0.7051630597580524, 72.63242245319567, 2.6381134992759705, 491.5963061170945, 0.00886083106796441, 22.198760757295606, 79.33455942461897, 263.0487591856921, 907.0714720130171, 18.147269311522564, 0.11761991796202871, 14.06610964034245, 1483.5387645319745, 747.4011718042016, 157.96014059422]\n",
      "Cluster 3 real centroid: [0.302718368125374, 114.19199914334523, 30.44934758653342, 234.65493113254377, 0.053611788922370535, 73.04778745362486, 170.43929307929704, 328.1291837314837, 0.9803571940826791, 51.39533320968101, 620.8112022934408, 21.015569534051508, 629.6440766071197, 1050.05502855862, 155.14713849312002]\n",
      "Cluster 4 real centroid: [0.0033888662096652213, 226.85794659947257, 19.8817390334438, 4491.674502804307, 0.11674477010665138, 44.63334552453079, 155.12239987388722, 617.0563908840621, 1.9087453934960636, 94.89916036019326, 3.897549577985475, 28.038980910621913, 964.3763831834134, 818.9115993275536, 172.34916604519003]\n",
      "Cluster 5 real centroid: [1.7121568070935647, 740.8023940319935, 11.867754681597981, 175.70898978911387, 0.08994794205275906, 100.15531113387652, 828.3256685620353, 1627.1946921116555, 0.7219416733839314, 69.26590580434619, 3.4955551176209743, 22.07907681385389, 6238.656664915663, 8845.797000992778, 170.91566141275075]\n",
      "Cluster 6 real centroid: [0.0033888662096652213, 104.42033281574206, 4.170398683403861, 87.56096069888157, 370.36717941513865, 69.03316127114087, 384.3299676461433, 286.4042773130115, 0.4326467204109604, 49.642380644665586, 1.9438146082275152, 0.9596294804794774, 630.9860511434504, 374.1315000942386, 158.98269269242155]\n",
      "Cluster 7 real centroid: [0.04510997173730341, 186.68581198148226, 14.002445643869908, 196.25251782077424, 0.24044374564082877, 3068.3262907459484, 307.90908446919667, 467.8567029367052, 0.6770827278819437, 1013.0424058814691, 3.8246425310273544, 27.40918266676489, 1394.102590921989, 4242.74080302482, 154.05590165760142]\n",
      "Cluster 8 real centroid: [0.0033888662096652213, 254.87994933491612, 0.4582747895985514, 350.1623545041913, 1475.9330274977347, 79.5128736605214, 1287.833699209565, 622.9917699383802, 0.024859109791491345, 238.58173167711396, 0.11761991796202871, 4.3653300704499785, 1362.6478505534794, 561.6046933095778, 133.22089328239207]\n",
      "Cluster 9 real centroid: [0.44831986896955484, 353.20522685714855, 1383.9577136120454, 313.9406134738325, 0.31669891754450535, 58.74855673319851, 125.1680061706201, 643.2871210576689, 0.2594037280067627, 76.23390892335743, 3.7563687680080267, 52.99187484199244, 574.7012022860772, 1259.737177976858, 168.19505764915073]\n"
     ]
    },
    {
     "name": "stderr",
     "output_type": "stream",
     "text": [
      "[Stage 1426:==================================================>   (16 + 1) / 17]\r"
     ]
    },
    {
     "name": "stdout",
     "output_type": "stream",
     "text": [
      "Indice de silhouette global: 0.9964581955961375\n"
     ]
    },
    {
     "name": "stderr",
     "output_type": "stream",
     "text": [
      "                                                                                \r"
     ]
    }
   ],
   "source": [
    "\n",
    "means = scaler_model.mean.toArray() \n",
    "std_devs = scaler_model.std.toArray()\n",
    "\n",
    "real_centroids = [(centroid * std_devs + means).tolist() for centroid in centroids1]\n",
    "\n",
    "for i, real_centroid in enumerate(real_centroids):\n",
    "    print(f\"Cluster {i} real centroid: {real_centroid}\")\n",
    "\n",
    "# Afficher les données réelles associées à chaque cluster\n",
    "result = predictions1.select('user_id', 'cluster')\n",
    "clustered_data = final_df.join(result, 'user_id')\n",
    "#squaredEuclidean\n",
    "\n",
    "evaluator1 = ClusteringEvaluator(featuresCol='scaled_features', predictionCol='cluster', metricName='silhouette', distanceMeasure='squaredEuclidean')\n",
    "silhouette_score1 = evaluator1.evaluate(predictions1)\n",
    "print(f\"Indice de silhouette global: {silhouette_score1}\")\n",
    "\n"
   ]
  },
  {
   "cell_type": "code",
   "execution_count": 19,
   "id": "4f65da88-ce95-44e0-8ebf-cc02a436f6d4",
   "metadata": {},
   "outputs": [],
   "source": [
    "model.save(\"/home/amine/Desktop/EPSI/MSPR2-IA/DATA/kmeans_model\")"
   ]
  },
  {
   "cell_type": "code",
   "execution_count": 21,
   "id": "9a22eecd-7725-49b1-a5d1-c6d5accec298",
   "metadata": {},
   "outputs": [
    {
     "name": "stderr",
     "output_type": "stream",
     "text": [
      "[Stage 1429:==================================================>   (16 + 1) / 17]\r"
     ]
    },
    {
     "name": "stdout",
     "output_type": "stream",
     "text": [
      "+-------+----------+\n",
      "|cluster|user_count|\n",
      "+-------+----------+\n",
      "|      1|       261|\n",
      "|      6|       113|\n",
      "|      3|       522|\n",
      "|      5|      7137|\n",
      "|      9|      1087|\n",
      "|      4|      1722|\n",
      "|      7|       839|\n",
      "|      2|        62|\n",
      "|      0|   9561373|\n",
      "|      8|        12|\n",
      "+-------+----------+\n",
      "\n"
     ]
    },
    {
     "name": "stderr",
     "output_type": "stream",
     "text": [
      "                                                                                \r"
     ]
    }
   ],
   "source": [
    "\n",
    "result.groupBy('cluster').agg(count('user_id').alias('user_count')).show()\n"
   ]
  },
  {
   "cell_type": "code",
   "execution_count": 22,
   "id": "f5a6fa4e-ca07-463e-b197-eec57b2bc37f",
   "metadata": {},
   "outputs": [
    {
     "name": "stderr",
     "output_type": "stream",
     "text": [
      "                                                                                \r"
     ]
    }
   ],
   "source": [
    "from pyspark.ml.feature import VectorAssembler, StandardScaler, PCA\n",
    "from pyspark.ml.clustering import KMeans\n",
    "\n",
    "# Étape 1 : Assembler les caractéristiques\n",
    "assembler = VectorAssembler(inputCols=columns_of_interest, outputCol='features')\n",
    "data = assembler.transform(final_df)\n",
    "\n",
    "# Étape 2 : Normaliser les caractéristiques\n",
    "scaler = StandardScaler(inputCol='features', outputCol='scaled_features')\n",
    "scaler_model = scaler.fit(data)\n",
    "data_scaled = scaler_model.transform(data)\n",
    "\n",
    "# Étape 3 : Appliquer la PCA\n",
    "pca = PCA(k=3, inputCol='scaled_features', outputCol='pca_features') # k=3 est le nombre de composantes principales, ajustez selon votre besoin\n",
    "pca_model = pca.fit(data_scaled)\n",
    "data_pca = pca_model.transform(data_scaled)\n",
    "\n",
    "# Étape 4 : Clustering K-means\n",
    "k_optimal = 10\n",
    "kmeans = KMeans(featuresCol='pca_features', predictionCol='cluster', k=k_optimal, seed=42)\n",
    "model = kmeans.fit(data_pca)\n",
    "\n",
    "# Prédictions et centres des clusters\n",
    "predictions1 = model.transform(data_pca)\n",
    "centroids1 = model.clusterCenters()\n"
   ]
  },
  {
   "cell_type": "code",
   "execution_count": 24,
   "id": "d0180189-f8f4-4764-a6c6-0befb2537a7f",
   "metadata": {},
   "outputs": [
    {
     "name": "stderr",
     "output_type": "stream",
     "text": [
      "[Stage 1498:==================================================>   (16 + 1) / 17]\r"
     ]
    },
    {
     "name": "stdout",
     "output_type": "stream",
     "text": [
      "Indice de silhouette global: 0.9182797446072208\n"
     ]
    },
    {
     "name": "stderr",
     "output_type": "stream",
     "text": [
      "                                                                                \r"
     ]
    }
   ],
   "source": [
    "evaluator1 = ClusteringEvaluator(featuresCol='scaled_features', predictionCol='cluster', metricName='silhouette', distanceMeasure='squaredEuclidean')\n",
    "silhouette_score1 = evaluator1.evaluate(predictions1)\n",
    "print(f\"Indice de silhouette global: {silhouette_score1}\")"
   ]
  },
  {
   "cell_type": "code",
   "execution_count": null,
   "id": "7b2fe764",
   "metadata": {},
   "outputs": [],
   "source": [
    "final_df.write.parquet('/home/amine/Desktop/EPSI/MSPR2-IA/DATA/final_df.parquet')"
   ]
  },
  {
   "cell_type": "code",
   "execution_count": 23,
   "id": "1aeb467f-1ded-442a-8b3f-850d2f104cd4",
   "metadata": {},
   "outputs": [],
   "source": [
    "loaded_model = KMeansModel.load('/home/amine/Desktop/EPSI/MSPR2-IA/DATA/kmeans_model')"
   ]
  }
 ],
 "metadata": {
  "kernelspec": {
   "display_name": "Python 3 (ipykernel)",
   "language": "python",
   "name": "python3"
  },
  "language_info": {
   "codemirror_mode": {
    "name": "ipython",
    "version": 3
   },
   "file_extension": ".py",
   "mimetype": "text/x-python",
   "name": "python",
   "nbconvert_exporter": "python",
   "pygments_lexer": "ipython3",
   "version": "3.10.12"
  }
 },
 "nbformat": 4,
 "nbformat_minor": 5
}
