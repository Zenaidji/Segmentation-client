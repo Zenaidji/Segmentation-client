{
 "cells": [
  {
   "cell_type": "code",
   "execution_count": null,
   "id": "43c04cab-3565-4710-bda9-b2fec8e9878c",
   "metadata": {},
   "outputs": [],
   "source": [
    "!pip install pyspark\n"
   ]
  },
  {
   "cell_type": "code",
   "execution_count": 145,
   "id": "ffeb6fdc",
   "metadata": {},
   "outputs": [],
   "source": [
    "import os\n",
    "os.environ['PYARROW_IGNORE_TIMEZONE'] = '1'\n",
    "import pandas as pd\n",
    "import numpy as np\n",
    "import pyspark.pandas as ps\n",
    "from pyspark.sql import SparkSession\n",
    "from pyspark.sql.functions import avg, col,min,max,mean\n",
    "import time\n"
   ]
  },
  {
   "cell_type": "code",
   "execution_count": 146,
   "id": "d9a5b620-d767-42d8-958e-97f633ef01db",
   "metadata": {},
   "outputs": [],
   "source": [
    "from pyspark.sql.types import StructType, StructField, StringType, IntegerType, LongType, DoubleType, TimestampType\n",
    "\n",
    "# Schéma de la donnée\n",
    "schema = StructType([\n",
    "    StructField(\"event_time\", TimestampType(), True),\n",
    "    StructField(\"event_type\", StringType(), True),\n",
    "    StructField(\"product_id\", IntegerType(), True),\n",
    "    StructField(\"category_id\", LongType(), True),\n",
    "    StructField(\"category_code\", StringType(), True),\n",
    "    StructField(\"brand\", StringType(), True),\n",
    "    StructField(\"price\", DoubleType(), True),\n",
    "    StructField(\"user_id\", IntegerType(), True),\n",
    "    StructField(\"user_session\", StringType(), True)\n",
    "])\n"
   ]
  },
  {
   "cell_type": "code",
   "execution_count": 147,
   "id": "aa9a2c17",
   "metadata": {},
   "outputs": [
    {
     "name": "stderr",
     "output_type": "stream",
     "text": [
      "[Stage 163:===================================================>   (40 + 3) / 43]\r"
     ]
    },
    {
     "name": "stdout",
     "output_type": "stream",
     "text": [
      "Nombre de lignes OCT: 42448764\n"
     ]
    },
    {
     "name": "stderr",
     "output_type": "stream",
     "text": [
      "\r",
      "[Stage 163:====================================================>  (41 + 2) / 43]\r",
      "\r",
      "                                                                                \r"
     ]
    }
   ],
   "source": [
    " nombre_lignes_oct = oct_df.count()\n",
    "# nombre_lignes_nov = nov_df.count()\n",
    "# nombre_lignes_dec = dec_df.count()\n",
    "# nombre_lignes_jan = jan_df.count()\n",
    "#nombre_lignes_feb = feb_df.count()\n",
    "# nombre_lignes_mar = mar_df.count()\n",
    "# nombre_lignes_apr = apr_df.count()\n",
    "\n",
    "# print(f\" OCT: {oct_df.printSchema()}\")\n",
    "# print(f\"NOV: {nov_df.printSchema()}\")\n",
    "# print(f\"DEC: {dec_df.printSchema()}\")\n",
    "# print(f\"JAN: {jan_df.printSchema()}\")\n",
    "#print(f\"FEB: {feb_df.printSchema()}\")\n",
    "# print(f\"MAR: {mar_df.printSchema()}\")\n",
    "# print(f\"APR: {apr_df.printSchema()}\")\n",
    "\n",
    "\n",
    " print(f\"Nombre de lignes OCT: {nombre_lignes_oct}\")\n",
    "# print(f\"Nombre de lignes NOV: {nombre_lignes_nov}\")\n",
    "# print(f\"Nombre de lignes DEC: {nombre_lignes_dec}\")\n",
    "# print(f\"Nombre de lignes JAN: {nombre_lignes_jan}\")\n",
    "#print(f\"Nombre de lignes FEB: {nombre_lignes_feb}\")\n",
    "# print(f\"Nombre de lignes MAR: {nombre_lignes_mar}\")\n",
    "# print(f\"Nombre de lignes APR: {nombre_lignes_apr}\")"
   ]
  },
  {
   "cell_type": "code",
   "execution_count": 148,
   "id": "015ae211",
   "metadata": {},
   "outputs": [
    {
     "name": "stdout",
     "output_type": "stream",
     "text": [
      "+-------------------+----------+----------+-------------------+--------------------+--------+-------+---------+--------------------+\n",
      "|         event_time|event_type|product_id|        category_id|       category_code|   brand|  price|  user_id|        user_session|\n",
      "+-------------------+----------+----------+-------------------+--------------------+--------+-------+---------+--------------------+\n",
      "|2019-10-01 02:00:00|      view|  44600062|2103807459595387724|                NULL|shiseido|  35.79|541312140|72d76fde-8bb3-4e0...|\n",
      "|2019-10-01 02:00:00|      view|   3900821|2053013552326770905|appliances.enviro...|    aqua|   33.2|554748717|9333dfbd-b87a-470...|\n",
      "|2019-10-01 02:00:01|      view|  17200506|2053013559792632471|furniture.living_...|    NULL|  543.1|519107250|566511c2-e2e3-422...|\n",
      "|2019-10-01 02:00:01|      view|   1307067|2053013558920217191|  computers.notebook|  lenovo| 251.74|550050854|7c90fc70-0e80-459...|\n",
      "|2019-10-01 02:00:04|      view|   1004237|2053013555631882655|electronics.smart...|   apple|1081.98|535871217|c6bd7419-2748-4c5...|\n",
      "|2019-10-01 02:00:05|      view|   1480613|2053013561092866779|   computers.desktop|  pulser| 908.62|512742880|0d0d91c2-c9c2-4e8...|\n",
      "|2019-10-01 02:00:08|      view|  17300353|2053013553853497655|                NULL|   creed| 380.96|555447699|4fe811e9-91de-46d...|\n",
      "|2019-10-01 02:00:08|      view|  31500053|2053013558031024687|                NULL|luminarc|  41.16|550978835|6280d577-25c8-414...|\n",
      "|2019-10-01 02:00:10|      view|  28719074|2053013565480109009|  apparel.shoes.keds|   baden| 102.71|520571932|ac1cd4e5-a3ce-422...|\n",
      "|2019-10-01 02:00:11|      view|   1004545|2053013555631882655|electronics.smart...|  huawei| 566.01|537918940|406c46ed-90a4-478...|\n",
      "|2019-10-01 02:00:11|      view|   2900536|2053013554776244595|appliances.kitche...|elenberg|  51.46|555158050|b5bdd0b3-4ca2-4c5...|\n",
      "|2019-10-01 02:00:11|      view|   1005011|2053013555631882655|electronics.smart...| samsung| 900.64|530282093|50a293fb-5940-41b...|\n",
      "|2019-10-01 02:00:13|      view|   3900746|2053013552326770905|appliances.enviro...|   haier| 102.38|555444559|98b88fa0-d8fa-4b9...|\n",
      "|2019-10-01 02:00:15|      view|  44600062|2103807459595387724|                NULL|shiseido|  35.79|541312140|72d76fde-8bb3-4e0...|\n",
      "|2019-10-01 02:00:16|      view|  13500240|2053013557099889147|furniture.bedroom...|     brw|  93.18|555446365|7f0062d8-ead0-4e0...|\n",
      "|2019-10-01 02:00:17|      view|  23100006|2053013561638126333|                NULL|    NULL| 357.79|513642368|17566c27-0a8f-450...|\n",
      "|2019-10-01 02:00:18|      view|   1801995|2053013554415534427|electronics.video.tv|   haier| 193.03|537192226|e3151795-c355-4ef...|\n",
      "|2019-10-01 02:00:18|      view|  10900029|2053013555069845885|appliances.kitche...|   bosch|  58.95|519528062|901b9e3c-3f8f-414...|\n",
      "|2019-10-01 02:00:19|      view|   1306631|2053013558920217191|  computers.notebook|      hp| 580.89|550050854|7c90fc70-0e80-459...|\n",
      "|2019-10-01 02:00:19|      view|   1005135|2053013555631882655|electronics.smart...|   apple|1747.79|535871217|c6bd7419-2748-4c5...|\n",
      "+-------------------+----------+----------+-------------------+--------------------+--------+-------+---------+--------------------+\n",
      "only showing top 20 rows\n",
      "\n"
     ]
    }
   ],
   "source": [
    "oct_df.show()\n",
    "# nov_df.show()\n",
    "# dec_df.show()\n",
    "# jan_df.show()\n",
    "#feb_df.show()\n",
    "# mar_df.show()\n",
    "# apr_df.show()"
   ]
  },
  {
   "cell_type": "code",
   "execution_count": null,
   "id": "4219666e",
   "metadata": {},
   "outputs": [],
   "source": [
    "\n",
    "# amazing_df = pdf[pdf['category_code'] == 'Amazing']\n",
    "# amazing_df.count()"
   ]
  },
  {
   "cell_type": "code",
   "execution_count": null,
   "id": "9885a3a7",
   "metadata": {},
   "outputs": [],
   "source": [
    "pip install matplotlib"
   ]
  },
  {
   "cell_type": "code",
   "execution_count": null,
   "id": "e3afa762",
   "metadata": {},
   "outputs": [],
   "source": [
    "# import matplotlib.pyplot as plt\n",
    "\n",
    "# pdf['category_code'] = pdf['category_code'].astype(str)\n",
    "# pdf['count'] = pdf['count'].astype(int)\n",
    "# pdf_sorted = pdf.sort_values(by='count', ascending=False)\n",
    "\n",
    "\n",
    "# top_10_pdf = pdf_sorted.head(10)\n",
    "# # Graphique des marques avec Matplotlib\n",
    "# plt.figure(figsize=(12, 6))\n",
    "# plt.bar(top_10_pdf['category_code'], top_10_pdf['count'], color='skyblue')df\n",
    "# plt.xlabel('Marque')\n",
    "# plt.ylabel('Nombre de produits')\n",
    "# plt.title('Nombre de produits par marque')\n",
    "# plt.xticks(rotation=90)\n",
    "# plt.show()\n",
    "\n",
    "# pdf.head()\n",
    "# spark.stop()"
   ]
  },
  {
   "cell_type": "code",
   "execution_count": null,
   "id": "f19e8da7",
   "metadata": {},
   "outputs": [],
   "source": [
    "# top_10_pdf.head()"
   ]
  },
  {
   "cell_type": "code",
   "execution_count": null,
   "id": "739004c2",
   "metadata": {},
   "outputs": [],
   "source": [
    "# pdf['event_type'].head()"
   ]
  },
  {
   "cell_type": "code",
   "execution_count": 149,
   "id": "3389792b-ee58-43e4-abbb-cc92bacfa3cd",
   "metadata": {},
   "outputs": [],
   "source": [
    "\n",
    "df = oct_df.dropDuplicates()\n"
   ]
  },
  {
   "cell_type": "code",
   "execution_count": 150,
   "id": "e920ea59",
   "metadata": {},
   "outputs": [
    {
     "name": "stderr",
     "output_type": "stream",
     "text": [
      "[Stage 169:====================================================>  (64 + 3) / 67]\r"
     ]
    },
    {
     "name": "stdout",
     "output_type": "stream",
     "text": [
      "42418544\n"
     ]
    },
    {
     "name": "stderr",
     "output_type": "stream",
     "text": [
      "\r",
      "                                                                                \r"
     ]
    }
   ],
   "source": [
    "\n",
    "print(df.count())"
   ]
  },
  {
   "cell_type": "code",
   "execution_count": 151,
   "id": "1e212c21",
   "metadata": {},
   "outputs": [
    {
     "name": "stderr",
     "output_type": "stream",
     "text": [
      "[Stage 175:====================================================>  (64 + 3) / 67]\r"
     ]
    },
    {
     "name": "stdout",
     "output_type": "stream",
     "text": [
      "42418544\n"
     ]
    },
    {
     "name": "stderr",
     "output_type": "stream",
     "text": [
      "\r",
      "[Stage 175:=====================================================> (65 + 2) / 67]\r",
      "\r",
      "                                                                                \r"
     ]
    }
   ],
   "source": [
    "df=df.dropna(how=\"all\")\n",
    "print(df.count())\n"
   ]
  },
  {
   "cell_type": "code",
   "execution_count": 152,
   "id": "48d02cb9",
   "metadata": {},
   "outputs": [
    {
     "name": "stderr",
     "output_type": "stream",
     "text": [
      "[Stage 181:====================================================>  (64 + 3) / 67]\r"
     ]
    },
    {
     "name": "stdout",
     "output_type": "stream",
     "text": [
      "42349874\n"
     ]
    },
    {
     "name": "stderr",
     "output_type": "stream",
     "text": [
      "\r",
      "[Stage 181:=====================================================> (65 + 2) / 67]\r",
      "\r",
      "                                                                                \r"
     ]
    }
   ],
   "source": [
    "from pyspark.sql.functions import col\n",
    "df = df.filter((df[\"price\"]!=0 )&(df[\"price\"].isNotNull()))\n",
    "print(df.count())"
   ]
  },
  {
   "cell_type": "code",
   "execution_count": 153,
   "id": "e86713a4",
   "metadata": {},
   "outputs": [
    {
     "name": "stderr",
     "output_type": "stream",
     "text": [
      "                                                                                \r"
     ]
    },
    {
     "name": "stdout",
     "output_type": "stream",
     "text": [
      "42349874\n"
     ]
    }
   ],
   "source": [
    "print(df.count())\n"
   ]
  },
  {
   "cell_type": "code",
   "execution_count": null,
   "id": "5687f1b0",
   "metadata": {},
   "outputs": [],
   "source": [
    "\n",
    "\n",
    "\n",
    "col_name = \"category_code\"\n",
    "\n",
    "\n",
    "df=oct_df.filter(col(col_name).isNull())\n",
    "category_code_empty_count = oct_df.filter(col(col_name) == '').count()\n",
    "\n",
    "print(\"Nombre de valeurs nulles dans la colonne '{}': {}\".format(col_name, category_code_null_count))\n",
    "print(\"Nombre de lignes vides dans la colonne '{}': {}\".format(col_name, category_code_empty_count))"
   ]
  },
  {
   "cell_type": "code",
   "execution_count": null,
   "id": "723d1d23",
   "metadata": {},
   "outputs": [],
   "source": []
  }
 ],
 "metadata": {
  "kernelspec": {
   "display_name": "Python 3 (ipykernel)",
   "language": "python",
   "name": "python3"
  },
  "language_info": {
   "codemirror_mode": {
    "name": "ipython",
    "version": 3
   },
   "file_extension": ".py",
   "mimetype": "text/x-python",
   "name": "python",
   "nbconvert_exporter": "python",
   "pygments_lexer": "ipython3",
   "version": "3.10.6"
  }
 },
 "nbformat": 4,
 "nbformat_minor": 5
}
