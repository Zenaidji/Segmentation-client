{
 "cells": [
  {
   "cell_type": "code",
   "execution_count": 2,
   "id": "083464cd",
   "metadata": {},
   "outputs": [
    {
     "name": "stderr",
     "output_type": "stream",
     "text": [
      "/home/amine/.local/lib/python3.10/site-packages/pyspark/pandas/__init__.py:50: UserWarning: 'PYARROW_IGNORE_TIMEZONE' environment variable was not set. It is required to set this environment variable to '1' in both driver and executor sides if you use pyarrow>=2.0.0. pandas-on-Spark will set it for you but it does not work if there is a Spark context already launched.\n",
      "  warnings.warn(\n"
     ]
    }
   ],
   "source": [
    "import os\n",
    "import pandas as pd\n",
    "import numpy as np\n",
    "import pyspark.pandas as ps\n",
    "from pyspark.sql import SparkSession\n",
    "from pyspark.sql.functions import avg, col, min, max, mean, when, count, sum, split, countDistinct, unix_timestamp, lit\n",
    "from pyspark.sql.types import StructType, StructField, StringType, IntegerType, LongType, DoubleType, TimestampType, FloatType\n",
    "from pyspark.sql.window import Window\n",
    "from pyspark.sql.functions import year, month, dayofmonth, hour, datediff\n",
    "from pyspark.ml.feature import VectorAssembler, StandardScaler\n",
    "from pyspark.ml.clustering import KMeans\n",
    "from pyspark.ml import Pipeline\n",
    "import matplotlib.pyplot as plt\n",
    "import datetime\n",
    "from pyspark.ml.evaluation import ClusteringEvaluator\n",
    "os.environ['PYARROW_IGNORE_TIMEZONE'] = '1'\n",
    "from pyspark.ml.clustering import KMeansModel"
   ]
  },
  {
   "cell_type": "code",
   "execution_count": 3,
   "id": "2db74915",
   "metadata": {},
   "outputs": [
    {
     "name": "stderr",
     "output_type": "stream",
     "text": [
      "Setting default log level to \"WARN\".\n",
      "To adjust logging level use sc.setLogLevel(newLevel). For SparkR, use setLogLevel(newLevel).\n",
      "24/06/25 20:58:03 WARN NativeCodeLoader: Unable to load native-hadoop library for your platform... using builtin-java classes where applicable\n",
      "24/06/25 20:58:04 WARN Utils: Service 'SparkUI' could not bind on port 4040. Attempting port 4041.\n"
     ]
    }
   ],
   "source": [
    "schema = StructType([\n",
    "    StructField(\"event_time\", TimestampType(), True),\n",
    "    StructField(\"event_type\", StringType(), True),\n",
    "    StructField(\"product_id\", IntegerType(), True),\n",
    "    StructField(\"category_id\", LongType(), True),\n",
    "    StructField(\"category_code\", StringType(), True),\n",
    "    StructField(\"brand\", StringType(), True),\n",
    "    StructField(\"price\", DoubleType(), True),\n",
    "    StructField(\"user_id\", IntegerType(), True),\n",
    "    StructField(\"user_session\", StringType(), True)\n",
    "])\n",
    "\n",
    "spark = SparkSession.builder \\\n",
    "    .appName(\"msprv3\") \\\n",
    "    .config(\"spark.executor.memory\", \"6g\") \\\n",
    "    .config(\"spark.driver.memory\", \"6g\") \\\n",
    "    .config(\"spark.executor.cores\", \"6\") \\\n",
    "    .config(\"spark.driver.maxResultSize\", \"4g\") \\\n",
    "    .getOrCreate()\n"
   ]
  },
  {
   "cell_type": "code",
   "execution_count": 57,
   "id": "fa84f258-d811-4017-b3b1-acd2fa084ac6",
   "metadata": {},
   "outputs": [
    {
     "name": "stderr",
     "output_type": "stream",
     "text": [
      "[Stage 2047:===================================================>(204 + 4) / 208]\r"
     ]
    },
    {
     "name": "stdout",
     "output_type": "stream",
     "text": [
      "+-------+--------------------+\n",
      "|  month|average_basket_value|\n",
      "+-------+--------------------+\n",
      "|2019-10|   365.2544857819142|\n",
      "|2020-02|  375.37292252210574|\n",
      "|2019-11|   345.4194140470352|\n",
      "|2020-05|   419.1569216417911|\n",
      "|2020-03|   384.7077046979165|\n",
      "|2020-01|   371.4240602975602|\n",
      "|2019-12|     354.83779892284|\n",
      "|2020-04|   285.6421997645362|\n",
      "+-------+--------------------+\n",
      "\n"
     ]
    },
    {
     "name": "stderr",
     "output_type": "stream",
     "text": [
      "                                                                                \r"
     ]
    }
   ],
   "source": [
    "from pyspark.sql import functions as F\n",
    "\n",
    "# Filtrer les événements de type \"purchase\"\n",
    "purchases_df = combined_df.filter(combined_df.event_type == \"purchase\")\n",
    "\n",
    "# Ajouter une colonne avec le mois de l'événement\n",
    "purchases_df = purchases_df.withColumn(\"month\", F.date_format(purchases_df.event_time, \"yyyy-MM\"))\n",
    "\n",
    "# Calculer la somme des prix pour chaque session utilisateur par mois\n",
    "session_total_df = purchases_df.groupBy(\"month\", \"user_session\").agg(F.sum(\"price\").alias(\"session_total\"))\n",
    "\n",
    "# Calculer le panier moyen pour chaque mois\n",
    "monthly_average_basket_value = session_total_df.groupBy(\"month\").agg(F.avg(\"session_total\").alias(\"average_basket_value\"))\n",
    "\n",
    "# Afficher les résultats\n",
    "monthly_average_basket_value.show()\n"
   ]
  },
  {
   "cell_type": "code",
   "execution_count": 4,
   "id": "362e9d22-cf98-4802-a500-91d7f451bfdd",
   "metadata": {},
   "outputs": [],
   "source": [
    "octobre_df = spark.read.csv(\"/home/amine/Desktop/EPSI/MSPR2-IA/DATA/2019-Oct.csv\", header=False, schema=schema)\n",
    "novembre_df = spark.read.csv(\"/home/amine/Desktop/EPSI/MSPR2-IA/DATA/2019-Nov.csv\", header=False, schema=schema)\n",
    "decembre_df = spark.read.csv(\"/home/amine/Desktop/EPSI/MSPR2-IA/DATA/2019-Dec.csv\", header=False, schema=schema)\n",
    "janvier_df = spark.read.csv(\"/home/amine/Desktop/EPSI/MSPR2-IA/DATA/2020-Jan.csv\", header=False, schema=schema)\n",
    "fevrier_df = spark.read.csv(\"/home/amine/Desktop/EPSI/MSPR2-IA/DATA/2020-Feb.csv\", header=False, schema=schema)\n",
    "mars_df = spark.read.csv(\"/home/amine/Desktop/EPSI/MSPR2-IA/DATA/2020-Mar.csv\", header=False, schema=schema)\n",
    "avril_df = spark.read.csv(\"/home/amine/Desktop/EPSI/MSPR2-IA/DATA/2020-Apr.csv\", header=False, schema=schema)\n",
    "\n",
    "combined_df = (octobre_df\n",
    "               .union(novembre_df)\n",
    "               .union(decembre_df)\n",
    "               .union(janvier_df)\n",
    "               .union(fevrier_df)\n",
    "               .union(mars_df)\n",
    "               .union(avril_df))"
   ]
  },
  {
   "cell_type": "code",
   "execution_count": 5,
   "id": "b5527426-228b-4b76-8c45-bb3b15f1fc5b",
   "metadata": {},
   "outputs": [
    {
     "name": "stderr",
     "output_type": "stream",
     "text": [
      "                                                                                \r"
     ]
    },
    {
     "name": "stdout",
     "output_type": "stream",
     "text": [
      "+---------+---------------+------------------+------------------+---------+-------------------+--------------------------+-------------------+------------------------+\n",
      "|  user_id|total_purchases|       total_spent|         avg_spent|max_spent|distinct_categories|avg_days_between_purchases| last_purchase_time|days_since_last_purchase|\n",
      "+---------+---------------+------------------+------------------+---------+-------------------+--------------------------+-------------------+------------------------+\n",
      "|518619616|              4| 611.0799999999999|152.76999999999998|   174.78|                  1|                       0.0|2019-10-01 05:41:58|                    1729|\n",
      "|518685353|              3| 891.8800000000001|297.29333333333335|    850.7|                  3|                     105.5|2020-04-29 11:32:32|                    1518|\n",
      "|537163771|              9|           4295.62| 477.2911111111111|  1477.26|                  2|                    11.125|2019-12-29 13:04:40|                    1640|\n",
      "|540805815|              6|           1287.01|214.50166666666667|   362.94|                  1|                       1.2|2019-10-07 13:57:12|                    1723|\n",
      "|542465551|              3|           2634.27|            878.09|  1285.74|                  1|                      45.5|2019-12-31 09:12:01|                    1638|\n",
      "|546839974|             12|1717.9099999999999|143.15916666666666|    260.5|                  3|                       6.0|2019-12-06 12:06:48|                    1663|\n",
      "|551388041|             34|           8218.79|241.72911764705884|   643.23|                  1|        0.8181818181818182|2019-10-28 11:16:51|                    1702|\n",
      "|552269114|              2|            410.85|           205.425|   213.33|                  2|                       0.0|2019-10-01 07:08:57|                    1729|\n",
      "|553923283|              4|             686.2|            171.55|   271.82|                  2|         8.333333333333334|2019-10-26 12:19:58|                    1704|\n",
      "|555468492|              1|            167.21|            167.21|   167.21|                  1|                      NULL|2019-10-01 05:04:45|                    1729|\n",
      "+---------+---------------+------------------+------------------+---------+-------------------+--------------------------+-------------------+------------------------+\n",
      "only showing top 10 rows\n",
      "\n"
     ]
    }
   ],
   "source": [
    "from pyspark.sql import functions as F\n",
    "\n",
    "# Calculer les features de base\n",
    "\n",
    "# Nombre total d'achats par client\n",
    "total_purchases = combined_df.filter(combined_df.event_type == 'purchase') \\\n",
    "                             .groupBy(\"user_id\") \\\n",
    "                             .agg(F.count(\"event_type\").alias(\"total_purchases\"))\n",
    "\n",
    "# Valeur totale des achats par client\n",
    "total_spent = combined_df.filter(combined_df.event_type == 'purchase') \\\n",
    "                         .groupBy(\"user_id\") \\\n",
    "                         .agg(F.sum(\"price\").alias(\"total_spent\"))\n",
    "\n",
    "# Valeur moyenne des achats par client\n",
    "avg_spent = combined_df.filter(combined_df.event_type == 'purchase') \\\n",
    "                       .groupBy(\"user_id\") \\\n",
    "                       .agg(F.avg(\"price\").alias(\"avg_spent\"))\n",
    "\n",
    "# Valeur maximale des achats par client\n",
    "max_spent = combined_df.filter(combined_df.event_type == 'purchase') \\\n",
    "                       .groupBy(\"user_id\") \\\n",
    "                       .agg(F.max(\"price\").alias(\"max_spent\"))\n",
    "\n",
    "# Nombre de catégories différentes de produits achetés par client\n",
    "distinct_categories = combined_df.filter(combined_df.event_type == 'purchase') \\\n",
    "                                 .groupBy(\"user_id\") \\\n",
    "                                 .agg(F.countDistinct(\"category_code\").alias(\"distinct_categories\"))\n",
    "\n",
    "# Temps moyen entre deux achats (en jours)\n",
    "time_diff = combined_df.filter(combined_df.event_type == 'purchase') \\\n",
    "                       .withColumn(\"previous_event_time\", F.lag(\"event_time\").over(Window.partitionBy(\"user_id\").orderBy(\"event_time\"))) \\\n",
    "                       .withColumn(\"time_diff\", F.datediff(F.col(\"event_time\"), F.col(\"previous_event_time\"))) \\\n",
    "                       .groupBy(\"user_id\") \\\n",
    "                       .agg(F.avg(\"time_diff\").alias(\"avg_days_between_purchases\"))\n",
    "\n",
    "# Nombre de jours depuis le dernier achat\n",
    "days_since_last_purchase = combined_df.filter(combined_df.event_type == 'purchase') \\\n",
    "                                      .groupBy(\"user_id\") \\\n",
    "                                      .agg(F.max(\"event_time\").alias(\"last_purchase_time\")) \\\n",
    "                                      .withColumn(\"days_since_last_purchase\", F.datediff(F.current_date(), F.col(\"last_purchase_time\")))\n",
    "\n",
    "# Combiner toutes les features dans un seul DataFrame\n",
    "features_df = total_purchases \\\n",
    "              .join(total_spent, \"user_id\", \"left\") \\\n",
    "              .join(avg_spent, \"user_id\", \"left\") \\\n",
    "              .join(max_spent, \"user_id\", \"left\") \\\n",
    "              .join(distinct_categories, \"user_id\", \"left\") \\\n",
    "              .join(time_diff, \"user_id\", \"left\") \\\n",
    "              .join(days_since_last_purchase, \"user_id\", \"left\")\n",
    "\n",
    "# Afficher les features créées\n",
    "features_df.show(10)\n",
    "\n",
    "\n"
   ]
  },
  {
   "cell_type": "code",
   "execution_count": 6,
   "id": "d5c051f6-f65f-4721-878c-e576b6527560",
   "metadata": {},
   "outputs": [],
   "source": [
    "user_df = features_df"
   ]
  },
  {
   "cell_type": "code",
   "execution_count": 4,
   "id": "2f4e2bf5-0df4-4ab2-8622-d120e2ba65c2",
   "metadata": {},
   "outputs": [],
   "source": [
    "# Ajouter les futures supplémentaires\n",
    "user_df = combined_df.groupBy(\"user_id\").agg(\n",
    "    count(when(col(\"event_type\") == \"view\", True)).alias(\"total_views\"),\n",
    "    count(when(col(\"event_type\") == \"purchase\", True)).alias(\"total_purchases\"),\n",
    "    count(when(col(\"event_type\") == \"cart\", True)).alias(\"total_cart_adds\"),\n",
    "    sum(\"price\").alias(\"total_spent\"),\n",
    "    countDistinct(\"user_session\").alias(\"total_sessions\"),\n",
    "    (count(\"product_id\") / countDistinct(\"user_session\")).alias(\"average_products_per_session\"),\n",
    "    count(when(col(\"event_type\") == \"view\", \"category_id\")).alias(\"most_viewed_category\"),\n",
    "    count(when(col(\"event_type\") == \"view\", \"brand\")).alias(\"most_viewed_brand\")\n",
    ")"
   ]
  },
  {
   "cell_type": "code",
   "execution_count": 5,
   "id": "bc01f704",
   "metadata": {},
   "outputs": [],
   "source": [
    "# Remplir les valeurs manquantes pour les nouvelles futures\n",
    "user_df = user_df.fillna({'total_views': 0, 'total_purchases': 0, 'total_cart_adds': 0, 'total_spent': 0, 'total_sessions': 0, 'average_products_per_session': 0, 'most_viewed_category': -1, 'most_viewed_brand': 'Unknown'})\n"
   ]
  },
  {
   "cell_type": "code",
   "execution_count": 14,
   "id": "52880849-08e2-4011-87fd-b35654f5e3bd",
   "metadata": {},
   "outputs": [
    {
     "name": "stderr",
     "output_type": "stream",
     "text": [
      "                                                                                \r"
     ]
    }
   ],
   "source": [
    "user_df.write.parquet('/home/amine/Desktop/EPSI/MSPR2-IA/DATA/user_df.parquet')"
   ]
  },
  {
   "cell_type": "code",
   "execution_count": 23,
   "id": "4d5d821e-ced5-462d-aca7-4a727e2a63d6",
   "metadata": {},
   "outputs": [],
   "source": [
    "user_df = spark.read.parquet('/home/amine/Desktop/EPSI/MSPR2-IA/DATA/user_df.parquet')"
   ]
  },
  {
   "cell_type": "code",
   "execution_count": null,
   "id": "a5d4a696-9f89-4a9f-b7e3-adbed57fa31c",
   "metadata": {},
   "outputs": [],
   "source": []
  },
  {
   "cell_type": "code",
   "execution_count": 25,
   "id": "c00f5277-5fe9-45f8-8d67-3ac8898537f7",
   "metadata": {},
   "outputs": [
    {
     "name": "stdout",
     "output_type": "stream",
     "text": [
      "+---------+-----------+---------------+---------------+------------------+--------------+----------------------------+--------------------+-----------------+\n",
      "|  user_id|total_views|total_purchases|total_cart_adds|       total_spent|total_sessions|average_products_per_session|most_viewed_category|most_viewed_brand|\n",
      "+---------+-----------+---------------+---------------+------------------+--------------+----------------------------+--------------------+-----------------+\n",
      "|555563717|          7|              0|              0|           1887.12|             3|          2.3333333333333335|                   7|                7|\n",
      "|534089759|         33|              0|              0|          15294.17|            13|          2.5384615384615383|                  33|               33|\n",
      "|516013566|        354|              1|              1|          133267.2|            54|           6.592592592592593|                 354|              354|\n",
      "|526499638|         50|              0|              8|10738.310000000001|             8|                        7.25|                  50|               50|\n",
      "|516381138|         84|              0|              0|16146.129999999997|             9|           9.333333333333334|                  84|               84|\n",
      "|552649574|         26|              0|              0|15072.779999999999|            15|          1.7333333333333334|                  26|               26|\n",
      "|555600123|          7|              0|              0|503.40999999999997|             2|                         3.5|                   7|                7|\n",
      "|522758840|        153|              0|              8| 35520.00000000001|            15|          10.733333333333333|                 153|              153|\n",
      "|529162118|          9|              0|              0| 5524.139999999999|             5|                         1.8|                   9|                9|\n",
      "|540178955|        131|              7|             24|21036.379999999997|            14|          11.571428571428571|                 131|              131|\n",
      "+---------+-----------+---------------+---------------+------------------+--------------+----------------------------+--------------------+-----------------+\n",
      "\n"
     ]
    }
   ],
   "source": [
    "user_df.limit(10).show()"
   ]
  },
  {
   "cell_type": "code",
   "execution_count": 26,
   "id": "fab1fe8c-a298-4a55-b532-a01c8ef1c558",
   "metadata": {},
   "outputs": [
    {
     "data": {
      "text/plain": [
       "9573129"
      ]
     },
     "execution_count": 26,
     "metadata": {},
     "output_type": "execute_result"
    }
   ],
   "source": [
    "user_df.count()"
   ]
  },
  {
   "cell_type": "code",
   "execution_count": 27,
   "id": "e20c026a-aede-46b3-b4df-fcab2d6f4808",
   "metadata": {},
   "outputs": [],
   "source": [
    "# Encoder les variables catégorielles et standardiser les données\n",
    "feature_columns = [\"total_views\", \"total_purchases\", \"total_cart_adds\", \"total_spent\", \"total_sessions\", \"average_products_per_session\"]\n",
    "\n",
    "assembler = VectorAssembler(inputCols=feature_columns, outputCol=\"features\")\n",
    "scaler = StandardScaler(inputCol=\"features\", outputCol=\"scaled_features\")"
   ]
  },
  {
   "cell_type": "code",
   "execution_count": 49,
   "id": "b0cc9caf-37be-475d-8c23-fcdb5cdf1469",
   "metadata": {},
   "outputs": [
    {
     "name": "stderr",
     "output_type": "stream",
     "text": [
      "                                                                                \r"
     ]
    }
   ],
   "source": [
    "# Initialiser la méthode du coude\n",
    "wcss = []\n",
    "silhouette_scores = []\n",
    "K = range(15, 25)\n",
    "\n",
    "for k in K:\n",
    "    kmeans = KMeans(k=k, featuresCol=\"scaled_features\", seed=1)\n",
    "    pipeline = Pipeline(stages=[assembler, scaler, kmeans])\n",
    "    model = pipeline.fit(user_df)\n",
    "    wcss.append(model.stages[-1].summary.trainingCost)\n",
    "    predictions = model.transform(user_df)\n",
    "    \n",
    "    # Calculer le score de silhouette\n",
    "    evaluator = ClusteringEvaluator(featuresCol=\"scaled_features\")\n",
    "    silhouette = evaluator.evaluate(model.transform(user_df))\n",
    "    silhouette_scores.append(silhouette)"
   ]
  },
  {
   "cell_type": "code",
   "execution_count": 50,
   "id": "eac7ffa8-a0ff-4261-85fc-fd60de25c193",
   "metadata": {},
   "outputs": [
    {
     "data": {
      "image/png": "[encoded data removed]",
      "text/plain": [
       "<Figure size 1000x500 with 1 Axes>"
      ]
     },
     "metadata": {},
     "output_type": "display_data"
    }
   ],
   "source": [
    "# Tracer le graphe de la méthode du coude\n",
    "plt.figure(figsize=(10, 5))\n",
    "plt.plot(K, wcss, 'bx-')\n",
    "plt.xlabel('Nombre de clusters')\n",
    "plt.ylabel('WCSS')\n",
    "plt.title('Méthode du coude pour déterminer le nombre optimal de clusters')\n",
    "plt.show()"
   ]
  },
  {
   "cell_type": "code",
   "execution_count": 51,
   "id": "e6c71bf3-325a-46b0-b501-04990e02f620",
   "metadata": {},
   "outputs": [
    {
     "data": {
      "image/png": "[encoded data removed]",
      "text/plain": [
       "<Figure size 1000x500 with 1 Axes>"
      ]
     },
     "metadata": {},
     "output_type": "display_data"
    }
   ],
   "source": [
    "# Tracer le graphe du score de silhouette\n",
    "plt.figure(figsize=(10, 5))\n",
    "plt.plot(K, silhouette_scores, 'bx-')\n",
    "plt.xlabel('Nombre de clusters')\n",
    "plt.ylabel('Score de silhouette')\n",
    "plt.title('Score de silhouette pour déterminer le nombre optimal de clusters')\n",
    "plt.show()\n"
   ]
  },
  {
   "cell_type": "code",
   "execution_count": 53,
   "id": "ad20b93c-274f-422d-a229-153d44d54052",
   "metadata": {},
   "outputs": [
    {
     "name": "stderr",
     "output_type": "stream",
     "text": [
      "                                                                                \r"
     ]
    }
   ],
   "source": [
    "# Sélectionner le nombre optimal dans nootre cas, k=5)\n",
    "kmeans = KMeans(k=17, featuresCol=\"scaled_features\", seed=1)\n",
    "pipeline = Pipeline(stages=[assembler, scaler, kmeans])\n",
    "model = pipeline.fit(user_df)"
   ]
  },
  {
   "cell_type": "code",
   "execution_count": 54,
   "id": "bd2943e9-c6d0-4c13-9472-4ca1e352ac30",
   "metadata": {},
   "outputs": [
    {
     "name": "stdout",
     "output_type": "stream",
     "text": [
      "+---------+----------+\n",
      "|  user_id|prediction|\n",
      "+---------+----------+\n",
      "|555563717|        11|\n",
      "|534089759|         0|\n",
      "|516013566|        10|\n",
      "|526499638|        15|\n",
      "|516381138|         0|\n",
      "|552649574|         0|\n",
      "|555600123|        11|\n",
      "|522758840|         5|\n",
      "|529162118|        11|\n",
      "|540178955|        13|\n",
      "|518437642|         0|\n",
      "|554721305|        11|\n",
      "|555013865|         5|\n",
      "|522185879|        11|\n",
      "|523570594|        11|\n",
      "|551275697|        11|\n",
      "|535165258|        11|\n",
      "|542352108|         5|\n",
      "|554393704|        11|\n",
      "|555475998|        11|\n",
      "+---------+----------+\n",
      "only showing top 20 rows\n",
      "\n"
     ]
    }
   ],
   "source": [
    "predictions = model.transform(user_df)\n",
    "predictions.select(\"user_id\", \"prediction\").show()"
   ]
  },
  {
   "cell_type": "code",
   "execution_count": 55,
   "id": "7053fe50-0244-4701-bb5d-e0513bddca49",
   "metadata": {},
   "outputs": [
    {
     "name": "stderr",
     "output_type": "stream",
     "text": [
      "[Stage 2038:==================================================>   (16 + 1) / 17]\r"
     ]
    },
    {
     "name": "stdout",
     "output_type": "stream",
     "text": [
      "+----------+-----------------+\n",
      "|prediction|count(prediction)|\n",
      "+----------+-----------------+\n",
      "|        13|           134443|\n",
      "|         6|             5969|\n",
      "|         3|              851|\n",
      "|         5|           208063|\n",
      "|        15|           538172|\n",
      "|         9|            29438|\n",
      "|         4|             4261|\n",
      "|         7|              144|\n",
      "|        10|            40855|\n",
      "|        11|          7711013|\n",
      "|        14|               67|\n",
      "|         0|           899821|\n",
      "|         1|                3|\n",
      "|        12|                2|\n",
      "|         8|               21|\n",
      "|        16|                4|\n",
      "|         2|                2|\n",
      "+----------+-----------------+\n",
      "\n"
     ]
    },
    {
     "name": "stderr",
     "output_type": "stream",
     "text": [
      "                                                                                \r"
     ]
    }
   ],
   "source": [
    "predictions.groupBy(\"prediction\").agg(count(\"prediction\")).show()"
   ]
  }
 ],
 "metadata": {
  "kernelspec": {
   "display_name": "Python 3 (ipykernel)",
   "language": "python",
   "name": "python3"
  },
  "language_info": {
   "codemirror_mode": {
    "name": "ipython",
    "version": 3
   },
   "file_extension": ".py",
   "mimetype": "text/x-python",
   "name": "python",
   "nbconvert_exporter": "python",
   "pygments_lexer": "ipython3",
   "version": "3.10.12"
  }
 },
 "nbformat": 4,
 "nbformat_minor": 5
}
