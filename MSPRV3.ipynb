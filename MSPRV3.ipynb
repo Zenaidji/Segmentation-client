{
 "cells": [
  {
   "cell_type": "code",
   "execution_count": 1,
   "id": "083464cd",
   "metadata": {},
   "outputs": [],
   "source": [
    "import os\n",
    "os.environ['PYARROW_IGNORE_TIMEZONE'] = '1'\n",
    "import pandas as pd\n",
    "import numpy as np\n",
    "import pyspark.pandas as ps\n",
    "from pyspark.sql import SparkSession\n",
    "from pyspark.sql.functions import avg, col,min,max,mean\n",
    "import time\n",
    "from pyspark.sql.functions import col, when, count,sum,split\n",
    "import matplotlib.pyplot as plt\n",
    "from pyspark.sql.types import StructType, StructField, StringType, IntegerType, LongType, DoubleType, TimestampType\n",
    "from pyspark.sql import SparkSession\n",
    "from pyspark.sql.functions import col, udf, count, sum, min, max, mean,countDistinct\n",
    "from pyspark.sql.types import IntegerType, FloatType\n",
    "from pyspark.sql.functions import year, month, dayofmonth, hour, datediff, lit\n",
    "from pyspark.sql import SparkSession\n",
    "from pyspark.sql.functions import unix_timestamp, max as spark_max, sum as spark_sum, count as spark_count, col, udf\n",
    "from pyspark.sql.window import Window\n",
    "from pyspark.sql.types import IntegerType\n",
    "import datetime\n",
    "from pyspark.ml.feature import VectorAssembler, StandardScaler\n",
    "from pyspark.ml.clustering import KMeans\n",
    "from pyspark.ml import Pipeline"
   ]
  },
  {
   "cell_type": "code",
   "execution_count": 2,
   "id": "2db74915",
   "metadata": {},
   "outputs": [],
   "source": [
    "\n",
    "schema = StructType([\n",
    "    StructField(\"event_time\", TimestampType(), True),\n",
    "    StructField(\"event_type\", StringType(), True),\n",
    "    StructField(\"product_id\", IntegerType(), True),\n",
    "    StructField(\"category_id\", LongType(), True),\n",
    "    StructField(\"category_code\", StringType(), True),\n",
    "    StructField(\"brand\", StringType(), True),\n",
    "    StructField(\"price\", DoubleType(), True),\n",
    "    StructField(\"user_id\", IntegerType(), True),\n",
    "    StructField(\"user_session\", StringType(), True)\n",
    "])\n"
   ]
  },
  {
   "cell_type": "code",
   "execution_count": 3,
   "id": "e847187f",
   "metadata": {
    "scrolled": true
   },
   "outputs": [
    {
     "name": "stderr",
     "output_type": "stream",
     "text": [
      "Setting default log level to \"WARN\".\n",
      "To adjust logging level use sc.setLogLevel(newLevel). For SparkR, use setLogLevel(newLevel).\n",
      "24/06/23 13:09:48 WARN NativeCodeLoader: Unable to load native-hadoop library for your platform... using builtin-java classes where applicable\n"
     ]
    }
   ],
   "source": [
    "\n",
    "\n",
    "spark = SparkSession.builder \\\n",
    "    .appName(\"msprv3\") \\\n",
    "    .config(\"spark.executor.memory\", \"6g\") \\\n",
    "    .config(\"spark.driver.memory\", \"6g\") \\\n",
    "    .config(\"spark.executor.cores\", \"6\") \\\n",
    "    .config(\"spark.driver.maxResultSize\", \"4g\") \\\n",
    "    .getOrCreate()"
   ]
  },
  {
   "cell_type": "code",
   "execution_count": null,
   "id": "bc01f704",
   "metadata": {},
   "outputs": [],
   "source": [
    "octobre_df = spark.read.csv(\"/home/perso/Desktop/Data/2019-Oct.csv\", header=True, schema=schema)\n",
    "novembre_df = spark.read.csv(\"/home/perso/Desktop/Data/2019-Nov.csv\", header=True, schema=schema)\n",
    "decembre_df = spark.read.csv(\"/home/perso/Desktop/Data/2019-Dec.csv\", header=True, schema=schema)\n",
    "janvier_df = spark.read.csv(\"/home/perso/Desktop/Data/2020-Jan.csv\", header=True, schema=schema)\n",
    "fevrier_df = spark.read.csv(\"/home/perso/Desktop/Data/2020-Feb.csv\", header=True, schema=schema)\n",
    "mars_df = spark.read.csv(\"/home/perso/Desktop/Data/2020-Mar.csv\", header=True, schema=schema)\n",
    "avril_df = spark.read.csv(\"/home/perso/Desktop/Data/2020-Apr.csv\", header=True, schema=schema)\n",
    "\n"
   ]
  },
  {
   "cell_type": "code",
   "execution_count": null,
   "id": "c99dc0d4",
   "metadata": {},
   "outputs": [],
   "source": [
    "combined_df = (octobre_df\n",
    "               .union(novembre_df)\n",
    "               .union(decembre_df)\n",
    "               .union(janvier_df)\n",
    "               .union(fevrier_df)\n",
    "               .union(mars_df)\n",
    "               .union(avril_df))\n"
   ]
  },
  {
   "cell_type": "code",
   "execution_count": null,
   "id": "86dbe6bd",
   "metadata": {},
   "outputs": [],
   "source": [
    "combined_df = combined_df.drop('brand', 'category_id', 'product_id', 'user_session')"
   ]
  },
  {
   "cell_type": "code",
   "execution_count": null,
   "id": "3bb1938f",
   "metadata": {},
   "outputs": [],
   "source": [
    "from pyspark.sql import DataFrame\n",
    "\n",
    "\n",
    "def extract_primary_category(df: DataFrame, column_name: str) -> DataFrame:\n",
    "    \n",
    "    return df.withColumn(\n",
    "        \"primary_category\",\n",
    "        when(col(column_name).isNull(), \"unknown\")\n",
    "        .otherwise(split(col(column_name), \"\\\\.\").getItem(0))  \n",
    "    )\n",
    "\n",
    "\n"
   ]
  },
  {
   "cell_type": "code",
   "execution_count": null,
   "id": "206ac01f",
   "metadata": {},
   "outputs": [],
   "source": [
    "combined_df = extract_primary_category(combined_df, \"category_code\")\n",
    "combined_df.show()"
   ]
  },
  {
   "cell_type": "code",
   "execution_count": null,
   "id": "3b10b658",
   "metadata": {},
   "outputs": [],
   "source": [
    "combined_df.select(countDistinct('primary_category')).collect()[0][0]"
   ]
  },
  {
   "cell_type": "code",
   "execution_count": null,
   "id": "984b9b73",
   "metadata": {},
   "outputs": [],
   "source": [
    "combined_df.select('primary_category').distinct().show()"
   ]
  },
  {
   "cell_type": "code",
   "execution_count": null,
   "id": "a89c38df",
   "metadata": {},
   "outputs": [],
   "source": [
    "combined_df = combined_df.drop('category_code')"
   ]
  },
  {
   "cell_type": "code",
   "execution_count": null,
   "id": "cbac377a",
   "metadata": {},
   "outputs": [],
   "source": [
    "from pyspark.sql import SparkSession\n",
    "from pyspark.sql.functions import col, max as spark_max, sum as spark_sum, count as spark_count, unix_timestamp\n",
    "from pyspark.sql.types import IntegerType\n",
    "import datetime\n",
    "from pyspark.sql.functions import udf\n",
    "\n",
    "\n",
    "\n",
    "\n",
    "data = combined_df.withColumn(\"event_time\", unix_timestamp(col(\"event_time\"), \"yyyy-MM-dd HH:mm:ss\").cast(\"timestamp\"))\n",
    "\n",
    "\n",
    "last_date = data.agg(spark_max(\"event_time\")).collect()[0][0] + datetime.timedelta(days=1)\n",
    "\n",
    "recency_udf = udf(lambda x: (last_date - x).days, IntegerType())\n",
    "\n",
    "\n",
    "intermediate_df = data.withColumn(\n",
    "    \"view\", when(col(\"event_type\") == \"view\", 1).otherwise(0)\n",
    ").withColumn(\n",
    "    \"purchase_value\", when(col(\"event_type\") == \"purchase\", col(\"price\")).otherwise(0)\n",
    ")\n",
    "\n",
    "# Définir la liste des catégories pour le pivot\n",
    "categories = [\n",
    "    \"medicine\", \"computers\", \"auto\", \"unknown\", \"stationery\",\n",
    "    \"sport\", \"apparel\", \"appliances\", \"country_yard\", \"furniture\",\n",
    "    \"accessories\", \"kids\", \"electronics\", \"construction\"\n",
    "]\n",
    "\n",
    "# Pivotement des données pour créer une colonne pour chaque catégorie et type de mesure\n",
    "pivot_df = intermediate_df.groupBy(\"user_id\").pivot(\n",
    "    \"primary_category\", categories\n",
    ").agg(\n",
    "    count(\"view\").alias(\"views\"),\n",
    "    sum(\"purchase_value\").alias(\"total_purchase_value\")\n",
    ")\n",
    "\n",
    "# Joindre le DataFrame pivoté avec la récence globale\n",
    "# Calculer la récence globale en utilisant l'UDF et le dernier événement pour chaque utilisateur\n",
    "global_recency = data.groupBy(\"user_id\").agg(\n",
    "    recency_udf(spark_max(\"event_time\")).alias(\"global_recency\")\n",
    ")\n",
    "\n",
    "final_df = pivot_df.join(global_recency, \"user_id\")\n",
    "\n",
    "# Affichage du DataFrame résultant pour vérifier\n",
    "final_df.show()\n"
   ]
  },
  {
   "cell_type": "code",
   "execution_count": null,
   "id": "d4ffe241",
   "metadata": {},
   "outputs": [],
   "source": [
    "for column in final_df.columns:\n",
    "    if column != \"global_recency\":\n",
    "        final_df = final_df.fillna({column: 0})\n"
   ]
  },
  {
   "cell_type": "code",
   "execution_count": 4,
   "id": "62379055-f8a7-4994-b30f-b217dde7503b",
   "metadata": {},
   "outputs": [],
   "source": [
    "final_df=spark.read.parquet('/home/perso/Desktop/Data/final_df.parquet')"
   ]
  },
  {
   "cell_type": "code",
   "execution_count": null,
   "id": "0f796ecd-0b58-4c39-9637-f93c4a207e9f",
   "metadata": {},
   "outputs": [],
   "source": [
    "final_df.show(10)"
   ]
  },
  {
   "cell_type": "code",
   "execution_count": 10,
   "id": "22e901eb-cde3-4eb9-bd98-7a1a856748bd",
   "metadata": {},
   "outputs": [
    {
     "name": "stderr",
     "output_type": "stream",
     "text": [
      "                                                                                \r"
     ]
    }
   ],
   "source": [
    "### sans pca  \n",
    "from pyspark.sql import SparkSession\n",
    "from pyspark.ml.feature import VectorAssembler, StandardScaler\n",
    "from pyspark.ml.clustering import KMeans\n",
    "import matplotlib.pyplot as plt\n",
    "\n",
    "\n",
    "\n",
    "# Préparer les données\n",
    "columns_of_interest = ['medicine_views', 'medicine_total_purchase_value',\n",
    "                       'computers_views', 'computers_total_purchase_value',\n",
    "                       'auto_views', 'auto_total_purchase_value',\n",
    "                       'unknown_views', 'unknown_total_purchase_value',\n",
    "                       'stationery_views', 'stationery_total_purchase_value',\n",
    "                       'sport_views', 'sport_total_purchase_value',\n",
    "                       'apparel_views', 'apparel_total_purchase_value',\n",
    "                       'appliances_views', 'appliances_total_purchase_value',\n",
    "                       'country_yard_views', 'country_yard_total_purchase_value',\n",
    "                       'furniture_views', 'furniture_total_purchase_value',\n",
    "                       'accessories_views', 'accessories_total_purchase_value',\n",
    "                       'kids_views', 'kids_total_purchase_value',\n",
    "                       'electronics_views', 'electronics_total_purchase_value',\n",
    "                       'construction_views', 'construction_total_purchase_value',\n",
    "                       'global_recency']\n",
    "\n",
    "# Vérifier et gérer les valeurs manquantes\n",
    "final_df = final_df.dropna(subset=columns_of_interest)\n",
    "\n",
    "# Assembler les colonnes en un vecteur de fonctionnalités\n",
    "assembler = VectorAssembler(inputCols=columns_of_interest, outputCol='features')\n",
    "data = assembler.transform(final_df)\n",
    "\n",
    "# Normaliser les fonctionnalités\n",
    "scaler = StandardScaler(inputCol='features', outputCol='scaled_features')\n",
    "scaler_model = scaler.fit(data)\n",
    "data_scaled = scaler_model.transform(data)\n",
    "\n",
    "# Déterminer le nombre optimal de clusters (k) - Méthode du coude\n",
    "cost = []\n",
    "K = range(5, 20)  # Définir la plage de k à tester\n",
    "for k in K:\n",
    "    kmeans = KMeans(featuresCol='scaled_features', predictionCol='cluster', k=k, seed=42)\n",
    "    model = kmeans.fit(data_scaled)\n",
    "    cost.append(model.summary.trainingCost)\n",
    "\n",
    "\n"
   ]
  },
  {
   "cell_type": "code",
   "execution_count": 12,
   "id": "9cbb2eb2-282c-440c-995e-1d9d94cab5f7",
   "metadata": {},
   "outputs": [
    {
     "data": {
      "image/png": "[encoded data removed]",
      "text/plain": [
       "<Figure size 1000x600 with 1 Axes>"
      ]
     },
     "metadata": {},
     "output_type": "display_data"
    }
   ],
   "source": [
    "# Tracer la méthode du coude pour déterminer k\n",
    "plt.figure(figsize=(10, 6))\n",
    "plt.plot(K, cost, 'bx-')\n",
    "plt.xlabel('Number of clusters (k)')\n",
    "plt.ylabel('Cost')\n",
    "plt.title('Elbow Method For Optimal k')\n",
    "plt.show()"
   ]
  },
  {
   "cell_type": "code",
   "execution_count": 11,
   "id": "1ac2ebbe-be8f-4955-b735-72e9afb4db9c",
   "metadata": {},
   "outputs": [
    {
     "data": {
      "text/plain": [
       "range(5, 20)"
      ]
     },
     "execution_count": 11,
     "metadata": {},
     "output_type": "execute_result"
    }
   ],
   "source": []
  },
  {
   "cell_type": "code",
   "execution_count": 13,
   "id": "5ce9e497-bb63-4968-ad1d-a7afd4e72f33",
   "metadata": {},
   "outputs": [
    {
     "name": "stderr",
     "output_type": "stream",
     "text": [
      "[Stage 929:===================================================>   (16 + 1) / 17]\r"
     ]
    },
    {
     "name": "stdout",
     "output_type": "stream",
     "text": [
      "Cluster 0 real centroid: [0.020262106469311824, 0.005274710053729201, 1.6886207363626, 4.348670475357233, 0.41782484211395, 0.7871422101162941, 6.025778838604527, 8.768860978712647, 0.01446077255538214, 0.00869832318657264, 1.3375459419679023, 2.9651402963929385, 3.5115497814282315, 4.602342061505131, 5.5183179167839045, 19.34492682999891, 0.06196173493862408, 0.02571804507298702, 1.4598047766705373, 1.745662097741356, 0.3798895841173372, 0.1690781320231763, 0.7857228677328695, 0.8034103301715058, 7.753622430379945, 57.817837387196604, 7.2161962595111, 80.08661937358224, 221.3843007420116]\n",
      "Cluster 1 real centroid: [0.030569779165649142, 0.005644056406719514, 2.0407152271409754, 4.462428675528206, 0.4837998973127159, 0.8560489246391304, 6.936487159327296, 9.28091377246226, 0.019553963929183703, 0.00963208613579275, 2.0364201538198694, 4.257935392004438, 5.199938426295563, 6.747864396620156, 8.11422384943997, 26.908591984189492, 0.1011192160333581, 0.031997409144996256, 2.0786672979636345, 2.220155723298193, 0.568551720286749, 0.2153440277032272, 1.1551378866239062, 1.1233173524610205, 7.891840914411151, 47.05756905288075, 11.168799637817006, 120.68441756928979, 116.79611242885062]\n",
      "Cluster 2 real centroid: [1.1149874507559134, 2.808669772565284, 225.29025368380806, 14140.597610228284, 71.1938489575122, 3652.898318285256, 116.00279379916732, 2221.9142823959032, 0.6830834082243918, 3.6848952317088153, 42.08203036655557, 591.6330448519516, 94.07837013413388, 1054.1899281096, 207.8114277537506, 15203.43110163516, 1.6029487223537897, 3.01584498607642, 75.85848054103127, 7055.540599478248, 10.10039166261154, 12.80175209495925, 25.512489122957962, 435.2089703673419, 165.81345361355895, 7719.555334435673, 207.74997259168626, 12927.166325396525, 115.66634735812352]\n",
      "Cluster 3 real centroid: [0.01836909326799066, 0.004949965801998913, 1793.2467754229385, 3.1961609529224906, 0.30979098649771997, 0.6449366427441573, 5169.167045006897, 6.3838959224742275, 0.011585823683329005, 0.007938709969684401, 776.1158467916763, 2.654687364028817, 115118.75469863656, 3.9995416361702287, 57489.289688623314, 15.154966369461308, 0.05705500254702692, 0.024878802501540464, 1966.1821520386159, 1.4784255652069263, 2692.3177829669594, 0.15175209495925232, 80.60910748044589, 0.6813858262792696, 4397.731328009694, 32.684030087847, 9721.513257615841, 64.48444133855125, 80.90306233396892]\n",
      "Cluster 4 real centroid: [0.1912216513197201, 0.011155152700243203, 18.673406062925107, 56.95775331652447, 5.666603805074109, 14.527910543065094, 62.432671776768174, 122.96852786036386, 0.18037948047018948, 0.13586815116281262, 16.701001124318438, 45.45194680333409, 34.63822940868646, 61.521526698469735, 56.14916568580442, 219.89016617595559, 0.8611846986014019, 0.22493081307356244, 18.230573314811966, 27.447422025467457, 4.657248702281186, 2.4757220071737116, 7.416658924659802, 11.632944538758027, 59.91526939160643, 428.040051397079, 57.86011904683861, 769.3338792987189, 112.92079406891646]\n",
      "Cluster 5 real centroid: [0.5274325373767519, 0.5424424129319083, 20.570038262817658, 195.47375914023365, 11.324896726678988, 68.60736866691335, 87.67308730296934, 539.1999382185468, 0.18983355782230182, 0.926624510573914, 21.620378513730724, 165.79791999242764, 62.750166914494955, 330.66241172680475, 53.70207533026441, 686.3710690884947, 2.0495021324563925, 2.383398439963776, 20.73955385130465, 122.14396937185347, 64.63802465880228, 842.6677641795515, 11.246569716095433, 49.47038884742731, 62.809877858636824, 1026.0517340153397, 59.70056879408856, 1899.640347682962, 110.73538861795684]\n",
      "Cluster 6 real centroid: [2.2792386584853817, 0.004949965801998913, 687.0728623794603, 3.1961609529224906, 680.7445735951934, 0.6449366427441573, 2163.297479789506, 6.3838959224742275, 119.35941191063988, 0.007938709969684401, 1068.76802070472, 2.654687364028817, 4123.841655158289, 8.923889462257186, 3611.1157755798363, 15.154966369461308, 36.23096804602529, 0.024878802501540464, 1633.3995433429636, 5.9540777391199695, 1148.2743047060897, 0.15175209495925232, 5142.043890089141, 0.6813858262792696, 7532.16611061839, 32.684030087847, 1680.8176054419275, 64.48444133855125, 114.85958407309934]\n",
      "Cluster 7 real centroid: [5.8332092050345254, 4.017442359468562, 135.07285428043616, 208.98045278775643, 19.017397319934542, 23.164944093846298, 246.06434398237022, 219.24576490726164, 1.112424072674325, 2.5602733886409057, 69.6735617870194, 51.67457621842187, 173.7760584626904, 125.82852456072781, 206.1361338266687, 352.3226832275799, 7.991547396213593, 14.16422558921374, 94.04772173746733, 93.14730976266114, 28.18440823861414, 7.682646227216314, 34.855055943656076, 28.83062084645934, 165.77305418169064, 331.306158619359, 147.52027407035803, 530.1082935583587, 102.30585649727225]\n",
      "Cluster 8 real centroid: [0.12948020437910177, 0.004949965801998913, 54.63566431182739, 889.2167165084778, 5.587568764275497, 98.81326997607749, 119.2781561180079, 1221.1355625891408, 0.4004747125722179, 0.007938709969684401, 35.33806901389857, 466.7335762529177, 109.86580974766044, 705.5506527472814, 120.34524417887131, 3172.553299702795, 1.1681661136581378, 0.024878802501540464, 41.682152038615826, 131.8734255652069, 20.262227411403813, 26.019529872737028, 317.6091074804459, 19790.59416360405, 66.3979946763609, 2493.8468078656238, 79.45770206028524, 2677.7183302274407, 98.84750677841336]\n",
      "Cluster 9 real centroid: [0.22514228668559144, 0.2589709531618844, 22.40108021664235, 555.1726384153599, 4.49319189277008, 66.17603132435637, 61.987698476966045, 1308.6515491540506, 0.18043867367140437, 1.8599706679949646, 52.289231003457914, 1512.8108404763589, 69.88801607036761, 1875.0562456666978, 69.86040171656646, 2727.8610073902105, 1.0809042751442128, 1.6379553586665776, 17.615016336254754, 213.40225575838602, 3.8255339805534514, 9.351816487995263, 10.02694673634858, 103.77374451933912, 156.47470983654853, 11654.760917757774, 288.5413997575054, 25416.26979311532, 118.2724875664993]\n"
     ]
    },
    {
     "name": "stderr",
     "output_type": "stream",
     "text": [
      "                                                                                \r"
     ]
    }
   ],
   "source": [
    "#sans pca\n",
    "\n",
    "k_optimal = 10  # Remplacer par la valeur identifiée à partir du graphique\n",
    "\n",
    "# Appliquer KMeans avec le k optimal choisi\n",
    "kmeans = KMeans(featuresCol='scaled_features', predictionCol='cluster', k=k_optimal, seed=42)\n",
    "model = kmeans.fit(data_scaled)\n",
    "\n",
    "# Prédictions et centres des clusters\n",
    "predictions = model.transform(data_scaled)\n",
    "centroids = model.clusterCenters()\n",
    "\n",
    "# Dénormaliser les centroids\n",
    "means = scaler_model.mean.toArray()\n",
    "std_devs = scaler_model.std.toArray()\n",
    "\n",
    "real_centroids = [(centroid * std_devs + means).tolist() for centroid in centroids]\n",
    "\n",
    "# Afficher les centroids dénormalisés\n",
    "for i, real_centroid in enumerate(real_centroids):\n",
    "    print(f\"Cluster {i} real centroid: {real_centroid}\")\n",
    "\n",
    "# Afficher les données réelles associées à chaque cluster\n",
    "result = predictions.select('user_id', 'cluster')\n",
    "clustered_data = final_df.join(result, 'user_id')\n",
    "#clustered_data.show(10)"
   ]
  },
  {
   "cell_type": "code",
   "execution_count": 15,
   "id": "9a22eecd-7725-49b1-a5d1-c6d5accec298",
   "metadata": {},
   "outputs": [
    {
     "name": "stderr",
     "output_type": "stream",
     "text": [
      "[Stage 932:===================================================>   (16 + 1) / 17]\r"
     ]
    },
    {
     "name": "stdout",
     "output_type": "stream",
     "text": [
      "+-------+----------+\n",
      "|cluster|user_count|\n",
      "+-------+----------+\n",
      "|      1|   8746571|\n",
      "|      5|       664|\n",
      "|      9|      4387|\n",
      "|      4|    422435|\n",
      "|      7|     15785|\n",
      "|      2|       208|\n",
      "|      0|   6449711|\n",
      "|      6|        23|\n",
      "|      3|         1|\n",
      "|      8|        18|\n",
      "+-------+----------+\n",
      "\n"
     ]
    },
    {
     "name": "stderr",
     "output_type": "stream",
     "text": [
      "                                                                                \r"
     ]
    }
   ],
   "source": [
    "\n",
    "result.groupBy('cluster').agg(count('user_id').alias('user_count')).show()\n"
   ]
  },
  {
   "cell_type": "code",
   "execution_count": 6,
   "id": "2b44983a-0428-4c14-b017-3a46976f587a",
   "metadata": {},
   "outputs": [
    {
     "name": "stderr",
     "output_type": "stream",
     "text": [
      "24/06/23 13:11:26 WARN SparkStringUtils: Truncated the string representation of a plan since it was too large. This behavior can be adjusted by setting 'spark.sql.debug.maxToStringFields'.\n",
      "24/06/23 13:11:44 WARN InstanceBuilder: Failed to load implementation from:dev.ludovic.netlib.blas.VectorBLAS\n",
      "24/06/23 13:11:54 WARN InstanceBuilder: Failed to load implementation from:dev.ludovic.netlib.lapack.JNILAPACK\n"
     ]
    },
    {
     "data": {
      "text/plain": [
       "\"cost = []\\nK = range(6, 20)  # Définir la plage de k à tester\\nfor k in K:\\n    kmeans = KMeans(featuresCol='pca_features', predictionCol='cluster', k=k, seed=42)\\n    model = kmeans.fit(data_pca)\\n    cost.append(model.summary.trainingCost)\""
      ]
     },
     "execution_count": 6,
     "metadata": {},
     "output_type": "execute_result"
    }
   ],
   "source": [
    "from pyspark.sql import SparkSession\n",
    "from pyspark.ml.feature import VectorAssembler, StandardScaler, PCA\n",
    "from pyspark.ml.clustering import KMeans\n",
    "import matplotlib.pyplot as plt\n",
    "import pandas as pd\n",
    "\n",
    "\n",
    "# Préparer les données\n",
    "columns_of_interest = ['medicine_views', 'medicine_total_purchase_value',\n",
    "                       'computers_views', 'computers_total_purchase_value',\n",
    "                       'auto_views', 'auto_total_purchase_value',\n",
    "                       'unknown_views', 'unknown_total_purchase_value',\n",
    "                       'stationery_views', 'stationery_total_purchase_value',\n",
    "                       'sport_views', 'sport_total_purchase_value',\n",
    "                       'apparel_views', 'apparel_total_purchase_value',\n",
    "                       'appliances_views', 'appliances_total_purchase_value',\n",
    "                       'country_yard_views', 'country_yard_total_purchase_value',\n",
    "                       'furniture_views', 'furniture_total_purchase_value',\n",
    "                       'accessories_views', 'accessories_total_purchase_value',\n",
    "                       'kids_views', 'kids_total_purchase_value',\n",
    "                       'electronics_views', 'electronics_total_purchase_value',\n",
    "                       'construction_views', 'construction_total_purchase_value',\n",
    "                       'global_recency']\n",
    "\n",
    "\n",
    "\n",
    "# Assembler les colonnes en un vecteur de fonctionnalités\n",
    "assembler = VectorAssembler(inputCols=columns_of_interest, outputCol='features')\n",
    "data = assembler.transform(final_df)\n",
    "\n",
    "# Normaliser les fonctionnalités\n",
    "scaler = StandardScaler(inputCol='features', outputCol='scaled_features')\n",
    "scaler_model = scaler.fit(data)\n",
    "data_scaled = scaler_model.transform(data)\n",
    "\n",
    "# Appliquer PCA\n",
    "num_components = 10  # Choisir le nombre de composantes principales\n",
    "pca = PCA(k=num_components, inputCol='scaled_features', outputCol='pca_features')\n",
    "pca_model = pca.fit(data_scaled)\n",
    "data_pca = pca_model.transform(data_scaled)\n",
    "\n",
    "# Déterminer le nombre optimal de clusters (k) - Méthode du coude\n",
    "cost = []\n",
    "K = range(6, 20)  # Définir la plage de k à tester\n",
    "for k in K:\n",
    "    kmeans = KMeans(featuresCol='pca_features', predictionCol='cluster', k=k, seed=42)\n",
    "    model = kmeans.fit(data_pca)\n",
    "    cost.append(model.summary.trainingCost)\n",
    "\n",
    "\n"
   ]
  },
  {
   "cell_type": "code",
   "execution_count": null,
   "id": "3e2e352b-97e6-49c4-906a-85d959be82e9",
   "metadata": {},
   "outputs": [],
   "source": [
    "# Tracer la méthode du coude pour déterminer k\n",
    "plt.figure(figsize=(10, 6))\n",
    "plt.plot(K, cost, 'bx-')\n",
    "plt.xlabel('Number of clusters (k)')\n",
    "plt.ylabel('Cost')\n",
    "plt.title('Elbow Method For Optimal k')\n",
    "plt.show()"
   ]
  },
  {
   "cell_type": "code",
   "execution_count": null,
   "id": "7b2fe764",
   "metadata": {},
   "outputs": [],
   "source": [
    "final_df.write.parquet('/home/perso/Desktop/Data/final_df.parquet')"
   ]
  }
 ],
 "metadata": {
  "kernelspec": {
   "display_name": "Python 3 (ipykernel)",
   "language": "python",
   "name": "python3"
  },
  "language_info": {
   "codemirror_mode": {
    "name": "ipython",
    "version": 3
   },
   "file_extension": ".py",
   "mimetype": "text/x-python",
   "name": "python",
   "nbconvert_exporter": "python",
   "pygments_lexer": "ipython3",
   "version": "3.10.12"
  }
 },
 "nbformat": 4,
 "nbformat_minor": 5
}
