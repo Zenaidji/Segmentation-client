{
 "cells": [
  {
   "cell_type": "code",
   "execution_count": 8,
   "id": "083464cd",
   "metadata": {},
   "outputs": [],
   "source": [
    "import os\n",
    "os.environ['PYARROW_IGNORE_TIMEZONE'] = '1'\n",
    "import pandas as pd\n",
    "import numpy as np\n",
    "import pyspark.pandas as ps\n",
    "from pyspark.sql import SparkSession\n",
    "from pyspark.sql.functions import avg, col,min,max,mean\n",
    "import time\n",
    "from pyspark.sql.functions import col, when, count,sum,split\n",
    "import matplotlib.pyplot as plt\n",
    "from pyspark.sql.types import StructType, StructField, StringType, IntegerType, LongType, DoubleType, TimestampType\n",
    "from pyspark.sql import SparkSession\n",
    "from pyspark.sql.functions import col, udf, count, sum, min, max, mean,countDistinct\n",
    "from pyspark.sql.types import IntegerType, FloatType\n",
    "from pyspark.sql.functions import year, month, dayofmonth, hour, datediff, lit\n",
    "from pyspark.sql import SparkSession\n",
    "from pyspark.sql.functions import unix_timestamp, max as spark_max, sum as spark_sum, count as spark_count, col, udf\n",
    "from pyspark.sql.window import Window\n",
    "from pyspark.sql.types import IntegerType\n",
    "import datetime\n",
    "from pyspark.ml.feature import VectorAssembler, StandardScaler\n",
    "from pyspark.ml.clustering import KMeans\n",
    "from pyspark.ml import Pipeline"
   ]
  },
  {
   "cell_type": "code",
   "execution_count": 2,
   "id": "2db74915",
   "metadata": {},
   "outputs": [],
   "source": [
    "\n",
    "schema = StructType([\n",
    "    StructField(\"event_time\", TimestampType(), True),\n",
    "    StructField(\"event_type\", StringType(), True),\n",
    "    StructField(\"product_id\", IntegerType(), True),\n",
    "    StructField(\"category_id\", LongType(), True),\n",
    "    StructField(\"category_code\", StringType(), True),\n",
    "    StructField(\"brand\", StringType(), True),\n",
    "    StructField(\"price\", DoubleType(), True),\n",
    "    StructField(\"user_id\", IntegerType(), True),\n",
    "    StructField(\"user_session\", StringType(), True)\n",
    "])\n"
   ]
  },
  {
   "cell_type": "code",
   "execution_count": 3,
   "id": "e847187f",
   "metadata": {},
   "outputs": [
    {
     "name": "stderr",
     "output_type": "stream",
     "text": [
      "24/06/20 19:54:43 WARN Utils: Your hostname, ghani-IdeaPad-3-14ADA05 resolves to a loopback address: 127.0.1.1; using 10.188.25.103 instead (on interface wlp2s0)\n",
      "24/06/20 19:54:43 WARN Utils: Set SPARK_LOCAL_IP if you need to bind to another address\n",
      "Setting default log level to \"WARN\".\n",
      "To adjust logging level use sc.setLogLevel(newLevel). For SparkR, use setLogLevel(newLevel).\n",
      "24/06/20 19:54:43 WARN NativeCodeLoader: Unable to load native-hadoop library for your platform... using builtin-java classes where applicable\n",
      "24/06/20 19:54:45 WARN Utils: Service 'SparkUI' could not bind on port 4040. Attempting port 4041.\n",
      "----------------------------------------\n",
      "Exception occurred during processing of request from ('127.0.0.1', 55136)\n",
      "Traceback (most recent call last):\n",
      "  File \"/usr/lib/python3.12/socketserver.py\", line 318, in _handle_request_noblock\n",
      "    self.process_request(request, client_address)\n",
      "  File \"/usr/lib/python3.12/socketserver.py\", line 349, in process_request\n",
      "    self.finish_request(request, client_address)\n",
      "  File \"/usr/lib/python3.12/socketserver.py\", line 362, in finish_request\n",
      "    self.RequestHandlerClass(request, client_address, self)\n",
      "  File \"/usr/lib/python3.12/socketserver.py\", line 761, in __init__\n",
      "    self.handle()\n",
      "  File \"/home/ghani/.local/lib/python3.12/site-packages/pyspark/accumulators.py\", line 295, in handle\n",
      "    poll(accum_updates)\n",
      "  File \"/home/ghani/.local/lib/python3.12/site-packages/pyspark/accumulators.py\", line 267, in poll\n",
      "    if self.rfile in r and func():\n",
      "                           ^^^^^^\n",
      "  File \"/home/ghani/.local/lib/python3.12/site-packages/pyspark/accumulators.py\", line 271, in accum_updates\n",
      "    num_updates = read_int(self.rfile)\n",
      "                  ^^^^^^^^^^^^^^^^^^^^\n",
      "  File \"/home/ghani/.local/lib/python3.12/site-packages/pyspark/serializers.py\", line 596, in read_int\n",
      "    raise EOFError\n",
      "EOFError\n",
      "----------------------------------------\n"
     ]
    }
   ],
   "source": [
    "\n",
    "\n",
    "spark = SparkSession.builder \\\n",
    "    .appName(\"msprv3\") \\\n",
    "    .config(\"spark.executor.memory\", \"4g\") \\\n",
    "    .config(\"spark.driver.memory\", \"5g\") \\\n",
    "    .config(\"spark.executor.cores\", \"4\") \\\n",
    "    .config(\"spark.driver.maxResultSize\", \"2g\") \\\n",
    "    .getOrCreate()"
   ]
  },
  {
   "cell_type": "code",
   "execution_count": 5,
   "id": "bc01f704",
   "metadata": {},
   "outputs": [],
   "source": [
    "octobre_df = spark.read.csv(\"/home/ghani/Bureau/Data/2019-Oct.csv\", header=True, schema=schema)\n",
    "novembre_df = spark.read.csv(\"/home/ghani/Bureau/Data/2019-Nov.csv\", header=True, schema=schema)\n",
    "decembre_df = spark.read.csv(\"/home/ghani/Bureau/Data/2019-Dec.csv\", header=True, schema=schema)\n",
    "janvier_df = spark.read.csv(\"/home/ghani/Bureau/Data/2020-Jan.csv\", header=True, schema=schema)\n",
    "fevrier_df = spark.read.csv(\"/home/ghani/Bureau/Data/2020-Feb.csv\", header=True, schema=schema)\n",
    "mars_df = spark.read.csv(\"/home/ghani/Bureau/Data/2020-Mar.csv\", header=True, schema=schema)\n",
    "avril_df = spark.read.csv(\"/home/ghani/Bureau/Data/2020-Apr.csv\", header=True, schema=schema)\n",
    "\n"
   ]
  },
  {
   "cell_type": "code",
   "execution_count": 6,
   "id": "c99dc0d4",
   "metadata": {},
   "outputs": [],
   "source": [
    "combined_df = (octobre_df\n",
    "               .union(novembre_df)\n",
    "               .union(decembre_df)\n",
    "               .union(janvier_df)\n",
    "               .union(fevrier_df)\n",
    "               .union(mars_df)\n",
    "               .union(avril_df))\n"
   ]
  },
  {
   "cell_type": "code",
   "execution_count": 7,
   "id": "86dbe6bd",
   "metadata": {},
   "outputs": [],
   "source": [
    "combined_df = combined_df.drop('brand', 'category_id', 'product_id', 'user_session')"
   ]
  },
  {
   "cell_type": "code",
   "execution_count": 10,
   "id": "3bb1938f",
   "metadata": {},
   "outputs": [],
   "source": [
    "from pyspark.sql import DataFrame\n",
    "\n",
    "\n",
    "def extract_primary_category(df: DataFrame, column_name: str) -> DataFrame:\n",
    "    \n",
    "    return df.withColumn(\n",
    "        \"primary_category\",\n",
    "        when(col(column_name).isNull(), \"unknown\")\n",
    "        .otherwise(split(col(column_name), \"\\\\.\").getItem(0))  \n",
    "    )\n",
    "\n",
    "\n"
   ]
  },
  {
   "cell_type": "code",
   "execution_count": 12,
   "id": "206ac01f",
   "metadata": {},
   "outputs": [
    {
     "name": "stdout",
     "output_type": "stream",
     "text": [
      "+-------------------+----------+--------------------+-------+---------+----------------+\n",
      "|         event_time|event_type|       category_code|  price|  user_id|primary_category|\n",
      "+-------------------+----------+--------------------+-------+---------+----------------+\n",
      "|2019-10-01 02:00:00|      view|                NULL|  35.79|541312140|         unknown|\n",
      "|2019-10-01 02:00:00|      view|appliances.enviro...|   33.2|554748717|      appliances|\n",
      "|2019-10-01 02:00:01|      view|furniture.living_...|  543.1|519107250|       furniture|\n",
      "|2019-10-01 02:00:01|      view|  computers.notebook| 251.74|550050854|       computers|\n",
      "|2019-10-01 02:00:04|      view|electronics.smart...|1081.98|535871217|     electronics|\n",
      "|2019-10-01 02:00:05|      view|   computers.desktop| 908.62|512742880|       computers|\n",
      "|2019-10-01 02:00:08|      view|                NULL| 380.96|555447699|         unknown|\n",
      "|2019-10-01 02:00:08|      view|                NULL|  41.16|550978835|         unknown|\n",
      "|2019-10-01 02:00:10|      view|  apparel.shoes.keds| 102.71|520571932|         apparel|\n",
      "|2019-10-01 02:00:11|      view|electronics.smart...| 566.01|537918940|     electronics|\n",
      "|2019-10-01 02:00:11|      view|appliances.kitche...|  51.46|555158050|      appliances|\n",
      "|2019-10-01 02:00:11|      view|electronics.smart...| 900.64|530282093|     electronics|\n",
      "|2019-10-01 02:00:13|      view|appliances.enviro...| 102.38|555444559|      appliances|\n",
      "|2019-10-01 02:00:15|      view|                NULL|  35.79|541312140|         unknown|\n",
      "|2019-10-01 02:00:16|      view|furniture.bedroom...|  93.18|555446365|       furniture|\n",
      "|2019-10-01 02:00:17|      view|                NULL| 357.79|513642368|         unknown|\n",
      "|2019-10-01 02:00:18|      view|electronics.video.tv| 193.03|537192226|     electronics|\n",
      "|2019-10-01 02:00:18|      view|appliances.kitche...|  58.95|519528062|      appliances|\n",
      "|2019-10-01 02:00:19|      view|  computers.notebook| 580.89|550050854|       computers|\n",
      "|2019-10-01 02:00:19|      view|electronics.smart...|1747.79|535871217|     electronics|\n",
      "+-------------------+----------+--------------------+-------+---------+----------------+\n",
      "only showing top 20 rows\n",
      "\n"
     ]
    }
   ],
   "source": [
    "combined_df = extract_primary_category(combined_df, \"category_code\")\n",
    "combined_df.show()"
   ]
  },
  {
   "cell_type": "code",
   "execution_count": 13,
   "id": "3b10b658",
   "metadata": {},
   "outputs": [
    {
     "name": "stderr",
     "output_type": "stream",
     "text": [
      "                                                                                \r"
     ]
    },
    {
     "data": {
      "text/plain": [
       "14"
      ]
     },
     "execution_count": 13,
     "metadata": {},
     "output_type": "execute_result"
    }
   ],
   "source": [
    "combined_df.select(countDistinct('primary_category')).collect()[0][0]"
   ]
  },
  {
   "cell_type": "code",
   "execution_count": 22,
   "id": "984b9b73",
   "metadata": {},
   "outputs": [
    {
     "name": "stderr",
     "output_type": "stream",
     "text": [
      "[Stage 20:=====================================================>(425 + 1) / 426]\r"
     ]
    },
    {
     "name": "stdout",
     "output_type": "stream",
     "text": [
      "+----------------+\n",
      "|primary_category|\n",
      "+----------------+\n",
      "|        medicine|\n",
      "|       computers|\n",
      "|            auto|\n",
      "|         unknown|\n",
      "|      stationery|\n",
      "|           sport|\n",
      "|         apparel|\n",
      "|      appliances|\n",
      "|    country_yard|\n",
      "|       furniture|\n",
      "|     accessories|\n",
      "|            kids|\n",
      "|     electronics|\n",
      "|    construction|\n",
      "+----------------+\n",
      "\n"
     ]
    },
    {
     "name": "stderr",
     "output_type": "stream",
     "text": [
      "\r",
      "                                                                                \r"
     ]
    }
   ],
   "source": [
    "combined_df.select('primary_category').distinct().show()"
   ]
  },
  {
   "cell_type": "code",
   "execution_count": null,
   "id": "4581bb75",
   "metadata": {},
   "outputs": [],
   "source": []
  },
  {
   "cell_type": "code",
   "execution_count": 14,
   "id": "a89c38df",
   "metadata": {},
   "outputs": [],
   "source": [
    "combined_df = combined_df.drop('category_code')"
   ]
  },
  {
   "cell_type": "code",
   "execution_count": 23,
   "id": "cbac377a",
   "metadata": {},
   "outputs": [
    {
     "name": "stderr",
     "output_type": "stream",
     "text": [
      "24/06/20 21:46:55 WARN SparkStringUtils: Truncated the string representation of a plan since it was too large. This behavior can be adjusted by setting 'spark.sql.debug.maxToStringFields'.\n",
      "[Stage 36:>                                                         (0 + 1) / 1]\r"
     ]
    },
    {
     "name": "stdout",
     "output_type": "stream",
     "text": [
      "+---------+--------------+-----------------------------+---------------+------------------------------+----------+-------------------------+-------------+----------------------------+----------------+-------------------------------+-----------+--------------------------+-------------+----------------------------+----------------+-------------------------------+------------------+---------------------------------+---------------+------------------------------+-----------------+--------------------------------+----------+-------------------------+-----------------+--------------------------------+------------------+---------------------------------+--------------+\n",
      "|  user_id|medicine_views|medicine_total_purchase_value|computers_views|computers_total_purchase_value|auto_views|auto_total_purchase_value|unknown_views|unknown_total_purchase_value|stationery_views|stationery_total_purchase_value|sport_views|sport_total_purchase_value|apparel_views|apparel_total_purchase_value|appliances_views|appliances_total_purchase_value|country_yard_views|country_yard_total_purchase_value|furniture_views|furniture_total_purchase_value|accessories_views|accessories_total_purchase_value|kids_views|kids_total_purchase_value|electronics_views|electronics_total_purchase_value|construction_views|construction_total_purchase_value|global_recency|\n",
      "+---------+--------------+-----------------------------+---------------+------------------------------+----------+-------------------------+-------------+----------------------------+----------------+-------------------------------+-----------+--------------------------+-------------+----------------------------+----------------+-------------------------------+------------------+---------------------------------+---------------+------------------------------+-----------------+--------------------------------+----------+-------------------------+-----------------+--------------------------------+------------------+---------------------------------+--------------+\n",
      "| 44378150|          NULL|                         NULL|           NULL|                          NULL|      NULL|                     NULL|            1|                         0.0|            NULL|                           NULL|       NULL|                      NULL|         NULL|                        NULL|            NULL|                           NULL|              NULL|                             NULL|           NULL|                          NULL|             NULL|                            NULL|      NULL|                     NULL|             NULL|                            NULL|              NULL|                             NULL|           163|\n",
      "| 82098029|          NULL|                         NULL|           NULL|                          NULL|      NULL|                     NULL|         NULL|                        NULL|            NULL|                           NULL|          1|                       0.0|         NULL|                        NULL|               5|                            0.0|              NULL|                             NULL|              1|                           0.0|             NULL|                            NULL|      NULL|                     NULL|             NULL|                            NULL|                 3|                              0.0|            49|\n",
      "| 96665148|          NULL|                         NULL|              2|                           0.0|      NULL|                     NULL|         NULL|                        NULL|            NULL|                           NULL|       NULL|                      NULL|            2|                         0.0|            NULL|                           NULL|              NULL|                             NULL|           NULL|                          NULL|             NULL|                            NULL|      NULL|                     NULL|                1|                             0.0|              NULL|                             NULL|            18|\n",
      "|100995136|          NULL|                         NULL|           NULL|                          NULL|      NULL|                     NULL|         NULL|                        NULL|            NULL|                           NULL|       NULL|                      NULL|         NULL|                        NULL|            NULL|                           NULL|              NULL|                             NULL|           NULL|                          NULL|             NULL|                            NULL|      NULL|                     NULL|             NULL|                            NULL|                 5|                              0.0|            74|\n",
      "|113345456|          NULL|                         NULL|           NULL|                          NULL|      NULL|                     NULL|            2|                         0.0|            NULL|                           NULL|       NULL|                      NULL|         NULL|                        NULL|            NULL|                           NULL|              NULL|                             NULL|           NULL|                          NULL|             NULL|                            NULL|      NULL|                     NULL|                5|                             0.0|                 8|                              0.0|            66|\n",
      "|116566414|          NULL|                         NULL|           NULL|                          NULL|      NULL|                     NULL|         NULL|                        NULL|            NULL|                           NULL|       NULL|                      NULL|         NULL|                        NULL|              27|                            0.0|              NULL|                             NULL|              1|                           0.0|             NULL|                            NULL|      NULL|                     NULL|             NULL|                            NULL|              NULL|                             NULL|            54|\n",
      "|117601470|          NULL|                         NULL|           NULL|                          NULL|      NULL|                     NULL|           41|                         0.0|            NULL|                           NULL|       NULL|                      NULL|         NULL|                        NULL|            NULL|                           NULL|              NULL|                             NULL|           NULL|                          NULL|             NULL|                            NULL|      NULL|                     NULL|             NULL|                            NULL|              NULL|                             NULL|            87|\n",
      "|122384079|          NULL|                         NULL|           NULL|                          NULL|      NULL|                     NULL|            1|                         0.0|            NULL|                           NULL|       NULL|                      NULL|         NULL|                        NULL|              10|                            0.0|              NULL|                             NULL|              1|                           0.0|             NULL|                            NULL|      NULL|                     NULL|             NULL|                            NULL|              NULL|                             NULL|           127|\n",
      "|125917727|          NULL|                         NULL|           NULL|                          NULL|      NULL|                     NULL|           47|                         0.0|            NULL|                           NULL|       NULL|                      NULL|            2|                         0.0|               2|                            0.0|              NULL|                             NULL|              1|                           0.0|             NULL|                            NULL|      NULL|                     NULL|             NULL|                            NULL|                 4|                              0.0|            52|\n",
      "|127670265|          NULL|                         NULL|           NULL|                          NULL|      NULL|                     NULL|            4|                         0.0|            NULL|                           NULL|       NULL|                      NULL|           12|                         0.0|            NULL|                           NULL|              NULL|                             NULL|           NULL|                          NULL|             NULL|                            NULL|      NULL|                     NULL|                1|                             0.0|              NULL|                             NULL|            11|\n",
      "|128130875|          NULL|                         NULL|           NULL|                          NULL|      NULL|                     NULL|         NULL|                        NULL|            NULL|                           NULL|       NULL|                      NULL|         NULL|                        NULL|               3|                            0.0|              NULL|                             NULL|           NULL|                          NULL|             NULL|                            NULL|      NULL|                     NULL|             NULL|                            NULL|              NULL|                             NULL|            84|\n",
      "|145777290|          NULL|                         NULL|           NULL|                          NULL|      NULL|                     NULL|            4|                         0.0|            NULL|                           NULL|       NULL|                      NULL|            3|                         0.0|            NULL|                           NULL|              NULL|                             NULL|           NULL|                          NULL|             NULL|                            NULL|      NULL|                     NULL|             NULL|                            NULL|              NULL|                             NULL|             4|\n",
      "|146333366|          NULL|                         NULL|           NULL|                          NULL|      NULL|                     NULL|            1|                         0.0|            NULL|                           NULL|       NULL|                      NULL|            1|                         0.0|            NULL|                           NULL|              NULL|                             NULL|              2|                           0.0|             NULL|                            NULL|      NULL|                     NULL|                7|                             0.0|                25|                              0.0|            10|\n",
      "|146402917|          NULL|                         NULL|           NULL|                          NULL|      NULL|                     NULL|            4|                         0.0|            NULL|                           NULL|       NULL|                      NULL|            2|                         0.0|            NULL|                           NULL|              NULL|                             NULL|           NULL|                          NULL|                1|                             0.0|      NULL|                     NULL|                5|                             0.0|                 4|                              0.0|            34|\n",
      "|149382035|          NULL|                         NULL|              2|                           0.0|         1|                      0.0|           38|                         0.0|            NULL|                           NULL|          2|                       0.0|            7|                         0.0|              12|                            0.0|              NULL|                             NULL|              3|                           0.0|                4|                             0.0|      NULL|                     NULL|                1|                             0.0|                 1|                              0.0|           117|\n",
      "|151149823|          NULL|                         NULL|              8|                           0.0|      NULL|                     NULL|         NULL|                        NULL|            NULL|                           NULL|       NULL|                      NULL|         NULL|                        NULL|            NULL|                           NULL|              NULL|                             NULL|           NULL|                          NULL|             NULL|                            NULL|      NULL|                     NULL|             NULL|                            NULL|              NULL|                             NULL|            76|\n",
      "|151333056|          NULL|                         NULL|           NULL|                          NULL|      NULL|                     NULL|         NULL|                        NULL|            NULL|                           NULL|       NULL|                      NULL|         NULL|                        NULL|               1|                            0.0|              NULL|                             NULL|           NULL|                          NULL|             NULL|                            NULL|      NULL|                     NULL|             NULL|                            NULL|              NULL|                             NULL|            99|\n",
      "|153025632|          NULL|                         NULL|           NULL|                          NULL|      NULL|                     NULL|         NULL|                        NULL|            NULL|                           NULL|       NULL|                      NULL|         NULL|                        NULL|               2|                            0.0|              NULL|                             NULL|           NULL|                          NULL|             NULL|                            NULL|      NULL|                     NULL|             NULL|                            NULL|              NULL|                             NULL|           162|\n",
      "|154128341|          NULL|                         NULL|           NULL|                          NULL|      NULL|                     NULL|            9|                         0.0|            NULL|                           NULL|       NULL|                      NULL|            7|                         0.0|               9|                            0.0|              NULL|                             NULL|           NULL|                          NULL|             NULL|                            NULL|      NULL|                     NULL|                7|                             0.0|                12|                              0.0|            17|\n",
      "|159154583|          NULL|                         NULL|           NULL|                          NULL|      NULL|                     NULL|         NULL|                        NULL|            NULL|                           NULL|       NULL|                      NULL|         NULL|                        NULL|            NULL|                           NULL|              NULL|                             NULL|           NULL|                          NULL|             NULL|                            NULL|      NULL|                     NULL|                2|                             0.0|              NULL|                             NULL|           163|\n",
      "+---------+--------------+-----------------------------+---------------+------------------------------+----------+-------------------------+-------------+----------------------------+----------------+-------------------------------+-----------+--------------------------+-------------+----------------------------+----------------+-------------------------------+------------------+---------------------------------+---------------+------------------------------+-----------------+--------------------------------+----------+-------------------------+-----------------+--------------------------------+------------------+---------------------------------+--------------+\n",
      "only showing top 20 rows\n",
      "\n"
     ]
    },
    {
     "name": "stderr",
     "output_type": "stream",
     "text": [
      "\r",
      "                                                                                \r"
     ]
    }
   ],
   "source": [
    "from pyspark.sql import SparkSession\n",
    "from pyspark.sql.functions import col, max as spark_max, sum as spark_sum, count as spark_count, unix_timestamp\n",
    "from pyspark.sql.types import IntegerType\n",
    "import datetime\n",
    "from pyspark.sql.functions import udf\n",
    "\n",
    "\n",
    "\n",
    "\n",
    "data = combined_df.withColumn(\"event_time\", unix_timestamp(col(\"event_time\"), \"yyyy-MM-dd HH:mm:ss\").cast(\"timestamp\"))\n",
    "\n",
    "\n",
    "last_date = data.agg(spark_max(\"event_time\")).collect()[0][0] + datetime.timedelta(days=1)\n",
    "\n",
    "recency_udf = udf(lambda x: (last_date - x).days, IntegerType())\n",
    "\n",
    "\n",
    "intermediate_df = data.withColumn(\n",
    "    \"view\", when(col(\"event_type\") == \"view\", 1).otherwise(0)\n",
    ").withColumn(\n",
    "    \"purchase_value\", when(col(\"event_type\") == \"purchase\", col(\"price\")).otherwise(0)\n",
    ")\n",
    "\n",
    "# Définir la liste des catégories pour le pivot\n",
    "categories = [\n",
    "    \"medicine\", \"computers\", \"auto\", \"unknown\", \"stationery\",\n",
    "    \"sport\", \"apparel\", \"appliances\", \"country_yard\", \"furniture\",\n",
    "    \"accessories\", \"kids\", \"electronics\", \"construction\"\n",
    "]\n",
    "\n",
    "# Pivotement des données pour créer une colonne pour chaque catégorie et type de mesure\n",
    "pivot_df = intermediate_df.groupBy(\"user_id\").pivot(\n",
    "    \"primary_category\", categories\n",
    ").agg(\n",
    "    count(\"view\").alias(\"views\"),\n",
    "    sum(\"purchase_value\").alias(\"total_purchase_value\")\n",
    ")\n",
    "\n",
    "# Joindre le DataFrame pivoté avec la récence globale\n",
    "# Calculer la récence globale en utilisant l'UDF et le dernier événement pour chaque utilisateur\n",
    "global_recency = data.groupBy(\"user_id\").agg(\n",
    "    recency_udf(spark_max(\"event_time\")).alias(\"global_recency\")\n",
    ")\n",
    "\n",
    "final_df = pivot_df.join(global_recency, \"user_id\")\n",
    "\n",
    "# Affichage du DataFrame résultant pour vérifier\n",
    "final_df.show()\n"
   ]
  },
  {
   "cell_type": "code",
   "execution_count": 24,
   "id": "d4ffe241",
   "metadata": {},
   "outputs": [],
   "source": [
    "for column in final_df.columns:\n",
    "    if column != \"global_recency\":\n",
    "        final_df = final_df.fillna({column: 0})\n"
   ]
  },
  {
   "cell_type": "code",
   "execution_count": 28,
   "id": "b1189a11",
   "metadata": {},
   "outputs": [
    {
     "ename": "ConnectionRefusedError",
     "evalue": "[Errno 111] Connection refused",
     "output_type": "error",
     "traceback": [
      "\u001b[0;31m---------------------------------------------------------------------------\u001b[0m",
      "\u001b[0;31mConnectionRefusedError\u001b[0m                    Traceback (most recent call last)",
      "Cell \u001b[0;32mIn[28], line 1\u001b[0m\n\u001b[0;32m----> 1\u001b[0m \u001b[43mfinal_df\u001b[49m\u001b[38;5;241;43m.\u001b[39;49m\u001b[43mshow\u001b[49m\u001b[43m(\u001b[49m\u001b[43m)\u001b[49m\n",
      "File \u001b[0;32m~/.local/lib/python3.12/site-packages/pyspark/sql/dataframe.py:945\u001b[0m, in \u001b[0;36mDataFrame.show\u001b[0;34m(self, n, truncate, vertical)\u001b[0m\n\u001b[1;32m    885\u001b[0m \u001b[38;5;28;01mdef\u001b[39;00m \u001b[38;5;21mshow\u001b[39m(\u001b[38;5;28mself\u001b[39m, n: \u001b[38;5;28mint\u001b[39m \u001b[38;5;241m=\u001b[39m \u001b[38;5;241m20\u001b[39m, truncate: Union[\u001b[38;5;28mbool\u001b[39m, \u001b[38;5;28mint\u001b[39m] \u001b[38;5;241m=\u001b[39m \u001b[38;5;28;01mTrue\u001b[39;00m, vertical: \u001b[38;5;28mbool\u001b[39m \u001b[38;5;241m=\u001b[39m \u001b[38;5;28;01mFalse\u001b[39;00m) \u001b[38;5;241m-\u001b[39m\u001b[38;5;241m>\u001b[39m \u001b[38;5;28;01mNone\u001b[39;00m:\n\u001b[1;32m    886\u001b[0m \u001b[38;5;250m    \u001b[39m\u001b[38;5;124;03m\"\"\"Prints the first ``n`` rows to the console.\u001b[39;00m\n\u001b[1;32m    887\u001b[0m \n\u001b[1;32m    888\u001b[0m \u001b[38;5;124;03m    .. versionadded:: 1.3.0\u001b[39;00m\n\u001b[0;32m   (...)\u001b[0m\n\u001b[1;32m    943\u001b[0m \u001b[38;5;124;03m    name | Bob\u001b[39;00m\n\u001b[1;32m    944\u001b[0m \u001b[38;5;124;03m    \"\"\"\u001b[39;00m\n\u001b[0;32m--> 945\u001b[0m     \u001b[38;5;28mprint\u001b[39m(\u001b[38;5;28;43mself\u001b[39;49m\u001b[38;5;241;43m.\u001b[39;49m\u001b[43m_show_string\u001b[49m\u001b[43m(\u001b[49m\u001b[43mn\u001b[49m\u001b[43m,\u001b[49m\u001b[43m \u001b[49m\u001b[43mtruncate\u001b[49m\u001b[43m,\u001b[49m\u001b[43m \u001b[49m\u001b[43mvertical\u001b[49m\u001b[43m)\u001b[49m)\n",
      "File \u001b[0;32m~/.local/lib/python3.12/site-packages/pyspark/sql/dataframe.py:963\u001b[0m, in \u001b[0;36mDataFrame._show_string\u001b[0;34m(self, n, truncate, vertical)\u001b[0m\n\u001b[1;32m    957\u001b[0m     \u001b[38;5;28;01mraise\u001b[39;00m PySparkTypeError(\n\u001b[1;32m    958\u001b[0m         error_class\u001b[38;5;241m=\u001b[39m\u001b[38;5;124m\"\u001b[39m\u001b[38;5;124mNOT_BOOL\u001b[39m\u001b[38;5;124m\"\u001b[39m,\n\u001b[1;32m    959\u001b[0m         message_parameters\u001b[38;5;241m=\u001b[39m{\u001b[38;5;124m\"\u001b[39m\u001b[38;5;124marg_name\u001b[39m\u001b[38;5;124m\"\u001b[39m: \u001b[38;5;124m\"\u001b[39m\u001b[38;5;124mvertical\u001b[39m\u001b[38;5;124m\"\u001b[39m, \u001b[38;5;124m\"\u001b[39m\u001b[38;5;124marg_type\u001b[39m\u001b[38;5;124m\"\u001b[39m: \u001b[38;5;28mtype\u001b[39m(vertical)\u001b[38;5;241m.\u001b[39m\u001b[38;5;18m__name__\u001b[39m},\n\u001b[1;32m    960\u001b[0m     )\n\u001b[1;32m    962\u001b[0m \u001b[38;5;28;01mif\u001b[39;00m \u001b[38;5;28misinstance\u001b[39m(truncate, \u001b[38;5;28mbool\u001b[39m) \u001b[38;5;129;01mand\u001b[39;00m truncate:\n\u001b[0;32m--> 963\u001b[0m     \u001b[38;5;28;01mreturn\u001b[39;00m \u001b[38;5;28;43mself\u001b[39;49m\u001b[38;5;241;43m.\u001b[39;49m\u001b[43m_jdf\u001b[49m\u001b[38;5;241;43m.\u001b[39;49m\u001b[43mshowString\u001b[49m\u001b[43m(\u001b[49m\u001b[43mn\u001b[49m\u001b[43m,\u001b[49m\u001b[43m \u001b[49m\u001b[38;5;241;43m20\u001b[39;49m\u001b[43m,\u001b[49m\u001b[43m \u001b[49m\u001b[43mvertical\u001b[49m\u001b[43m)\u001b[49m\n\u001b[1;32m    964\u001b[0m \u001b[38;5;28;01melse\u001b[39;00m:\n\u001b[1;32m    965\u001b[0m     \u001b[38;5;28;01mtry\u001b[39;00m:\n",
      "File \u001b[0;32m~/.local/lib/python3.12/site-packages/py4j/java_gateway.py:1321\u001b[0m, in \u001b[0;36mJavaMember.__call__\u001b[0;34m(self, *args)\u001b[0m\n\u001b[1;32m   1314\u001b[0m args_command, temp_args \u001b[38;5;241m=\u001b[39m \u001b[38;5;28mself\u001b[39m\u001b[38;5;241m.\u001b[39m_build_args(\u001b[38;5;241m*\u001b[39margs)\n\u001b[1;32m   1316\u001b[0m command \u001b[38;5;241m=\u001b[39m proto\u001b[38;5;241m.\u001b[39mCALL_COMMAND_NAME \u001b[38;5;241m+\u001b[39m\\\n\u001b[1;32m   1317\u001b[0m     \u001b[38;5;28mself\u001b[39m\u001b[38;5;241m.\u001b[39mcommand_header \u001b[38;5;241m+\u001b[39m\\\n\u001b[1;32m   1318\u001b[0m     args_command \u001b[38;5;241m+\u001b[39m\\\n\u001b[1;32m   1319\u001b[0m     proto\u001b[38;5;241m.\u001b[39mEND_COMMAND_PART\n\u001b[0;32m-> 1321\u001b[0m answer \u001b[38;5;241m=\u001b[39m \u001b[38;5;28;43mself\u001b[39;49m\u001b[38;5;241;43m.\u001b[39;49m\u001b[43mgateway_client\u001b[49m\u001b[38;5;241;43m.\u001b[39;49m\u001b[43msend_command\u001b[49m\u001b[43m(\u001b[49m\u001b[43mcommand\u001b[49m\u001b[43m)\u001b[49m\n\u001b[1;32m   1322\u001b[0m return_value \u001b[38;5;241m=\u001b[39m get_return_value(\n\u001b[1;32m   1323\u001b[0m     answer, \u001b[38;5;28mself\u001b[39m\u001b[38;5;241m.\u001b[39mgateway_client, \u001b[38;5;28mself\u001b[39m\u001b[38;5;241m.\u001b[39mtarget_id, \u001b[38;5;28mself\u001b[39m\u001b[38;5;241m.\u001b[39mname)\n\u001b[1;32m   1325\u001b[0m \u001b[38;5;28;01mfor\u001b[39;00m temp_arg \u001b[38;5;129;01min\u001b[39;00m temp_args:\n",
      "File \u001b[0;32m~/.local/lib/python3.12/site-packages/py4j/java_gateway.py:1036\u001b[0m, in \u001b[0;36mGatewayClient.send_command\u001b[0;34m(self, command, retry, binary)\u001b[0m\n\u001b[1;32m   1015\u001b[0m \u001b[38;5;28;01mdef\u001b[39;00m \u001b[38;5;21msend_command\u001b[39m(\u001b[38;5;28mself\u001b[39m, command, retry\u001b[38;5;241m=\u001b[39m\u001b[38;5;28;01mTrue\u001b[39;00m, binary\u001b[38;5;241m=\u001b[39m\u001b[38;5;28;01mFalse\u001b[39;00m):\n\u001b[1;32m   1016\u001b[0m \u001b[38;5;250m    \u001b[39m\u001b[38;5;124;03m\"\"\"Sends a command to the JVM. This method is not intended to be\u001b[39;00m\n\u001b[1;32m   1017\u001b[0m \u001b[38;5;124;03m       called directly by Py4J users. It is usually called by\u001b[39;00m\n\u001b[1;32m   1018\u001b[0m \u001b[38;5;124;03m       :class:`JavaMember` instances.\u001b[39;00m\n\u001b[0;32m   (...)\u001b[0m\n\u001b[1;32m   1034\u001b[0m \u001b[38;5;124;03m     if `binary` is `True`.\u001b[39;00m\n\u001b[1;32m   1035\u001b[0m \u001b[38;5;124;03m    \"\"\"\u001b[39;00m\n\u001b[0;32m-> 1036\u001b[0m     connection \u001b[38;5;241m=\u001b[39m \u001b[38;5;28;43mself\u001b[39;49m\u001b[38;5;241;43m.\u001b[39;49m\u001b[43m_get_connection\u001b[49m\u001b[43m(\u001b[49m\u001b[43m)\u001b[49m\n\u001b[1;32m   1037\u001b[0m     \u001b[38;5;28;01mtry\u001b[39;00m:\n\u001b[1;32m   1038\u001b[0m         response \u001b[38;5;241m=\u001b[39m connection\u001b[38;5;241m.\u001b[39msend_command(command)\n",
      "File \u001b[0;32m~/.local/lib/python3.12/site-packages/py4j/clientserver.py:284\u001b[0m, in \u001b[0;36mJavaClient._get_connection\u001b[0;34m(self)\u001b[0m\n\u001b[1;32m    281\u001b[0m     \u001b[38;5;28;01mpass\u001b[39;00m\n\u001b[1;32m    283\u001b[0m \u001b[38;5;28;01mif\u001b[39;00m connection \u001b[38;5;129;01mis\u001b[39;00m \u001b[38;5;28;01mNone\u001b[39;00m \u001b[38;5;129;01mor\u001b[39;00m connection\u001b[38;5;241m.\u001b[39msocket \u001b[38;5;129;01mis\u001b[39;00m \u001b[38;5;28;01mNone\u001b[39;00m:\n\u001b[0;32m--> 284\u001b[0m     connection \u001b[38;5;241m=\u001b[39m \u001b[38;5;28;43mself\u001b[39;49m\u001b[38;5;241;43m.\u001b[39;49m\u001b[43m_create_new_connection\u001b[49m\u001b[43m(\u001b[49m\u001b[43m)\u001b[49m\n\u001b[1;32m    285\u001b[0m \u001b[38;5;28;01mreturn\u001b[39;00m connection\n",
      "File \u001b[0;32m~/.local/lib/python3.12/site-packages/py4j/clientserver.py:291\u001b[0m, in \u001b[0;36mJavaClient._create_new_connection\u001b[0;34m(self)\u001b[0m\n\u001b[1;32m    287\u001b[0m \u001b[38;5;28;01mdef\u001b[39;00m \u001b[38;5;21m_create_new_connection\u001b[39m(\u001b[38;5;28mself\u001b[39m):\n\u001b[1;32m    288\u001b[0m     connection \u001b[38;5;241m=\u001b[39m ClientServerConnection(\n\u001b[1;32m    289\u001b[0m         \u001b[38;5;28mself\u001b[39m\u001b[38;5;241m.\u001b[39mjava_parameters, \u001b[38;5;28mself\u001b[39m\u001b[38;5;241m.\u001b[39mpython_parameters,\n\u001b[1;32m    290\u001b[0m         \u001b[38;5;28mself\u001b[39m\u001b[38;5;241m.\u001b[39mgateway_property, \u001b[38;5;28mself\u001b[39m)\n\u001b[0;32m--> 291\u001b[0m     \u001b[43mconnection\u001b[49m\u001b[38;5;241;43m.\u001b[39;49m\u001b[43mconnect_to_java_server\u001b[49m\u001b[43m(\u001b[49m\u001b[43m)\u001b[49m\n\u001b[1;32m    292\u001b[0m     \u001b[38;5;28mself\u001b[39m\u001b[38;5;241m.\u001b[39mset_thread_connection(connection)\n\u001b[1;32m    293\u001b[0m     \u001b[38;5;28;01mreturn\u001b[39;00m connection\n",
      "File \u001b[0;32m~/.local/lib/python3.12/site-packages/py4j/clientserver.py:438\u001b[0m, in \u001b[0;36mClientServerConnection.connect_to_java_server\u001b[0;34m(self)\u001b[0m\n\u001b[1;32m    435\u001b[0m \u001b[38;5;28;01mif\u001b[39;00m \u001b[38;5;28mself\u001b[39m\u001b[38;5;241m.\u001b[39mssl_context:\n\u001b[1;32m    436\u001b[0m     \u001b[38;5;28mself\u001b[39m\u001b[38;5;241m.\u001b[39msocket \u001b[38;5;241m=\u001b[39m \u001b[38;5;28mself\u001b[39m\u001b[38;5;241m.\u001b[39mssl_context\u001b[38;5;241m.\u001b[39mwrap_socket(\n\u001b[1;32m    437\u001b[0m         \u001b[38;5;28mself\u001b[39m\u001b[38;5;241m.\u001b[39msocket, server_hostname\u001b[38;5;241m=\u001b[39m\u001b[38;5;28mself\u001b[39m\u001b[38;5;241m.\u001b[39mjava_address)\n\u001b[0;32m--> 438\u001b[0m \u001b[38;5;28;43mself\u001b[39;49m\u001b[38;5;241;43m.\u001b[39;49m\u001b[43msocket\u001b[49m\u001b[38;5;241;43m.\u001b[39;49m\u001b[43mconnect\u001b[49m\u001b[43m(\u001b[49m\u001b[43m(\u001b[49m\u001b[38;5;28;43mself\u001b[39;49m\u001b[38;5;241;43m.\u001b[39;49m\u001b[43mjava_address\u001b[49m\u001b[43m,\u001b[49m\u001b[43m \u001b[49m\u001b[38;5;28;43mself\u001b[39;49m\u001b[38;5;241;43m.\u001b[39;49m\u001b[43mjava_port\u001b[49m\u001b[43m)\u001b[49m\u001b[43m)\u001b[49m\n\u001b[1;32m    439\u001b[0m \u001b[38;5;28mself\u001b[39m\u001b[38;5;241m.\u001b[39mstream \u001b[38;5;241m=\u001b[39m \u001b[38;5;28mself\u001b[39m\u001b[38;5;241m.\u001b[39msocket\u001b[38;5;241m.\u001b[39mmakefile(\u001b[38;5;124m\"\u001b[39m\u001b[38;5;124mrb\u001b[39m\u001b[38;5;124m\"\u001b[39m)\n\u001b[1;32m    440\u001b[0m \u001b[38;5;28mself\u001b[39m\u001b[38;5;241m.\u001b[39mis_connected \u001b[38;5;241m=\u001b[39m \u001b[38;5;28;01mTrue\u001b[39;00m\n",
      "\u001b[0;31mConnectionRefusedError\u001b[0m: [Errno 111] Connection refused"
     ]
    }
   ],
   "source": [
    "final_df.show()"
   ]
  },
  {
   "cell_type": "code",
   "execution_count": 27,
   "id": "7b2fe764",
   "metadata": {},
   "outputs": [
    {
     "name": "stderr",
     "output_type": "stream",
     "text": [
      "ERROR:root:Exception while sending command.                        (8 + 6) / 14]\n",
      "Traceback (most recent call last):\n",
      "  File \"/home/ghani/.local/lib/python3.12/site-packages/py4j/clientserver.py\", line 516, in send_command\n",
      "    raise Py4JNetworkError(\"Answer from Java side is empty\")\n",
      "py4j.protocol.Py4JNetworkError: Answer from Java side is empty\n",
      "\n",
      "During handling of the above exception, another exception occurred:\n",
      "\n",
      "Traceback (most recent call last):\n",
      "  File \"/home/ghani/.local/lib/python3.12/site-packages/py4j/java_gateway.py\", line 1038, in send_command\n",
      "    response = connection.send_command(command)\n",
      "               ^^^^^^^^^^^^^^^^^^^^^^^^^^^^^^^^\n",
      "  File \"/home/ghani/.local/lib/python3.12/site-packages/py4j/clientserver.py\", line 539, in send_command\n",
      "    raise Py4JNetworkError(\n",
      "py4j.protocol.Py4JNetworkError: Error while sending or receiving\n"
     ]
    },
    {
     "ename": "Py4JError",
     "evalue": "An error occurred while calling o488.parquet",
     "output_type": "error",
     "traceback": [
      "\u001b[0;31m---------------------------------------------------------------------------\u001b[0m",
      "\u001b[0;31mPy4JError\u001b[0m                                 Traceback (most recent call last)",
      "Cell \u001b[0;32mIn[27], line 1\u001b[0m\n\u001b[0;32m----> 1\u001b[0m \u001b[43mfinal_df\u001b[49m\u001b[38;5;241;43m.\u001b[39;49m\u001b[43mwrite\u001b[49m\u001b[38;5;241;43m.\u001b[39;49m\u001b[43mparquet\u001b[49m\u001b[43m(\u001b[49m\u001b[38;5;124;43m'\u001b[39;49m\u001b[38;5;124;43m/home/ghani/Bureau/Data/final_df.parquet\u001b[39;49m\u001b[38;5;124;43m'\u001b[39;49m\u001b[43m)\u001b[49m\n",
      "File \u001b[0;32m~/.local/lib/python3.12/site-packages/pyspark/sql/readwriter.py:1721\u001b[0m, in \u001b[0;36mDataFrameWriter.parquet\u001b[0;34m(self, path, mode, partitionBy, compression)\u001b[0m\n\u001b[1;32m   1719\u001b[0m     \u001b[38;5;28mself\u001b[39m\u001b[38;5;241m.\u001b[39mpartitionBy(partitionBy)\n\u001b[1;32m   1720\u001b[0m \u001b[38;5;28mself\u001b[39m\u001b[38;5;241m.\u001b[39m_set_opts(compression\u001b[38;5;241m=\u001b[39mcompression)\n\u001b[0;32m-> 1721\u001b[0m \u001b[38;5;28;43mself\u001b[39;49m\u001b[38;5;241;43m.\u001b[39;49m\u001b[43m_jwrite\u001b[49m\u001b[38;5;241;43m.\u001b[39;49m\u001b[43mparquet\u001b[49m\u001b[43m(\u001b[49m\u001b[43mpath\u001b[49m\u001b[43m)\u001b[49m\n",
      "File \u001b[0;32m~/.local/lib/python3.12/site-packages/py4j/java_gateway.py:1322\u001b[0m, in \u001b[0;36mJavaMember.__call__\u001b[0;34m(self, *args)\u001b[0m\n\u001b[1;32m   1316\u001b[0m command \u001b[38;5;241m=\u001b[39m proto\u001b[38;5;241m.\u001b[39mCALL_COMMAND_NAME \u001b[38;5;241m+\u001b[39m\\\n\u001b[1;32m   1317\u001b[0m     \u001b[38;5;28mself\u001b[39m\u001b[38;5;241m.\u001b[39mcommand_header \u001b[38;5;241m+\u001b[39m\\\n\u001b[1;32m   1318\u001b[0m     args_command \u001b[38;5;241m+\u001b[39m\\\n\u001b[1;32m   1319\u001b[0m     proto\u001b[38;5;241m.\u001b[39mEND_COMMAND_PART\n\u001b[1;32m   1321\u001b[0m answer \u001b[38;5;241m=\u001b[39m \u001b[38;5;28mself\u001b[39m\u001b[38;5;241m.\u001b[39mgateway_client\u001b[38;5;241m.\u001b[39msend_command(command)\n\u001b[0;32m-> 1322\u001b[0m return_value \u001b[38;5;241m=\u001b[39m \u001b[43mget_return_value\u001b[49m\u001b[43m(\u001b[49m\n\u001b[1;32m   1323\u001b[0m \u001b[43m    \u001b[49m\u001b[43manswer\u001b[49m\u001b[43m,\u001b[49m\u001b[43m \u001b[49m\u001b[38;5;28;43mself\u001b[39;49m\u001b[38;5;241;43m.\u001b[39;49m\u001b[43mgateway_client\u001b[49m\u001b[43m,\u001b[49m\u001b[43m \u001b[49m\u001b[38;5;28;43mself\u001b[39;49m\u001b[38;5;241;43m.\u001b[39;49m\u001b[43mtarget_id\u001b[49m\u001b[43m,\u001b[49m\u001b[43m \u001b[49m\u001b[38;5;28;43mself\u001b[39;49m\u001b[38;5;241;43m.\u001b[39;49m\u001b[43mname\u001b[49m\u001b[43m)\u001b[49m\n\u001b[1;32m   1325\u001b[0m \u001b[38;5;28;01mfor\u001b[39;00m temp_arg \u001b[38;5;129;01min\u001b[39;00m temp_args:\n\u001b[1;32m   1326\u001b[0m     \u001b[38;5;28;01mif\u001b[39;00m \u001b[38;5;28mhasattr\u001b[39m(temp_arg, \u001b[38;5;124m\"\u001b[39m\u001b[38;5;124m_detach\u001b[39m\u001b[38;5;124m\"\u001b[39m):\n",
      "File \u001b[0;32m~/.local/lib/python3.12/site-packages/pyspark/errors/exceptions/captured.py:179\u001b[0m, in \u001b[0;36mcapture_sql_exception.<locals>.deco\u001b[0;34m(*a, **kw)\u001b[0m\n\u001b[1;32m    177\u001b[0m \u001b[38;5;28;01mdef\u001b[39;00m \u001b[38;5;21mdeco\u001b[39m(\u001b[38;5;241m*\u001b[39ma: Any, \u001b[38;5;241m*\u001b[39m\u001b[38;5;241m*\u001b[39mkw: Any) \u001b[38;5;241m-\u001b[39m\u001b[38;5;241m>\u001b[39m Any:\n\u001b[1;32m    178\u001b[0m     \u001b[38;5;28;01mtry\u001b[39;00m:\n\u001b[0;32m--> 179\u001b[0m         \u001b[38;5;28;01mreturn\u001b[39;00m \u001b[43mf\u001b[49m\u001b[43m(\u001b[49m\u001b[38;5;241;43m*\u001b[39;49m\u001b[43ma\u001b[49m\u001b[43m,\u001b[49m\u001b[43m \u001b[49m\u001b[38;5;241;43m*\u001b[39;49m\u001b[38;5;241;43m*\u001b[39;49m\u001b[43mkw\u001b[49m\u001b[43m)\u001b[49m\n\u001b[1;32m    180\u001b[0m     \u001b[38;5;28;01mexcept\u001b[39;00m Py4JJavaError \u001b[38;5;28;01mas\u001b[39;00m e:\n\u001b[1;32m    181\u001b[0m         converted \u001b[38;5;241m=\u001b[39m convert_exception(e\u001b[38;5;241m.\u001b[39mjava_exception)\n",
      "File \u001b[0;32m~/.local/lib/python3.12/site-packages/py4j/protocol.py:334\u001b[0m, in \u001b[0;36mget_return_value\u001b[0;34m(answer, gateway_client, target_id, name)\u001b[0m\n\u001b[1;32m    330\u001b[0m             \u001b[38;5;28;01mraise\u001b[39;00m Py4JError(\n\u001b[1;32m    331\u001b[0m                 \u001b[38;5;124m\"\u001b[39m\u001b[38;5;124mAn error occurred while calling \u001b[39m\u001b[38;5;132;01m{0}\u001b[39;00m\u001b[38;5;132;01m{1}\u001b[39;00m\u001b[38;5;132;01m{2}\u001b[39;00m\u001b[38;5;124m. Trace:\u001b[39m\u001b[38;5;130;01m\\n\u001b[39;00m\u001b[38;5;132;01m{3}\u001b[39;00m\u001b[38;5;130;01m\\n\u001b[39;00m\u001b[38;5;124m\"\u001b[39m\u001b[38;5;241m.\u001b[39m\n\u001b[1;32m    332\u001b[0m                 \u001b[38;5;28mformat\u001b[39m(target_id, \u001b[38;5;124m\"\u001b[39m\u001b[38;5;124m.\u001b[39m\u001b[38;5;124m\"\u001b[39m, name, value))\n\u001b[1;32m    333\u001b[0m     \u001b[38;5;28;01melse\u001b[39;00m:\n\u001b[0;32m--> 334\u001b[0m         \u001b[38;5;28;01mraise\u001b[39;00m Py4JError(\n\u001b[1;32m    335\u001b[0m             \u001b[38;5;124m\"\u001b[39m\u001b[38;5;124mAn error occurred while calling \u001b[39m\u001b[38;5;132;01m{0}\u001b[39;00m\u001b[38;5;132;01m{1}\u001b[39;00m\u001b[38;5;132;01m{2}\u001b[39;00m\u001b[38;5;124m\"\u001b[39m\u001b[38;5;241m.\u001b[39m\n\u001b[1;32m    336\u001b[0m             \u001b[38;5;28mformat\u001b[39m(target_id, \u001b[38;5;124m\"\u001b[39m\u001b[38;5;124m.\u001b[39m\u001b[38;5;124m\"\u001b[39m, name))\n\u001b[1;32m    337\u001b[0m \u001b[38;5;28;01melse\u001b[39;00m:\n\u001b[1;32m    338\u001b[0m     \u001b[38;5;28mtype\u001b[39m \u001b[38;5;241m=\u001b[39m answer[\u001b[38;5;241m1\u001b[39m]\n",
      "\u001b[0;31mPy4JError\u001b[0m: An error occurred while calling o488.parquet"
     ]
    }
   ],
   "source": [
    "final_df.write.parquet('/home/ghani/Bureau/Data/final_df.parquet')"
   ]
  }
 ],
 "metadata": {
  "kernelspec": {
   "display_name": "Python 3 (ipykernel)",
   "language": "python",
   "name": "python3"
  },
  "language_info": {
   "codemirror_mode": {
    "name": "ipython",
    "version": 3
   },
   "file_extension": ".py",
   "mimetype": "text/x-python",
   "name": "python",
   "nbconvert_exporter": "python",
   "pygments_lexer": "ipython3",
   "version": "3.12.3"
  }
 },
 "nbformat": 4,
 "nbformat_minor": 5
}
